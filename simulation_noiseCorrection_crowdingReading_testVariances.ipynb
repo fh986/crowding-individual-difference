{
 "cells": [
  {
   "cell_type": "markdown",
   "id": "f2552f3b",
   "metadata": {},
   "source": [
    "#### This notebook tests the noise-corrected correlation formula on simulated crowding thresholds and reading speeds.\n",
    "Created Jan 13, 2025  //  Last updated Mar 4, 2025"
   ]
  },
  {
   "cell_type": "code",
   "execution_count": 33,
   "id": "fcc683f1",
   "metadata": {},
   "outputs": [],
   "source": [
    "import pandas as pd\n",
    "import numpy as np\n",
    "from scipy.stats import pearsonr\n",
    "import matplotlib.pyplot as plt\n",
    "import scipy.stats as stats\n",
    "from scipy.stats import pearsonr, norm\n",
    "import random\n",
    "import matplotlib.colors as mcolors"
   ]
  },
  {
   "cell_type": "code",
   "execution_count": null,
   "id": "411360cb",
   "metadata": {},
   "outputs": [],
   "source": [
    "random.seed(42)"
   ]
  },
  {
   "cell_type": "markdown",
   "id": "26baaa13",
   "metadata": {},
   "source": [
    "Below is data Helen sent on Feb 3 to inform mean crowding threshold and learning factor."
   ]
  },
  {
   "cell_type": "code",
   "execution_count": 35,
   "id": "b1b02968",
   "metadata": {},
   "outputs": [],
   "source": [
    "# # latest crowding means by block (log bouma)\n",
    "# crowding_thresh = np.array([-0.426, -0.489, -0.525, -0.537, -0.563, -0.568])\n",
    "# crowding_thresh_changes = np.array([np.abs(crowding_thresh[1] - crowding_thresh[0]), \n",
    "#                                     np.abs(crowding_thresh[2] - crowding_thresh[1]),\n",
    "#                                     np.abs(crowding_thresh[3] - crowding_thresh[2]),\n",
    "#                                     np.abs(crowding_thresh[4] - crowding_thresh[3]),\n",
    "#                                     np.abs(crowding_thresh[5] - crowding_thresh[4])])\n",
    "# plt.plot(np.arange(1,6), crowding_thresh_changes)\n",
    "# plt.xlabel('start block', size=14)\n",
    "# plt.ylabel('absolute change in log bouma', size=14)\n",
    "# plt.title('Helen\\'s data', size=16)"
   ]
  },
  {
   "cell_type": "markdown",
   "id": "07dd7b68",
   "metadata": {},
   "source": [
    "## Functions for simulations"
   ]
  },
  {
   "cell_type": "code",
   "execution_count": 36,
   "id": "451ae5a5",
   "metadata": {},
   "outputs": [],
   "source": [
    "class def_variable_parameters:\n",
    "    \n",
    "    def __init__(self, betweenVar, withinVar, mean, learning_factor):\n",
    "        self.ObsVar = betweenVar\n",
    "        self.MeasVar = withinVar\n",
    "        self.Mean = mean\n",
    "        self.learning_factor = learning_factor"
   ]
  },
  {
   "cell_type": "code",
   "execution_count": 37,
   "id": "b9c00e2e",
   "metadata": {},
   "outputs": [],
   "source": [
    "def simulate_psychophysics_data(crowding_params, rsvp_params, n_samples=100, n_measurements=6, correlation = -0.7):\n",
    "    '''\n",
    "    Simulates crowding (log Bouma factors) and RSVP reading (log words/min) data\n",
    "    for specified number of samples and measurements per sample for each task\n",
    "    \n",
    "    Returns dataframe containing: the ground truth threshold for each task/participant, each measurement, \n",
    "    and the mean of those measurements for each \"participant\" (sample)\n",
    "    \n",
    "    # Parameters for the simulation\n",
    "    The two required inputs are two objects, \n",
    "    each containing the parameters of the x and the y components of this correlation simulation.\n",
    "     '''\n",
    "\n",
    "    # Covariance matrix for the \"true\" thresholds\n",
    "    cov_matrix = np.array([\n",
    "        [crowding_params.ObsVar, correlation * np.sqrt(crowding_params.ObsVar * rsvp_params.ObsVar)],\n",
    "        [correlation * np.sqrt(crowding_params.ObsVar * rsvp_params.ObsVar), rsvp_params.ObsVar]\n",
    "    ])\n",
    "\n",
    "    # Simulate \"true\" thresholds for crowding and RSVP reading\n",
    "    true_thresholds = np.random.multivariate_normal(\n",
    "        mean=[crowding_params.Mean, rsvp_params.Mean],\n",
    "        cov=cov_matrix,\n",
    "        size=n_samples\n",
    "    )\n",
    "\n",
    "    # Extract \"true\" values for crowding and RSVP\n",
    "    true_crowding = true_thresholds[:, 0]\n",
    "    true_rsvp = true_thresholds[:, 1]\n",
    "\n",
    "    # Initialize a dictionary to store measurements\n",
    "    data = {\n",
    "        'crowding_true': true_crowding,\n",
    "        'rsvp_true': true_rsvp,\n",
    "    }\n",
    "\n",
    "    # Simulate noisy measurements for both tasks in a single loop\n",
    "    # Account for learning in crowding task \n",
    "    crowding_measurements = []\n",
    "    rsvp_measurements = []\n",
    "    for i in range(n_measurements):\n",
    "        crowding_noise = np.random.normal(0, np.sqrt(crowding_params.MeasVar), size=n_samples)\n",
    "        rsvp_noise = np.random.normal(0, np.sqrt(rsvp_params.MeasVar), size=n_samples)\n",
    "        \n",
    "        # Calculate noisy measurements \n",
    "        crowding_measurement = true_crowding + crowding_noise\n",
    "        rsvp_measurement = true_rsvp + rsvp_noise\n",
    "        \n",
    "        # Increase initial crowding thresholds by learning factor (since learning hasn't yet occurred)\n",
    "        if i == 0:\n",
    "            crowding_measurement += 2 * crowding_params.learning_factor\n",
    "        if i == 1:\n",
    "            crowding_measurement += crowding_params.learning_factor\n",
    "\n",
    "        # Add individual measurements to the dictionary\n",
    "        data[f'crowding_measurement{i+1}'] = crowding_measurement\n",
    "        data[f'rsvp_measurement{i+1}'] = rsvp_measurement\n",
    "\n",
    "        # Collect measurements for later averaging\n",
    "        crowding_measurements.append(crowding_measurement)\n",
    "        rsvp_measurements.append(rsvp_measurement)\n",
    "\n",
    "    # Compute the averages of all measurements\n",
    "    data['crowding_measurement'] = np.mean(crowding_measurements, axis=0)\n",
    "    data['rsvp_measurement'] = np.mean(rsvp_measurements, axis=0)\n",
    "\n",
    "    # Create and return the DataFrame\n",
    "    simulation_data = pd.DataFrame(data)\n",
    "    return simulation_data"
   ]
  },
  {
   "cell_type": "code",
   "execution_count": 38,
   "id": "e797dbed",
   "metadata": {},
   "outputs": [],
   "source": [
    "# test codes for updated function\n",
    "# simulate_psychophysics_data(crowding_param, rsvp_param, n_samples=100, n_measurements=6, correlation = -0.7)\n"
   ]
  },
  {
   "cell_type": "code",
   "execution_count": 39,
   "id": "61f59bac",
   "metadata": {},
   "outputs": [],
   "source": [
    "# simulation_data = simulate_psychophysics_data(n_samples=100, n_measurements=6)\n",
    "# simulation_data = simulation_data[sorted(simulation_data.columns)]\n",
    "# simulation_data.head()"
   ]
  },
  {
   "cell_type": "code",
   "execution_count": 40,
   "id": "39a6b1bf",
   "metadata": {
    "scrolled": true
   },
   "outputs": [],
   "source": [
    "# fig, axes = plt.subplots(1, 2, figsize=(10, 10))\n",
    "# # Scatter plot\n",
    "# ax.scatter(x, y, alpha=0.7)\n",
    "\n",
    "# # Regression line\n",
    "# # UPDATE TO MINIMIZE PRODUCT OF X AND Y RESIDUALS\n",
    "# slope, intercept = np.polyfit(x, y, 1)\n",
    "# x_vals = np.linspace(min(x), max(x), 100)\n",
    "# y_vals = slope * x_vals + intercept\n",
    "# ax.plot(x_vals, y_vals, color='red', linestyle='dashed', label='Trend line')\n",
    "\n",
    "# # Pearson correlation\n",
    "# r, _ = stats.pearsonr(x, y)\n",
    "# ax.text(0.05, 1.05, f'Pearson r = {r:.2f}', transform=ax.transAxes, fontsize=14, color='red')\n",
    "\n",
    "# # Labels and title\n",
    "# ax.set_xlabel(x_name, fontsize=14)\n",
    "# ax.set_ylabel(y_name, fontsize=14)\n",
    "# if title:\n",
    "#     ax.set_title(title)"
   ]
  },
  {
   "cell_type": "code",
   "execution_count": 41,
   "id": "65fa920c",
   "metadata": {},
   "outputs": [],
   "source": [
    "# bin_width = 0.05\n",
    "\n",
    "# plt.figure(figsize=(8, 6))\n",
    "# plt.hist(simulation_data['crowding_true'], \n",
    "#          bins=np.arange(min(simulation_data['crowding_true']), \n",
    "#                         max(simulation_data['crowding_true']) + bin_width, bin_width), \n",
    "#          color='blue', alpha=0.6, label='ground truth', edgecolor='black')\n",
    "# plt.hist(simulation_data['crowding_measurement1'], \n",
    "#          bins=np.arange(min(simulation_data['crowding_measurement1']), \n",
    "#                         max(simulation_data['crowding_measurement1']) + bin_width, bin_width), \n",
    "#          color='green', alpha=0.6, label='measured', edgecolor='black')\n",
    "# plt.xlabel('crowding threshold (log Bouma)')\n",
    "# plt.ylabel('Frequency')\n",
    "# plt.legend()\n",
    "# plt.show()"
   ]
  },
  {
   "cell_type": "code",
   "execution_count": 42,
   "id": "f3a960e2",
   "metadata": {},
   "outputs": [],
   "source": [
    "# mean_across_participants = np.array(np.mean(simulation_data, axis = 0))\n",
    "\n",
    "# plt.plot(np.arange(1,7), mean_across_participants[1:7])\n",
    "# plt.xlabel('block', size=14)\n",
    "# plt.ylabel('log bouma', size=14)\n",
    "# plt.title('simulated', size=16)"
   ]
  },
  {
   "cell_type": "markdown",
   "id": "9290d51f",
   "metadata": {},
   "source": [
    "## Functions for noise-correction"
   ]
  },
  {
   "cell_type": "code",
   "execution_count": 43,
   "id": "32c079af",
   "metadata": {},
   "outputs": [],
   "source": [
    "def compute_variances(data):\n",
    "    '''\n",
    "    takes in n x m dataframe representing n participants and m thresholds (log units)\n",
    "    \n",
    "    returns within-participant and across-participant variances\n",
    "    '''\n",
    "    \n",
    "    # Noise: variance within individuals\n",
    "    within_indiv_var = np.mean(np.var(data, axis = 1, ddof=1))\n",
    "\n",
    "    # Signal: variance across individuals\n",
    "    across_indiv_var = np.var(np.mean(data, axis = 1), ddof=1)\n",
    "    \n",
    "    return within_indiv_var, across_indiv_var"
   ]
  },
  {
   "cell_type": "code",
   "execution_count": 44,
   "id": "1ac2251a",
   "metadata": {},
   "outputs": [],
   "source": [
    "def perform_noise_correction(x, y):\n",
    "    '''\n",
    "    Denis/Anna formula (not quite right)\n",
    "    \n",
    "    applies noise-correction procedure outlined below to x and y\n",
    "    \n",
    "    inputs: two dataframes, each n x m, n participants and m thresholds (log units)\n",
    "    \n",
    "    returns: measured correlation of x and y (means across measurements for each participant)\n",
    "    and noise-corrected correlation\n",
    "    '''\n",
    "    \n",
    "    # Compute within and across individual variances for each variable\n",
    "    x_within_indiv_var, x_across_indiv_var = compute_variances(x)\n",
    "    y_within_indiv_var, y_across_indiv_var = compute_variances(y)\n",
    "    \n",
    "    # Noise-correct the across-indiv variances\n",
    "    varX = x_across_indiv_var - x_within_indiv_var\n",
    "    varY = y_across_indiv_var - y_within_indiv_var\n",
    "    \n",
    "    # Compute noise-to-signal ratios\n",
    "    varM = x_within_indiv_var\n",
    "    varN = y_within_indiv_var\n",
    "    rX = varM / varX\n",
    "    rY = varN / varY\n",
    "    \n",
    "    # Compute measured correlation of x and y (means across measurements for each participant)\n",
    "    measured_corr, _ = pearsonr(np.mean(x, axis=1), np.mean(y, axis=1))\n",
    "\n",
    "    # Compute noise-corrected correlation\n",
    "    corrected_corr = measured_corr * np.sqrt((1 + rX) * (1 + rY))\n",
    "\n",
    "    return measured_corr.round(4), corrected_corr.round(4)"
   ]
  },
  {
   "cell_type": "code",
   "execution_count": 45,
   "id": "b8e433a7",
   "metadata": {},
   "outputs": [],
   "source": [
    "def compute_noise_ceiling(measurements):\n",
    "    \"\"\"\n",
    "    Reference: Diedrichsen\n",
    "    Computes the noise ceiling for a set of repeated measurements.\n",
    "    Uses split-half reliability across multiple measurements and the geometric mean formula.\n",
    "    \"\"\"\n",
    "    n_measurements = measurements.shape[1]\n",
    "    \n",
    "    first_half = measurements.iloc[:, :n_measurements//2]\n",
    "    last_half = measurements.iloc[:, n_measurements//2:]\n",
    "    odd_half = measurements.iloc[:, 1::2]\n",
    "    even_half = measurements.iloc[:, 0::2]\n",
    "    \n",
    "    r_firstLast, _ = pearsonr(np.mean(first_half, axis=1), np.mean(last_half, axis=1))\n",
    "    r_oddEven, _ = pearsonr(np.mean(odd_half, axis=1), np.mean(even_half, axis=1))\n",
    "\n",
    "    # Compute the split-half reliability as the geometric mean\n",
    "    r_i = np.sqrt(r_firstLast * r_oddEven)\n",
    "\n",
    "    # Apply the extrapolation formula for multiple measurements\n",
    "    N = 2\n",
    "    r_m = (N * r_i) / ((r_i * (N - 1)) + 1)\n",
    "\n",
    "    return r_m\n"
   ]
  },
  {
   "cell_type": "code",
   "execution_count": 46,
   "id": "8457489f",
   "metadata": {},
   "outputs": [],
   "source": [
    "# # Jitter function to slightly shift x-values for better visibility\n",
    "# def jitter(values, jitter_amount=0.05):\n",
    "#     return values + np.random.uniform(-jitter_amount, jitter_amount, size=len(values))"
   ]
  },
  {
   "cell_type": "markdown",
   "id": "e0ef4079",
   "metadata": {},
   "source": [
    "Below we run the simulation 1,000 times for each combo of specified sample sizes and number of measurements. For each round we get the mean difference between the ground truth corr and the corrected corr (using Diedrichsen's noise ceiling method). Then we can plot resulting histograms."
   ]
  },
  {
   "cell_type": "code",
   "execution_count": 47,
   "id": "7d9b8a51",
   "metadata": {},
   "outputs": [],
   "source": [
    "def run_simulation(crowding_param, rsvp_param,\n",
    "                   range_samples=[40, 80, 160, 320], range_measurements=[2, 4, 8, 16], n_repetitions=1000,\n",
    "                   true_correlation = -0.6):   \n",
    "\n",
    "    # Store results\n",
    "    hist_corrected_corr = {}\n",
    "    hist_measured_corr = {}\n",
    "    results_corr = []\n",
    "\n",
    "    for n_samples in range_samples:\n",
    "        for n_meas in range_measurements:\n",
    "            diff_list_measured = []\n",
    "            diff_list_corrected = []\n",
    "\n",
    "            for _ in range(n_repetitions):\n",
    "                simulation_data = simulate_psychophysics_data(crowding_param, rsvp_param,\n",
    "                                                              n_samples, n_meas, correlation = true_correlation)\n",
    "\n",
    "                crowding_measurements = simulation_data[[f'crowding_measurement{i+1}' for i in range(n_meas)]]\n",
    "                rsvp_measurements = simulation_data[[f'rsvp_measurement{i+1}' for i in range(n_meas)]]\n",
    "\n",
    "                r_ceil_crowding = compute_noise_ceiling(crowding_measurements)\n",
    "                r_ceil_rsvp = compute_noise_ceiling(rsvp_measurements)\n",
    "\n",
    "                r_ceil = np.sqrt(r_ceil_crowding * r_ceil_rsvp)\n",
    "\n",
    "                measured_corr, _ = pearsonr(simulation_data['crowding_measurement'], simulation_data['rsvp_measurement'])\n",
    "                corrected_corr = measured_corr / r_ceil\n",
    "\n",
    "                diff_list_measured.append(measured_corr - true_correlation)\n",
    "                diff_list_corrected.append(corrected_corr - true_correlation)\n",
    "\n",
    "            hist_measured_corr[(n_samples, n_meas)] = diff_list_measured\n",
    "            hist_corrected_corr[(n_samples, n_meas)] = diff_list_corrected\n",
    "\n",
    "            rmse_measured = np.sqrt(np.mean([x**2 for x in diff_list_measured])) \n",
    "            rmse_corrected = np.sqrt(np.mean([x**2 for x in diff_list_corrected]))\n",
    "\n",
    "            mean_diff_measured = np.mean(diff_list_measured)\n",
    "            mean_diff_corrected = np.mean(diff_list_corrected)\n",
    "\n",
    "            sd_measured = np.std(diff_list_measured)\n",
    "            sd_corrected = np.std(diff_list_corrected)\n",
    "\n",
    "            ci_lower_measured, ci_upper_measured = norm.interval(0.95, loc=mean_diff_measured, \n",
    "                                                                 scale=np.std(diff_list_measured) / np.sqrt(n_repetitions))\n",
    "            ci_lower_corrected, ci_upper_corrected = norm.interval(0.95, loc=mean_diff_corrected, \n",
    "                                                                   scale=np.std(diff_list_corrected) / np.sqrt(n_repetitions))\n",
    "\n",
    "            results_corr.append({\n",
    "                \"n_samples\": n_samples,\n",
    "                \"n_measurements\": n_meas,\n",
    "\n",
    "                \"meanDiff_measured\": mean_diff_measured,\n",
    "                \"rmse_measured\": rmse_measured,\n",
    "                \"sd_measured\": sd_measured,\n",
    "                \"ciLower_measured\": ci_lower_measured,\n",
    "                \"ciUpper_measured\": ci_upper_measured,\n",
    "\n",
    "                \"meanDiff_corrected\": mean_diff_corrected,\n",
    "                \"rmse_corrected\": rmse_corrected,\n",
    "                \"sd_corrected\": sd_corrected,\n",
    "                \"ciLower_corrected\": ci_lower_corrected,\n",
    "                \"ciUpper_corrected\": ci_upper_corrected\n",
    "            })\n",
    "\n",
    "        print(\"done with n_samples =\",n_samples)\n",
    "\n",
    "    results_corr_df = pd.DataFrame(results_corr)\n",
    "   \n",
    "    return results_corr_df, hist_measured_corr, hist_corrected_corr "
   ]
  },
  {
   "cell_type": "markdown",
   "id": "ad09e6c8",
   "metadata": {},
   "source": [
    "## Functions for plotting the results"
   ]
  },
  {
   "cell_type": "code",
   "execution_count": 48,
   "id": "384cc7af",
   "metadata": {},
   "outputs": [],
   "source": [
    "def plot_uncorrected_corrected(results_corr_df, x_values, x_subset_name, line_values, line_subset_name, line_label,\n",
    "                              y_measured_name, y_corrected_name, \n",
    "                              x_label, y_label, colors):\n",
    "\n",
    "    '''\n",
    "    Inputs:\n",
    "    - results_corr_df: data frame containing n_samples, n_measurements, and results \n",
    "                       such as rmse and sd associated with each number of samples/measurements\n",
    "    - x_labels:        lists out what we are plotting on the x axis (e.g., n_samples, n_measurements);\n",
    "    \n",
    "    '''\n",
    "    \n",
    "    plt.figure(figsize=(10, 6))\n",
    "\n",
    "    for i, ll in enumerate(line_values):\n",
    "        subset = results_corr_df[results_corr_df[line_subset_name] == ll]\n",
    "\n",
    "        color = colors[i]\n",
    "        plt.errorbar(subset[x_subset_name], subset[y_measured_name],\n",
    "                     fmt='-o', color=color, label=f\"{ll} (Uncorrected)\")\n",
    "        plt.errorbar(subset[x_subset_name], subset[y_corrected_name],\n",
    "                     fmt='--o', color=color, label=f\"{ll} (Corrected)\")\n",
    "\n",
    "    plt.axhline(0, color='gray', linestyle='dashed', linewidth=1)\n",
    "    plt.ylim(-.02,0.25)\n",
    "    plt.yticks(size=14)\n",
    "    plt.xlabel(x_label, size=18)\n",
    "    plt.ylabel(y_label, size=18)\n",
    "    plt.xscale('log')\n",
    "    plt.xticks(x_values, labels=x_values, size=14)\n",
    "    plt.gca().xaxis.set_minor_locator(plt.NullLocator())\n",
    "\n",
    "    # Keep only one legend entry per sample size\n",
    "    handles, labels = plt.gca().get_legend_handles_labels()\n",
    "    unique_labels = list(dict.fromkeys(labels))  # Preserve order but remove duplicates\n",
    "    unique_handles = [handles[labels.index(label)] for label in unique_labels]\n",
    "\n",
    "    plt.legend(unique_handles, unique_labels, title=line_label, bbox_to_anchor=(1.05, 1), loc='upper left', title_fontsize=16, fontsize=14)\n",
    "\n",
    "    plt.tight_layout()\n",
    "    plt.show()"
   ]
  },
  {
   "cell_type": "code",
   "execution_count": 49,
   "id": "3125fd87",
   "metadata": {
    "scrolled": false
   },
   "outputs": [],
   "source": [
    "def plot_sim_results(results_corr_df):\n",
    "    \n",
    "    sample_sizes = sorted(results_corr_df[\"n_samples\"].unique())\n",
    "    colors = plt.cm.viridis(np.linspace(0, .7, len(sample_sizes)))  # Use colormap for distinct colors\n",
    "    n_measurements = sorted(results_corr_df[\"n_measurements\"].unique())\n",
    "\n",
    "    plot_uncorrected_corrected(results_corr_df, n_measurements, 'n_measurements', sample_sizes,'n_samples','Sample size',\n",
    "                                  'rmse_measured', 'rmse_corrected', \n",
    "                                  'Number of measurements', 'RMSE', colors)\n",
    "\n",
    "\n",
    "    plot_uncorrected_corrected(results_corr_df, sample_sizes, 'n_samples', n_measurements, 'n_measurements','Num measurements',\n",
    "                                  'rmse_measured', 'rmse_corrected', \n",
    "                                  'Number of samples', 'RMSE', colors)\n",
    "\n",
    "\n",
    "    plot_uncorrected_corrected(results_corr_df, n_measurements, 'n_measurements', sample_sizes,'n_samples','Sample size',\n",
    "                                  'meanDiff_measured', 'meanDiff_corrected', \n",
    "                                  'Number of measurements', 'Mean difference', colors)\n",
    "\n",
    "\n",
    "    plot_uncorrected_corrected(results_corr_df, sample_sizes, 'n_samples', n_measurements, 'n_measurements','Num measurements',\n",
    "                                  'meanDiff_measured', 'meanDiff_corrected', \n",
    "                                  'Number of samples', 'Mean difference', colors)\n",
    "\n",
    "    plot_uncorrected_corrected(results_corr_df, n_measurements, 'n_measurements', sample_sizes,'n_samples','Sample size',\n",
    "                                  'sd_measured', 'sd_corrected', \n",
    "                                  'Number of measurements', 'SD', colors)\n",
    "\n",
    "\n",
    "    plot_uncorrected_corrected(results_corr_df, sample_sizes, 'n_samples', n_measurements, 'n_measurements','Num measurements',\n",
    "                                  'sd_measured', 'sd_corrected', \n",
    "                                  'Number of samples', 'SD', colors)"
   ]
  },
  {
   "cell_type": "code",
   "execution_count": 50,
   "id": "5cf44157",
   "metadata": {
    "scrolled": false
   },
   "outputs": [],
   "source": [
    "# # test codes\n",
    "# crowding_param = def_variable_parameters(betweenVar=0.022, withinVar=0.012, mean=-0.426,learning_factor=0.06)\n",
    "# rsvp_param = def_variable_parameters(betweenVar=0.029, withinVar=0.015, mean=2.96,learning_factor=0)\n",
    "# results_corr_df = run_simulation(crowding_param, rsvp_param)\n",
    "# plot_sim_results(results_corr_df)"
   ]
  },
  {
   "cell_type": "markdown",
   "id": "c24ce7c6",
   "metadata": {},
   "source": [
    "## Simulate and plot with different values for variances\n",
    "\n",
    "- Change between-variance for 1 variable\n",
    "- Change within-variance for 1 variable"
   ]
  },
  {
   "cell_type": "code",
   "execution_count": 51,
   "id": "22869f43",
   "metadata": {},
   "outputs": [],
   "source": [
    "# # high between-individual variance for crowding\n",
    "# crowding_param = def_variable_parameters(betweenVar=0.044, withinVar=0.012, mean=-0.426,learning_factor=0.06)\n",
    "# rsvp_param = def_variable_parameters(betweenVar=0.029, withinVar=0.015, mean=2.96,learning_factor=0)\n",
    "# results_corr_df = run_simulation(crowding_param, rsvp_param)\n",
    "# plot_sim_results(results_corr_df)"
   ]
  },
  {
   "cell_type": "code",
   "execution_count": 52,
   "id": "922224a8",
   "metadata": {},
   "outputs": [],
   "source": [
    "# # low between-individual variance for crowding\n",
    "# crowding_param = def_variable_parameters(betweenVar=0.011, withinVar=0.012, mean=-0.426,learning_factor=0.06)\n",
    "# rsvp_param = def_variable_parameters(betweenVar=0.029, withinVar=0.015, mean=2.96,learning_factor=0)\n",
    "# results_corr_df = run_simulation(crowding_param, rsvp_param)\n",
    "# plot_sim_results(results_corr_df)"
   ]
  },
  {
   "cell_type": "code",
   "execution_count": 53,
   "id": "4eb49278",
   "metadata": {},
   "outputs": [],
   "source": [
    "# # high within-individual variance for crowding\n",
    "# crowding_param = def_variable_parameters(betweenVar=0.022, withinVar=0.024, mean=-0.426,learning_factor=0.06)\n",
    "# rsvp_param = def_variable_parameters(betweenVar=0.029, withinVar=0.015, mean=2.96,learning_factor=0)\n",
    "# results_corr_df = run_simulation(crowding_param, rsvp_param)\n",
    "# plot_sim_results(results_corr_df)"
   ]
  },
  {
   "cell_type": "code",
   "execution_count": 54,
   "id": "e45b72ba",
   "metadata": {},
   "outputs": [],
   "source": [
    "# # low within-individual variance for crowding\n",
    "# crowding_param = def_variable_parameters(betweenVar=0.022, withinVar=0.003, mean=-0.426,learning_factor=0.06)\n",
    "# rsvp_param = def_variable_parameters(betweenVar=0.029, withinVar=0.015, mean=2.96,learning_factor=0)\n",
    "# results_corr_df = run_simulation(crowding_param, rsvp_param)\n",
    "# plot_sim_results(results_corr_df)"
   ]
  },
  {
   "cell_type": "code",
   "execution_count": 55,
   "id": "05152156",
   "metadata": {},
   "outputs": [],
   "source": [
    "# # Histograms – MEASURED\n",
    "# for (n_samples, n_measurements), differences in hist_measured_corr.items():\n",
    "#     mean_diff = np.mean(differences)\n",
    "#     sd = np.std(differences)\n",
    "\n",
    "#     plt.figure(figsize=(5, 4))\n",
    "#     plt.hist(differences, bins=20, alpha=0.7, edgecolor='black')\n",
    "#     plt.axvline(mean_diff, color='red', linestyle='dashed', linewidth=2, label=f\"Mean: {mean_diff:.3f}\")\n",
    "#     plt.axvline(mean_diff - sd, color='blue', linestyle='dashed', linewidth=2, label=f\"SD: {sd:.3f}\")\n",
    "#     plt.axvline(mean_diff + sd, color='blue', linestyle='dashed', linewidth=2)\n",
    "#     plt.axvline(0, color='black', linestyle='dashed', linewidth=3)\n",
    "#     plt.xlim(-.6,.6)\n",
    "#     plt.xlabel(\"Difference: Uncorrected-Sample R – Population R\")\n",
    "#     plt.ylabel(\"Frequency\")\n",
    "#     plt.title(f\"Samples={n_samples}, Measurements={n_measurements}\")\n",
    "#     plt.legend()\n",
    "#     plt.show()"
   ]
  },
  {
   "cell_type": "code",
   "execution_count": 56,
   "id": "c058a1c1",
   "metadata": {},
   "outputs": [],
   "source": [
    "# # Histograms – CORRECTED\n",
    "# for (n_samples, n_measurements), differences in hist_corrected_corr.items():\n",
    "#     mean_diff = np.mean(differences)\n",
    "#     sd = np.std(differences)\n",
    "\n",
    "#     plt.figure(figsize=(5, 4))\n",
    "#     plt.hist(differences, bins=20, alpha=0.7, edgecolor='black')\n",
    "#     plt.axvline(mean_diff, color='red', linestyle='dashed', linewidth=2, label=f\"Mean: {mean_diff:.3f}\")\n",
    "#     plt.axvline(mean_diff - sd, color='blue', linestyle='dashed', linewidth=2, label=f\"SD: {sd:.3f}\")\n",
    "#     plt.axvline(mean_diff + sd, color='blue', linestyle='dashed', linewidth=2)\n",
    "#     plt.axvline(0, color='black', linestyle='dashed', linewidth=3)\n",
    "#     plt.xlim(-.6,.6)\n",
    "#     plt.xlabel(\"Difference: Corrected-Sample R – Population R\")\n",
    "#     plt.ylabel(\"Frequency\")\n",
    "#     plt.title(f\"Samples={n_samples}, Measurements={n_measurements}\")\n",
    "#     plt.legend()\n",
    "#     plt.show()"
   ]
  },
  {
   "cell_type": "markdown",
   "id": "0c29b949",
   "metadata": {},
   "source": [
    "## Vary the ratio between within- & between-individual variances"
   ]
  },
  {
   "cell_type": "markdown",
   "id": "d03966a1",
   "metadata": {},
   "source": [
    "I am interested in how the within- and between-individual variances change the measured correlations, given the same number of samples and number of measurements per sample.\n",
    "\n",
    "I am also curious about whether the measured correlations only depends on the ratio, but not the absolute values of the within- and between-individual variances. Therefore, I want to plot a 5-by-5 chart of RMSEs, with different values for the variances."
   ]
  },
  {
   "cell_type": "code",
   "execution_count": 57,
   "id": "60b76a08",
   "metadata": {},
   "outputs": [],
   "source": [
    "import math\n",
    "\n",
    "def round_up(x, decimals=2):\n",
    "    factor = 10 ** decimals\n",
    "    return math.ceil(x * factor) / factor"
   ]
  },
  {
   "cell_type": "code",
   "execution_count": 115,
   "id": "8af06418",
   "metadata": {},
   "outputs": [],
   "source": [
    "def plot_matrix(mtx, fig_specs, n_vars):\n",
    "\n",
    "    # Define minimum and maximum values on the color scale\n",
    "    min_data = mtx.min() if fig_specs.cval_min is None else fig_specs.cval_min\n",
    "    max_data = mtx.max() if fig_specs.cval_max is None else fig_specs.cval_max\n",
    "    \n",
    "    fig, ax = plt.subplots(figsize=(6, 6))\n",
    "    norm = mcolors.LogNorm(vmin=min_data, vmax=max_data)\n",
    "    cax = ax.matshow(mtx, cmap='coolwarm', norm=norm)\n",
    "\n",
    "    \n",
    "    # Generate logarithmically spaced color bar ticks\n",
    "    cbar_ticks = []\n",
    "    curr_dp = min_data\n",
    "    while curr_dp <= max_data:\n",
    "        cbar_ticks.append(round_up(curr_dp,2))\n",
    "        curr_dp *= 2  \n",
    "\n",
    "    cbar = plt.colorbar(cax, ticks=cbar_ticks)\n",
    "    cbar.ax.set_yticklabels(cbar_ticks)\n",
    "    cbar.ax.yaxis.set_minor_locator(plt.NullLocator())\n",
    "\n",
    "    # Display the values inside the matrix\n",
    "    for i in range(n_vars):\n",
    "        for j in range(n_vars):\n",
    "            ax.text(j, i, f\"{mtx[i, j]:.2f}\", ha='center', va='center', color='black')\n",
    "\n",
    "    ax.xaxis.set_ticks_position('bottom')\n",
    "    ax.xaxis.set_label_position('bottom')\n",
    "    ax.set_xticks(range(n_vars))\n",
    "    ax.set_yticks(range(n_vars))\n",
    "    ax.set_xticklabels(fig_specs.xticklabels)\n",
    "    ax.set_yticklabels(fig_specs.yticklabels)\n",
    "    ax.set_xlabel(fig_specs.x_label)\n",
    "    ax.set_ylabel(fig_specs.y_label)\n",
    "    ax.set_title(fig_specs.title)\n",
    "\n",
    "    plt.show()"
   ]
  },
  {
   "cell_type": "code",
   "execution_count": 110,
   "id": "165e6115",
   "metadata": {},
   "outputs": [],
   "source": [
    "class def_plot_labels:\n",
    "    \n",
    "    def __init__(self, title=\"\", x_label=\"\", y_label=\"\", xticklabels=None, yticklabels=None,\n",
    "                cval_min = None, cval_max = None):\n",
    "        self.title = title\n",
    "        self.x_label = x_label\n",
    "        self.y_label = y_label\n",
    "        self.xticklabels = xticklabels if xticklabels else []\n",
    "        self.yticklabels = yticklabels if yticklabels else []\n",
    "        self.cval_min = cval_min if cval_min else None\n",
    "        self.cval_max = cval_max if cval_max else None"
   ]
  },
  {
   "cell_type": "code",
   "execution_count": 105,
   "id": "564f1046",
   "metadata": {},
   "outputs": [
    {
     "data": {
      "image/png": "[encoded data removed]",
      "text/plain": [
       "<Figure size 600x600 with 2 Axes>"
      ]
     },
     "metadata": {},
     "output_type": "display_data"
    }
   ],
   "source": [
    "# Define parameters\n",
    "n_vars = 5\n",
    "min_between = 0.01\n",
    "\n",
    "# Generate between and within variance arrays\n",
    "between_vars = np.array([min_between * (2 ** ii) for ii in range(n_vars)])\n",
    "within_vars = np.array([min_between * (2 ** ii) for ii in range(n_vars)])\n",
    "\n",
    "# Initialize matrices\n",
    "btw = np.full((n_vars, n_vars), np.nan)\n",
    "within = np.full((n_vars, n_vars), np.nan)\n",
    "ratio_btwVwithin = np.full((n_vars, n_vars), np.nan)\n",
    "\n",
    "# Compute matrices\n",
    "for ii in range(n_vars):\n",
    "    for jj in range(n_vars):\n",
    "        btw[ii, jj] = between_vars[jj]\n",
    "        within[ii, jj] = within_vars[ii]\n",
    "        ratio_btwVwithin[ii, jj] = between_vars[jj] / within_vars[ii]\n",
    "        \n",
    "ratio_plot_labels = def_plot_labels(title = 'Ratio of between and within variances', \n",
    "                                    x_label = 'Between variance',\n",
    "                                    y_label = 'Within variance',\n",
    "                                    xticklabels = [f\"{bv:.2f}\" for bv in between_vars],\n",
    "                                    yticklabels = [f\"{wv:.2f}\" for wv in within_vars])\n",
    "\n",
    "plot_matrix(ratio_btwVwithin, ratio_plot_labels, n_vars)"
   ]
  },
  {
   "cell_type": "code",
   "execution_count": 78,
   "id": "f7454605",
   "metadata": {
    "collapsed": true
   },
   "outputs": [
    {
     "name": "stdout",
     "output_type": "stream",
     "text": [
      "done with n_samples = 320\n",
      "done with n_samples = 320\n",
      "done with n_samples = 320\n",
      "done with n_samples = 320\n",
      "done with n_samples = 320\n",
      "done with n_samples = 320\n",
      "done with n_samples = 320\n",
      "done with n_samples = 320\n",
      "done with n_samples = 320\n",
      "done with n_samples = 320\n",
      "done with n_samples = 320\n",
      "done with n_samples = 320\n",
      "done with n_samples = 320\n",
      "done with n_samples = 320\n",
      "done with n_samples = 320\n",
      "done with n_samples = 320\n",
      "done with n_samples = 320\n",
      "done with n_samples = 320\n",
      "done with n_samples = 320\n",
      "done with n_samples = 320\n",
      "done with n_samples = 320\n",
      "done with n_samples = 320\n",
      "done with n_samples = 320\n",
      "done with n_samples = 320\n",
      "done with n_samples = 320\n"
     ]
    }
   ],
   "source": [
    "# repeat the simulation, change the between and within variances of crowding\n",
    "# RSVP parameters are kept the same\n",
    "rsvp_param = def_variable_parameters(betweenVar=0.029, withinVar=0.015, mean=2.96,learning_factor=0)\n",
    "\n",
    "rmse_measured_mtx = np.full((n_vars, n_vars), np.nan)\n",
    "rmse_corrected_mtx = np.full((n_vars, n_vars), np.nan)\n",
    "\n",
    "for ii in range(n_vars):\n",
    "    for jj in range(n_vars):\n",
    "        between_var = between_vars[jj]\n",
    "        within_var = within_vars[ii]\n",
    "        crowding_param = def_variable_parameters(betweenVar=between_var, withinVar=within_var,\n",
    "                                                 mean=-0.426,learning_factor=0.06)\n",
    "        \n",
    "        results_corr = run_simulation(crowding_param, rsvp_param, range_samples=[320], range_measurements=[2])\n",
    "        results_corr_df = results_corr[0]\n",
    "        rmse_measured_mtx[ii, jj] = results_corr_df['rmse_measured'].iloc[0]\n",
    "        rmse_corrected_mtx[ii, jj] = results_corr_df['rmse_corrected'].iloc[0]\n"
   ]
  },
  {
   "cell_type": "code",
   "execution_count": 120,
   "id": "309f6e9a",
   "metadata": {},
   "outputs": [
    {
     "data": {
      "image/png": "[encoded data removed]",
      "text/plain": [
       "<Figure size 600x600 with 2 Axes>"
      ]
     },
     "metadata": {},
     "output_type": "display_data"
    }
   ],
   "source": [
    "measured_plot_labels = def_plot_labels(title = 'RMSE of measured correlation', \n",
    "                                        x_label = 'Between variance',\n",
    "                                        y_label = 'Within variance',\n",
    "                                        xticklabels = [f\"{bv:.2f}\" for bv in between_vars],\n",
    "                                        yticklabels = [f\"{wv:.2f}\" for wv in within_vars],\n",
    "                                        cval_min = 0.04,\n",
    "                                        cval_max = 1.1)\n",
    "\n",
    "plot_matrix(rmse_measured_mtx, measured_plot_labels, n_vars)"
   ]
  },
  {
   "cell_type": "code",
   "execution_count": 119,
   "id": "cc54b030",
   "metadata": {},
   "outputs": [
    {
     "data": {
      "image/png": "[encoded data removed]",
      "text/plain": [
       "<Figure size 600x600 with 2 Axes>"
      ]
     },
     "metadata": {},
     "output_type": "display_data"
    }
   ],
   "source": [
    "corrected_plot_labels = def_plot_labels(title = 'RMSE of corrected correlation', \n",
    "                                    x_label = 'Between variance',\n",
    "                                    y_label = 'Within variance',\n",
    "                                    xticklabels = [f\"{bv:.2f}\" for bv in between_vars],\n",
    "                                    yticklabels = [f\"{wv:.2f}\" for wv in within_vars],\n",
    "                                    cval_min = 0.04,\n",
    "                                    cval_max = 1.1)\n",
    "\n",
    "\n",
    "plot_matrix(rmse_corrected_mtx, corrected_plot_labels, n_vars)"
   ]
  }
 ],
 "metadata": {
  "kernelspec": {
   "display_name": "Python 3 (ipykernel)",
   "language": "python",
   "name": "python3"
  },
  "language_info": {
   "codemirror_mode": {
    "name": "ipython",
    "version": 3
   },
   "file_extension": ".py",
   "mimetype": "text/x-python",
   "name": "python",
   "nbconvert_exporter": "python",
   "pygments_lexer": "ipython3",
   "version": "3.11.3"
  }
 },
 "nbformat": 4,
 "nbformat_minor": 5
}
