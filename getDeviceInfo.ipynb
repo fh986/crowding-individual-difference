{
 "cells": [
  {
   "cell_type": "code",
   "execution_count": null,
   "id": "5524bed6",
   "metadata": {},
   "outputs": [],
   "source": [
    "import os\n",
    "import pandas as pd\n",
    "import numpy as np\n",
    "import matplotlib.pyplot as plt\n",
    "import math\n",
    "import seaborn as sns\n",
    "import scipy.stats as stats"
   ]
  },
  {
   "cell_type": "code",
   "execution_count": null,
   "id": "45bfa035",
   "metadata": {},
   "outputs": [],
   "source": [
    "# Set up files\n",
    "dir_buggy = '/Users/helenhu/Desktop/ee_bug_report/data/buggy_sessions'\n",
    "files_buggy = [f for f in os.listdir(dir_buggy) if f.endswith('.csv')]\n",
    "\n",
    "dir_complete = '/Users/helenhu/Desktop/ee_bug_report/data/completed_sessions'\n",
    "files_complete = [f for f in os.listdir(dir_complete) if f.endswith('.csv')]\n",
    "\n",
    "print(len(files_buggy))\n",
    "print(len(files_complete))"
   ]
  },
  {
   "cell_type": "code",
   "execution_count": null,
   "id": "2f02b0d1",
   "metadata": {},
   "outputs": [],
   "source": [
    "def getInfo(mydir, files):\n",
    "    \n",
    "    numSess = len(files)\n",
    "    all_data = []\n",
    "    \n",
    "    for sess in range(numSess):\n",
    "\n",
    "        file_path = os.path.join(mydir, files[sess])\n",
    "        mainOutput = pd.read_csv(file_path)\n",
    "        \n",
    "        subj_info = {}\n",
    "\n",
    "        subj_info['prolificID'] = mainOutput['ProlificParticipantID'].dropna().iloc[0]\n",
    "        subj_info['date'] = mainOutput['date'].dropna().iloc[0]\n",
    "        subj_info['hardwareConcurrency'] = mainOutput['hardwareConcurrency'].dropna().iloc[0]\n",
    "        subj_info['deviceType'] = mainOutput['deviceType'].dropna().iloc[0]\n",
    "        subj_info['deviceSystem'] = mainOutput['deviceSystem'].dropna().iloc[0]\n",
    "        subj_info['deviceBrowser'] = mainOutput['deviceBrowser'].dropna().iloc[0]\n",
    "        subj_info['deviceBrowserVersion'] = mainOutput['deviceBrowserVersion'].dropna().iloc[0]\n",
    "        subj_info['deviceLanguage'] = mainOutput['deviceLanguage'].dropna().iloc[0]\n",
    "        \n",
    "        all_data.append(subj_info)\n",
    "        \n",
    "    df_all_data = pd.DataFrame(all_data)\n",
    "    return df_all_data\n",
    "        \n",
    "        "
   ]
  },
  {
   "cell_type": "code",
   "execution_count": null,
   "id": "76826053",
   "metadata": {},
   "outputs": [],
   "source": [
    "buggy_info = getInfo(dir_buggy, files_buggy)\n",
    "display(buggy_info)"
   ]
  },
  {
   "cell_type": "code",
   "execution_count": null,
   "id": "2b1bbf57",
   "metadata": {},
   "outputs": [],
   "source": [
    "complete_info = getInfo(dir_complete, files_complete)\n",
    "display(complete_info)"
   ]
  },
  {
   "cell_type": "markdown",
   "id": "ea65c806",
   "metadata": {},
   "source": [
    "Note that participant \"60721c2da01b3a616edba9a7\" completed the first session and was not able to complete the second session. Here is their description of the issue: \"Hi The other experiments are failing to load, I am only getting the story time... Hi, it's resolved now but my time is running out so will need a completion code..\""
   ]
  }
 ],
 "metadata": {
  "kernelspec": {
   "display_name": "Python 3 (ipykernel)",
   "language": "python",
   "name": "python3"
  },
  "language_info": {
   "codemirror_mode": {
    "name": "ipython",
    "version": 3
   },
   "file_extension": ".py",
   "mimetype": "text/x-python",
   "name": "python",
   "nbconvert_exporter": "python",
   "pygments_lexer": "ipython3",
   "version": "3.11.3"
  }
 },
 "nbformat": 4,
 "nbformat_minor": 5
}
