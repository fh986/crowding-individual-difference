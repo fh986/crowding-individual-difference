{
 "cells": [
  {
   "cell_type": "code",
   "execution_count": 2,
   "id": "c0d6f95b",
   "metadata": {},
   "outputs": [],
   "source": [
    "import os\n",
    "import pandas as pd\n",
    "import numpy as np\n",
    "import matplotlib.pyplot as plt\n",
    "from matplotlib import cm\n",
    "from matplotlib.ticker import LogLocator, LogFormatter, FuncFormatter\n"
   ]
  },
  {
   "cell_type": "code",
   "execution_count": 3,
   "id": "b7f156f9",
   "metadata": {},
   "outputs": [
    {
     "name": "stdout",
     "output_type": "stream",
     "text": [
      "  Observer FlankinDirection  Eccen_X  Eccen_Y  RadialEccentricity  \\\n",
      "0       S1           radial        5        0                   5   \n",
      "1       S1           radial       -5        0                   5   \n",
      "2       S1           radial        0        5                   5   \n",
      "3       S1           radial        0       -5                   5   \n",
      "4       S1           radial       10        0                  10   \n",
      "\n",
      "   CrowdingDistance  TargetDeg   Font Meridian      Task  Session  \n",
      "0          0.591501   0.422501  Sloan    Right  crowding        1  \n",
      "1          0.895702   0.639787  Sloan     Left  crowding        1  \n",
      "2          2.281506   1.629647  Sloan    Upper  crowding        1  \n",
      "3          2.382906   1.702076  Sloan    Lower  crowding        1  \n",
      "4          1.859005   1.327860  Sloan    Right  crowding        1  \n"
     ]
    }
   ],
   "source": [
    "# Set up files\n",
    "filepath = 'data/JoV23Data.csv'\n",
    "jov_data = pd.read_csv(filepath)\n",
    "print(jov_data.head())"
   ]
  },
  {
   "cell_type": "code",
   "execution_count": 4,
   "id": "b289cf94",
   "metadata": {},
   "outputs": [
    {
     "name": "stdout",
     "output_type": "stream",
     "text": [
      "Number of subjects:  50\n",
      "Flanker directions:  ['radial' 'tangential' 'horizontal']\n",
      "Eccentricity X:  [  5  -5   0  10 -10]\n",
      "Eccentricity Y:  [  0   5  -5  10 -10]\n",
      "Radial Eccentricity:  [ 5 10  0]\n",
      "Meridian:  ['Right' 'Left' 'Upper' 'Lower' 'fovea']\n",
      "Task:  ['crowding' 'acuity']\n",
      "Session:  [1 2]\n"
     ]
    }
   ],
   "source": [
    "print('Number of subjects: ', jov_data['Observer'].nunique())\n",
    "print('Flanker directions: ', jov_data['FlankinDirection'].unique())\n",
    "print('Eccentricity X: ', jov_data['Eccen_X'].unique())\n",
    "print('Eccentricity Y: ', jov_data['Eccen_Y'].unique())\n",
    "print('Radial Eccentricity: ', jov_data['RadialEccentricity'].unique())\n",
    "print('Meridian: ', jov_data['Meridian'].unique())\n",
    "print('Task: ', jov_data['Task'].unique())\n",
    "print('Session: ', jov_data['Session'].unique())"
   ]
  },
  {
   "cell_type": "code",
   "execution_count": 5,
   "id": "8072e39e-84dc-412f-915b-10fe9be46528",
   "metadata": {},
   "outputs": [],
   "source": [
    "# filtering for foveal acuity\n",
    "\n",
    "# jov_data_filtered = jov_data[jov_data['FlankinDirection'] == 'radial']\n",
    "jov_data_fovea = jov_data[jov_data['Meridian'] == 'fovea']\n",
    "\n",
    "# jov_data_filtered = jov_data_filtered[jov_data_filtered['Meridian'] != 'Upper']\n",
    "# jov_data_filtered = jov_data_filtered[jov_data_filtered['Meridian'] != 'Lower']\n",
    "\n",
    "# jov_data_filtered = jov_data_filtered[jov_data_filtered['RadialEccentricity'] == 10]\n",
    "jov_data_fovea = jov_data_fovea[jov_data_fovea['Task'] == 'crowding']\n",
    "# jov_data_filtered = jov_data_filtered[jov_data_filtered['Font'] == 'Sloan']\n"
   ]
  },
  {
   "cell_type": "code",
   "execution_count": 6,
   "id": "c7933924-1e87-484e-a9e1-4ad4db286014",
   "metadata": {},
   "outputs": [
    {
     "name": "stdout",
     "output_type": "stream",
     "text": [
      "Number of subjects:  50\n",
      "Flanker directions:  ['horizontal']\n",
      "Eccentricity X:  [0]\n",
      "Eccentricity Y:  [0]\n",
      "Radial Eccentricity:  [0]\n",
      "Meridian:  ['fovea']\n",
      "Task:  ['crowding']\n",
      "Session:  [1 2]\n",
      "Font:  ['Pelli']\n"
     ]
    }
   ],
   "source": [
    "print('Number of subjects: ', jov_data_fovea['Observer'].nunique())\n",
    "print('Flanker directions: ', jov_data_fovea['FlankinDirection'].unique())\n",
    "print('Eccentricity X: ', jov_data_fovea['Eccen_X'].unique())\n",
    "print('Eccentricity Y: ', jov_data_fovea['Eccen_Y'].unique())\n",
    "print('Radial Eccentricity: ', jov_data_fovea['RadialEccentricity'].unique())\n",
    "print('Meridian: ', jov_data_fovea['Meridian'].unique())\n",
    "print('Task: ', jov_data_fovea['Task'].unique())\n",
    "print('Session: ', jov_data_fovea['Session'].unique())\n",
    "print('Font: ', jov_data_fovea['Font'].unique())"
   ]
  },
  {
   "cell_type": "code",
   "execution_count": 7,
   "id": "de97d867-d801-403c-bd06-7639e6149162",
   "metadata": {},
   "outputs": [
    {
     "name": "stdout",
     "output_type": "stream",
     "text": [
      "Mean crowding distance at fovea:  0.0702433319094119\n"
     ]
    }
   ],
   "source": [
    "mean_crowding_distance_fovea = np.mean(jov_data_fovea['CrowdingDistance'])\n",
    "print('Mean crowding distance at fovea: ', mean_crowding_distance_fovea)"
   ]
  },
  {
   "cell_type": "code",
   "execution_count": 8,
   "id": "bcf125f3",
   "metadata": {},
   "outputs": [
    {
     "name": "stdout",
     "output_type": "stream",
     "text": [
      "Number of subjects:  50\n",
      "Flanker directions:  ['radial' 'tangential' 'horizontal']\n",
      "Eccentricity X:  [  5  -5   0  10 -10]\n",
      "Eccentricity Y:  [  0   5  -5  10 -10]\n",
      "Radial Eccentricity:  [ 5 10  0]\n",
      "Meridian:  ['Right' 'Left' 'Upper' 'Lower' 'fovea']\n",
      "Task:  ['crowding']\n",
      "Session:  [1 2]\n"
     ]
    }
   ],
   "source": [
    "# all crowding thresholds\n",
    "\n",
    "jov_all_crowding = jov_data[jov_data['Task'] == 'crowding']\n",
    "print('Number of subjects: ', jov_all_crowding['Observer'].nunique())\n",
    "print('Flanker directions: ', jov_all_crowding['FlankinDirection'].unique())\n",
    "print('Eccentricity X: ', jov_all_crowding['Eccen_X'].unique())\n",
    "print('Eccentricity Y: ', jov_all_crowding['Eccen_Y'].unique())\n",
    "print('Radial Eccentricity: ', jov_all_crowding['RadialEccentricity'].unique())\n",
    "print('Meridian: ', jov_all_crowding['Meridian'].unique())\n",
    "print('Task: ', jov_all_crowding['Task'].unique())\n",
    "print('Session: ', jov_all_crowding['Session'].unique())"
   ]
  },
  {
   "cell_type": "code",
   "execution_count": 12,
   "id": "4d978eaf",
   "metadata": {},
   "outputs": [
    {
     "name": "stdout",
     "output_type": "stream",
     "text": [
      "0.06763912322558736\n"
     ]
    }
   ],
   "source": [
    "log_crowding = np.log10(jov_all_crowding['CrowdingDistance'])\n",
    "mean_log_crowding_per_observer = jov_all_crowding.assign(LogCrowding=log_crowding).groupby('Observer')['LogCrowding'].mean().values\n",
    "print(np.std(mean_log_crowding_per_observer))"
   ]
  },
  {
   "cell_type": "code",
   "execution_count": 20,
   "id": "c21ef277",
   "metadata": {},
   "outputs": [
    {
     "name": "stdout",
     "output_type": "stream",
     "text": [
      "   Observer FlankinDirection  Eccen_X  Eccen_Y  RadialEccentricity  \\\n",
      "0        S1           radial        5        0                   5   \n",
      "1        S1           radial       -5        0                   5   \n",
      "4        S1           radial       10        0                  10   \n",
      "5        S1           radial      -10        0                  10   \n",
      "16       S1           radial       10        0                  10   \n",
      "\n",
      "    CrowdingDistance  TargetDeg   Font Meridian      Task  Session  \n",
      "0           0.591501   0.422501  Sloan    Right  crowding        1  \n",
      "1           0.895702   0.639787  Sloan     Left  crowding        1  \n",
      "4           1.859005   1.327860  Sloan    Right  crowding        1  \n",
      "5           2.720907   1.943505  Sloan     Left  crowding        1  \n",
      "16          1.859005   1.327860  Sloan    Right  crowding        2  \n"
     ]
    }
   ],
   "source": [
    "# clean up: filtering for sessions with radial, peripheral, crowding\n",
    "\n",
    "jov_data_filtered = jov_data[jov_data['FlankinDirection'] == 'radial']\n",
    "jov_data_filtered = jov_data_filtered[jov_data_filtered['Meridian'] != 'fovea']\n",
    "\n",
    "jov_data_filtered = jov_data_filtered[jov_data_filtered['Meridian'] != 'Upper']\n",
    "jov_data_filtered = jov_data_filtered[jov_data_filtered['Meridian'] != 'Lower']\n",
    "\n",
    "# jov_data_filtered = jov_data_filtered[jov_data_filtered['RadialEccentricity'] == 10]\n",
    "jov_data_filtered = jov_data_filtered[jov_data_filtered['Task'] == 'crowding']\n",
    "jov_data_filtered = jov_data_filtered[jov_data_filtered['Font'] == 'Sloan']\n",
    "\n",
    "print(jov_data_filtered.head())"
   ]
  },
  {
   "cell_type": "code",
   "execution_count": 21,
   "id": "ade8e109",
   "metadata": {
    "scrolled": true
   },
   "outputs": [
    {
     "name": "stdout",
     "output_type": "stream",
     "text": [
      "Number of subjects:  50\n",
      "Flanker directions:  ['radial']\n",
      "Eccentricity X:  [  5  -5  10 -10]\n",
      "Eccentricity Y:  [0]\n",
      "Radial Eccentricity:  [ 5 10]\n",
      "Meridian:  ['Right' 'Left']\n",
      "Task:  ['crowding']\n",
      "Session:  [1 2]\n"
     ]
    }
   ],
   "source": [
    "print('Number of subjects: ', jov_data_filtered['Observer'].nunique())\n",
    "print('Flanker directions: ', jov_data_filtered['FlankinDirection'].unique())\n",
    "print('Eccentricity X: ', jov_data_filtered['Eccen_X'].unique())\n",
    "print('Eccentricity Y: ', jov_data_filtered['Eccen_Y'].unique())\n",
    "print('Radial Eccentricity: ', jov_data_filtered['RadialEccentricity'].unique())\n",
    "print('Meridian: ', jov_data_filtered['Meridian'].unique())\n",
    "print('Task: ', jov_data_filtered['Task'].unique())\n",
    "print('Session: ', jov_data_filtered['Session'].unique())"
   ]
  },
  {
   "cell_type": "code",
   "execution_count": 22,
   "id": "e6ca2970",
   "metadata": {},
   "outputs": [
    {
     "name": "stdout",
     "output_type": "stream",
     "text": [
      "0       1.4\n",
      "1       1.4\n",
      "4       1.4\n",
      "5       1.4\n",
      "16      1.4\n",
      "       ... \n",
      "1383    1.4\n",
      "1390    1.4\n",
      "1391    1.4\n",
      "1394    1.4\n",
      "1395    1.4\n",
      "Length: 400, dtype: float64\n"
     ]
    }
   ],
   "source": [
    "# TargetDeg is the size of the target. spacing = 1.4X size\n",
    "print(jov_data_filtered['CrowdingDistance']/jov_data_filtered['TargetDeg'])"
   ]
  },
  {
   "cell_type": "code",
   "execution_count": 23,
   "id": "55afd9e3",
   "metadata": {},
   "outputs": [
    {
     "name": "stdout",
     "output_type": "stream",
     "text": [
      "0       0.118300\n",
      "1       0.179140\n",
      "4       0.185900\n",
      "5       0.272091\n",
      "16      0.185900\n",
      "          ...   \n",
      "1383    0.152100\n",
      "1390    0.126750\n",
      "1391    0.380251\n",
      "1394    0.185900\n",
      "1395    0.280541\n",
      "Length: 400, dtype: float64\n",
      "400\n"
     ]
    }
   ],
   "source": [
    "# acquire bouma factors: crowding distance ./ eccentricity\n",
    "bouma = jov_data_filtered['CrowdingDistance']/jov_data_filtered['RadialEccentricity']\n",
    "print(bouma)\n",
    "print(len(bouma))"
   ]
  },
  {
   "cell_type": "code",
   "execution_count": 24,
   "id": "9526e6f6",
   "metadata": {},
   "outputs": [
    {
     "name": "stdout",
     "output_type": "stream",
     "text": [
      "Minimum Bouma: 0.08450021183055981\n",
      "Maximum Bouma: 0.723321813269592\n",
      "Mean Bouma: 0.2345894880840001\n",
      "Median Bouma: 0.21632054228623301\n",
      "Std Bouma: 0.09689568069057243\n"
     ]
    }
   ],
   "source": [
    "print(f'Minimum Bouma: {min(bouma)}')\n",
    "print(f'Maximum Bouma: {max(bouma)}')\n",
    "print(f'Mean Bouma: {np.mean(bouma)}')\n",
    "print(f'Median Bouma: {np.median(bouma)}')\n",
    "print(f'Std Bouma: {np.std(bouma)}')"
   ]
  },
  {
   "cell_type": "code",
   "execution_count": 25,
   "id": "394e2df8",
   "metadata": {},
   "outputs": [
    {
     "name": "stdout",
     "output_type": "stream",
     "text": [
      "1 SD below Bouma: 0.13769380739342768\n",
      "2 SDs below Bouma: 0.040798126702855236\n"
     ]
    }
   ],
   "source": [
    "print(f'1 SD below Bouma: {np.mean(bouma) - np.std(bouma)}')\n",
    "print(f'2 SDs below Bouma: {np.mean(bouma) - 2 * np.std(bouma)}')\n"
   ]
  },
  {
   "cell_type": "code",
   "execution_count": 26,
   "id": "e362bca8",
   "metadata": {},
   "outputs": [
    {
     "name": "stdout",
     "output_type": "stream",
     "text": [
      "Lower bound: 0.13769380739342768\n",
      "Upper bound: 0.3314851687745725\n"
     ]
    }
   ],
   "source": [
    "lowerBound = np.mean(bouma) - np.std(bouma)\n",
    "upperBound = np.mean(bouma) + np.std(bouma)\n",
    "\n",
    "print('Lower bound:', lowerBound)\n",
    "print('Upper bound:', upperBound)"
   ]
  },
  {
   "cell_type": "markdown",
   "id": "a0881d21-5b07-4b05-94a3-1c9bce85f554",
   "metadata": {},
   "source": [
    "### Calculate Between-individual standard deviation\n",
    "- selected for horizontal meridian, radial crowding\n",
    "- 50 participants, 2 locations (left and right), 2 eccentricities (5 and 10), 2 sessions (test/retest) = 400 thresholds total"
   ]
  },
  {
   "cell_type": "code",
   "execution_count": 27,
   "id": "f3eee46f-1fd6-49ef-a071-0dcbcc98a564",
   "metadata": {},
   "outputs": [
    {
     "name": "stdout",
     "output_type": "stream",
     "text": [
      "Between subject std for left/right radial thresholds: 0.11\n"
     ]
    }
   ],
   "source": [
    "bouma_log = np.log10(bouma)\n",
    "\n",
    "bouma_log_std = np.std(bouma_log)\n",
    "\n",
    "jov_data_filtered['Bouma'] = bouma\n",
    "jov_data_filtered['LogBouma'] = bouma_log\n",
    "\n",
    "subject_names = jov_data_filtered['Observer'].unique()\n",
    "numSubj = len(subject_names);\n",
    "\n",
    "subj_mean_bouma_log = np.full((numSubj,1),np.nan)\n",
    "for ii in range(numSubj):\n",
    "\n",
    "    subj_name = subject_names[ii];\n",
    "\n",
    "    subj_bouma_log = jov_data_filtered[jov_data_filtered['Observer'] == subj_name]\n",
    "\n",
    "    subj_mean_bouma_log[ii] = np.mean(subj_bouma_log['LogBouma'])\n",
    "\n",
    "\n",
    "btw_subj_std = np.std(subj_mean_bouma_log)\n",
    "\n",
    "print(f'Between subject std for left/right radial thresholds: {round(btw_subj_std, 2)}')"
   ]
  },
  {
   "cell_type": "code",
   "execution_count": 28,
   "id": "967fe623",
   "metadata": {},
   "outputs": [
    {
     "name": "stdout",
     "output_type": "stream",
     "text": [
      "Min and max bin limits: 0.08, 1.11\n"
     ]
    },
    {
     "data": {
      "image/png": "[encoded data removed]",
      "text/plain": [
       "<Figure size 800x400 with 1 Axes>"
      ]
     },
     "metadata": {},
     "output_type": "display_data"
    }
   ],
   "source": [
    "# Plot all bouma factors\n",
    "\n",
    "# make the bins look the same size on a log scale\n",
    "num_bins = 20\n",
    "# min_val = round(np.nanmin(bouma),2)\n",
    "# max_val = round(np.nanmax(bouma),2)\n",
    "# print(f'Min and max bin limits: {min_val}, {max_val}')\n",
    "# bins = np.logspace(np.log10(min_val), np.log10(max_val), num_bins + 1)\n",
    "min_val = 0.08\n",
    "max_val = 1.11\n",
    "print(f'Min and max bin limits: {min_val}, {max_val}')\n",
    "bins = np.logspace(np.log10(min_val), np.log10(max_val), num_bins + 1)\n",
    "\n",
    "\n",
    "plt.figure(figsize=(8, 4))  # Square figure\n",
    "# plt.axvspan(lowerBound, upperBound, color='lightgray', alpha=0.5) # mean +- one std\n",
    "plt.hist(bouma, bins=bins, color='skyblue', edgecolor='black')\n",
    "plt.title(f\"JOV data -- Bouma factors (n = {len(bouma)})\", fontsize = 16)\n",
    "plt.xlabel(\"Bouma factors\", fontsize = 14)\n",
    "plt.ylabel(\"Frequency\", fontsize = 14)\n",
    "plt.xscale('log')\n",
    "plt.xlim(0.07,1.2)\n",
    "plt.ylim(0,60)\n",
    "# add ticks and format them as normal floats\n",
    "tick_positions = np.linspace(0.1, 1, num=10)  \n",
    "plt.xticks(tick_positions, labels=[f\"{x:.1f}\" for x in tick_positions])\n",
    "\n",
    "\n",
    "plt.show()"
   ]
  },
  {
   "cell_type": "code",
   "execution_count": 30,
   "id": "a796829e",
   "metadata": {},
   "outputs": [
    {
     "name": "stdout",
     "output_type": "stream",
     "text": [
      "5 deg, Minimum Bouma:0.08450021183055981\n",
      "5 deg, Maximum Bouma:0.723321813269592\n",
      "5 deg, Mean Bouma:0.20383141097767626\n",
      "10 deg, Mean Crowding distance:2.653475651903238\n",
      "10 deg, Minimum Bouma:0.09633024148683819\n",
      "10 deg, Maximum Bouma:0.572911436211195\n",
      "10 deg, Mean Bouma:0.2653475651903239\n"
     ]
    }
   ],
   "source": [
    "jov_data_5deg = jov_data_filtered[jov_data_filtered['RadialEccentricity'] == 5]\n",
    "bouma_5deg = jov_data_5deg['CrowdingDistance']/jov_data_5deg['RadialEccentricity']\n",
    "print(f'5 deg, Minimum Bouma:{min(bouma_5deg)}')\n",
    "print(f'5 deg, Maximum Bouma:{max(bouma_5deg)}')\n",
    "print(f'5 deg, Mean Bouma:{np.mean(bouma_5deg)}')\n",
    "\n",
    "\n",
    "jov_data_10deg = jov_data_filtered[jov_data_filtered['RadialEccentricity'] == 10]\n",
    "crowding_10deg = jov_data_10deg['CrowdingDistance']\n",
    "bouma_10deg = jov_data_10deg['CrowdingDistance']/jov_data_10deg['RadialEccentricity']\n",
    "print(f'10 deg, Mean Crowding distance:{np.mean(crowding_10deg)}')\n",
    "print(f'10 deg, Minimum Bouma:{min(bouma_10deg)}')\n",
    "print(f'10 deg, Maximum Bouma:{max(bouma_10deg)}')\n",
    "print(f'10 deg, Mean Bouma:{np.mean(bouma_10deg)}')\n"
   ]
  },
  {
   "cell_type": "code",
   "execution_count": 31,
   "id": "b6b3decb-55cf-4ca4-896e-eb5018f76de0",
   "metadata": {},
   "outputs": [
    {
     "name": "stdout",
     "output_type": "stream",
     "text": [
      "37.7754810282241\n"
     ]
    }
   ],
   "source": [
    "mean_crowding_distance_10deg = np.mean(crowding_10deg)\n",
    "factor_10deg_fovea = mean_crowding_distance_10deg / mean_crowding_distance_fovea\n",
    "print(factor_10deg_fovea)"
   ]
  },
  {
   "cell_type": "code",
   "execution_count": null,
   "id": "615dbc02",
   "metadata": {},
   "outputs": [],
   "source": [
    "bin_width = 0.01\n",
    "min_bin = 0.05\n",
    "max_bin = 1\n",
    "def_bins = np.arange(min_bin, max_bin + bin_width, bin_width)  # Shared bins\n",
    "\n",
    "\n",
    "# Plot all bouma factors\n",
    "fig, axes = plt.subplots(2, 1, figsize=(12, 10), sharex=True, sharey=True)\n",
    "\n",
    "axes[0].hist(bouma_5deg, bins=def_bins, color='skyblue', edgecolor='black')\n",
    "axes[0].set_title(\"Bouma factors, 5 deg\", fontsize = 16)\n",
    "axes[0].set_xlim([0,0.8])\n",
    "axes[0].set_ylim([0,40])\n",
    "\n",
    "axes[1].hist(bouma_10deg, bins=def_bins, color='skyblue', edgecolor='black')\n",
    "axes[1].set_title(\"Bouma factors, 10 deg\", fontsize = 16)\n",
    "\n",
    "\n",
    "for ax in axes.flat:\n",
    "    ax.set_xlabel(\"Bouma factors\", fontsize=14)\n",
    "    ax.set_ylabel(\"Frequency\", fontsize=14)\n",
    "\n",
    "plt.show()"
   ]
  },
  {
   "cell_type": "code",
   "execution_count": null,
   "id": "a87c5622",
   "metadata": {},
   "outputs": [],
   "source": [
    "plt.figure(figsize=(6, 6))  # Make the plot square\n",
    "plt.scatter(bouma_5deg, bouma_10deg, color='blue', label='Data points')\n",
    "plt.plot([0.05, 1], [0.05, 1], \n",
    "         color='red', linestyle='--', label='y = x')  # Line y = x\n",
    "\n",
    "# Set axes to have equal scale\n",
    "plt.axis('equal')\n",
    "plt.xscale('log')\n",
    "plt.yscale('log')\n",
    "# Add labels and legend\n",
    "plt.xlabel('Bouma factors at 5 deg')\n",
    "plt.ylabel('Bouma factors at 10 deg')\n",
    "plt.title('Bouma factors at 5 and 10 deg')\n",
    "\n",
    "plt.gca().xaxis.set_minor_locator(LogLocator(base=10.0, subs=np.arange(2, 10) * 0.1, numticks=10))\n",
    "plt.gca().yaxis.set_minor_locator(LogLocator(base=10.0, subs=np.arange(2, 10) * 0.1, numticks=10))\n",
    "\n",
    "\n",
    "# Show the plot\n",
    "plt.show()"
   ]
  }
 ],
 "metadata": {
  "kernelspec": {
   "display_name": "Python 3",
   "language": "python",
   "name": "python3"
  },
  "language_info": {
   "codemirror_mode": {
    "name": "ipython",
    "version": 3
   },
   "file_extension": ".py",
   "mimetype": "text/x-python",
   "name": "python",
   "nbconvert_exporter": "python",
   "pygments_lexer": "ipython3",
   "version": "3.13.2"
  }
 },
 "nbformat": 4,
 "nbformat_minor": 5
}
