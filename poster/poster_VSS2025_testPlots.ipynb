{
 "cells": [
  {
   "cell_type": "code",
   "execution_count": 1,
   "id": "d298be07",
   "metadata": {},
   "outputs": [],
   "source": [
    "import pandas as pd\n",
    "import numpy as np\n",
    "from scipy.stats import pearsonr\n",
    "import matplotlib.pyplot as plt\n",
    "from matplotlib.ticker import FormatStrFormatter"
   ]
  },
  {
   "cell_type": "markdown",
   "id": "d59b9ffa",
   "metadata": {},
   "source": [
    "# UNBIASED ESTIMATOR"
   ]
  },
  {
   "cell_type": "code",
   "execution_count": 2,
   "id": "20c68b13",
   "metadata": {},
   "outputs": [],
   "source": [
    "def compute_noise_ceiling_splitHalf(measurements):\n",
    "    \"\"\"\n",
    "    Reference: Diedrichsen\n",
    "    Computes the noise ceiling for a set of repeated measurements.\n",
    "    Uses split-half reliability across multiple measurements and the geometric mean formula.\n",
    "    \"\"\"\n",
    "    n_measurements = measurements.shape[1]\n",
    "    \n",
    "    odd_half = measurements.iloc[:, 1::2]\n",
    "    even_half = measurements.iloc[:, 0::2]\n",
    "    \n",
    "    r_i, _ = pearsonr(np.mean(odd_half, axis=1), np.mean(even_half, axis=1))\n",
    "\n",
    "    # Apply the extrapolation formula for multiple measurements (2 halves)\n",
    "    N = 2\n",
    "    r_m = (N * r_i) / ((r_i * (N - 1)) + 1)\n",
    "\n",
    "    return r_m"
   ]
  },
  {
   "cell_type": "code",
   "execution_count": 3,
   "id": "9567b5f8",
   "metadata": {},
   "outputs": [],
   "source": [
    "class def_variable_parameters:\n",
    "    \n",
    "    def __init__(self, betweenVar, withinVar, mean):\n",
    "        self.ObsVar = betweenVar\n",
    "        self.MeasVar = withinVar\n",
    "        self.Mean = mean"
   ]
  },
  {
   "cell_type": "code",
   "execution_count": 4,
   "id": "d897de1b",
   "metadata": {},
   "outputs": [],
   "source": [
    "def simulate_psychophysics_data(crowding_params, rsvp_params, n_samples=100, n_measurements=6, correlation = 0.6):\n",
    "    '''\n",
    "    Simulates crowding (log Bouma factors) and RSVP reading (log words/min) data\n",
    "    for specified number of samples and measurements per sample for each task\n",
    "    \n",
    "    Returns dataframe containing: the ground truth threshold for each task/participant, each measurement, \n",
    "    and the mean of those measurements for each \"participant\" (sample)\n",
    "    \n",
    "    # Parameters for the simulation\n",
    "    The two required inputs are two objects, \n",
    "    each containing the parameters of the x and the y components of this correlation simulation.\n",
    "     '''\n",
    "\n",
    "    # Covariance matrix for the \"true\" thresholds\n",
    "    cov_matrix = np.array([\n",
    "        [crowding_params.ObsVar, correlation * np.sqrt(crowding_params.ObsVar * rsvp_params.ObsVar)],\n",
    "        [correlation * np.sqrt(crowding_params.ObsVar * rsvp_params.ObsVar), rsvp_params.ObsVar]\n",
    "    ])\n",
    "\n",
    "    # Simulate \"true\" thresholds for crowding and RSVP reading\n",
    "    true_thresholds = np.random.multivariate_normal(\n",
    "        mean=[crowding_params.Mean, rsvp_params.Mean],\n",
    "        cov=cov_matrix,\n",
    "        size=n_samples\n",
    "    )\n",
    "\n",
    "    # Extract \"true\" values for crowding and RSVP\n",
    "    true_crowding = true_thresholds[:, 0]\n",
    "    true_rsvp = true_thresholds[:, 1]\n",
    "\n",
    "    # Initialize a dictionary to store measurements\n",
    "    data = {\n",
    "        'crowding_true': true_crowding,\n",
    "        'rsvp_true': true_rsvp,\n",
    "    }\n",
    "\n",
    "    # Simulate noisy measurements for both tasks in a single loop\n",
    "    # Account for learning in crowding task \n",
    "    crowding_measurements = []\n",
    "    rsvp_measurements = []\n",
    "    for i in range(n_measurements):\n",
    "        crowding_noise = np.random.normal(0, np.sqrt(crowding_params.MeasVar), size=n_samples)\n",
    "        rsvp_noise = np.random.normal(0, np.sqrt(rsvp_params.MeasVar), size=n_samples)\n",
    "        \n",
    "        # Calculate noisy measurements \n",
    "        crowding_measurement = true_crowding + crowding_noise\n",
    "        rsvp_measurement = true_rsvp + rsvp_noise\n",
    "\n",
    "        # Add individual measurements to the dictionary\n",
    "        data[f'crowding_measurement{i+1}'] = crowding_measurement\n",
    "        data[f'rsvp_measurement{i+1}'] = rsvp_measurement\n",
    "\n",
    "        # Collect measurements for later averaging\n",
    "        crowding_measurements.append(crowding_measurement)\n",
    "        rsvp_measurements.append(rsvp_measurement)\n",
    "\n",
    "    # Compute the averages of all measurements\n",
    "    data['crowding_measurement'] = np.mean(crowding_measurements, axis=0)\n",
    "    data['rsvp_measurement'] = np.mean(rsvp_measurements, axis=0)\n",
    "\n",
    "    # Create and return the DataFrame\n",
    "    simulation_data = pd.DataFrame(data)\n",
    "    return simulation_data"
   ]
  },
  {
   "cell_type": "code",
   "execution_count": 5,
   "id": "7af53ed1",
   "metadata": {},
   "outputs": [],
   "source": [
    "def run_simulation(crowding_param, rsvp_param,\n",
    "                   range_samples=(10, 30, 60, 120, 240),\n",
    "                   range_measurements=(2, 4, 8, 16),\n",
    "                   n_repetitions=300,\n",
    "                   true_correlation=0.6):\n",
    "\n",
    "    results_corr = []\n",
    "\n",
    "    # ------------- main loops ----------------------------------------\n",
    "    for n_samples in range_samples:\n",
    "        for n_meas in range_measurements:\n",
    "\n",
    "            list_raw, list_unbiased = [], []\n",
    "#            model_spec = make_model_spec(n_meas) \n",
    "\n",
    "            for _ in range(n_repetitions):\n",
    "\n",
    "                # 1) --- simulate data --------------------------------\n",
    "                sim = simulate_psychophysics_data(crowding_param, rsvp_param, n_samples, n_meas,\n",
    "                                                  correlation=true_correlation)\n",
    "                wMeans = sim['crowding_measurement']\n",
    "                zMeans = sim['rsvp_measurement']\n",
    "\n",
    "                # 2) --- raw correlation & noise ceiling --------------\n",
    "                raw_corr, _ = pearsonr(wMeans, zMeans)\n",
    "\n",
    "                W = sim[[f'crowding_measurement{i+1}' for i in range(n_meas)]]\n",
    "                Z = sim[[f'rsvp_measurement{i+1}'     for i in range(n_meas)]]\n",
    "\n",
    "                Rxx = compute_noise_ceiling_splitHalf(W)\n",
    "                Ryy = compute_noise_ceiling_splitHalf(Z)\n",
    "                lam = np.sqrt(np.abs(Rxx * Ryy))\n",
    "\n",
    "                unbiased_corr = raw_corr / lam\n",
    "                \n",
    "                # 3) --- stash ---------------------------------------\n",
    "                list_raw.append(raw_corr)\n",
    "                list_unbiased.append(unbiased_corr)\n",
    "\n",
    "            # ----- aggregated stats ----------------------------------\n",
    "            def rmse(xs):\n",
    "                return np.sqrt(np.mean((np.array(xs) - true_correlation)**2))\n",
    "\n",
    "            results_corr.append({\n",
    "                \"n_samples\":        n_samples,\n",
    "                \"n_measurements\":   n_meas,\n",
    "\n",
    "                \"rmse_raw\":    rmse(list_raw),\n",
    "                \"rmse_unbiased\":    rmse(list_unbiased)\n",
    "            })\n",
    "\n",
    "        print(f\"done with n_samples = {n_samples}\")\n",
    "\n",
    "    return pd.DataFrame(results_corr)"
   ]
  },
  {
   "cell_type": "markdown",
   "id": "524375a4",
   "metadata": {},
   "source": [
    "# EXPLORING PARAMETER SPACE"
   ]
  },
  {
   "cell_type": "code",
   "execution_count": 6,
   "id": "aafa72ed",
   "metadata": {},
   "outputs": [],
   "source": [
    "def plot_raw_unbiased(results_corr_df, x_values, x_subset_name, line_values, line_subset_name, line_label,\n",
    "                      y_measured_name, y_rceiling_name, x_label, y_label, colors, y_lim=(-0.02, 0.25)):\n",
    "\n",
    "    plt.figure(figsize=(10, 8))\n",
    "\n",
    "    for i, lv in enumerate(line_values):\n",
    "        subset = results_corr_df[results_corr_df[line_subset_name] == lv]\n",
    "        color  = colors[i]\n",
    "\n",
    "        x = subset[x_subset_name].to_numpy()       \n",
    "        y_meas = subset[y_measured_name].to_numpy()\n",
    "        y_rc   = subset[y_rceiling_name].to_numpy()\n",
    "\n",
    "        plt.plot(x, y_meas, '-o',  color=color, label=f\"{lv} (Raw)\")\n",
    "        plt.plot(x, y_rc,   '--o', color=color, label=f\"{lv} (Unbiased)\")\n",
    "\n",
    "    plt.axhline(0, color='gray', linestyle='dashed', linewidth=1)\n",
    "    plt.ylim(y_lim)\n",
    "    plt.yticks(np.arange(0, y_lim[1]+0.1, step=0.1), size=16)\n",
    "    plt.xlabel(x_label, size=18)\n",
    "    plt.ylabel(y_label, size=18)\n",
    "    plt.xscale('log')\n",
    "    plt.xticks(x_values, labels=x_values, size=16)\n",
    "    plt.gca().xaxis.set_minor_locator(plt.NullLocator())\n",
    "\n",
    "    # Build unique legend\n",
    "    handles, labels = plt.gca().get_legend_handles_labels()\n",
    "    unique_labels = list(dict.fromkeys(labels))  # preserve order but remove duplicates\n",
    "    unique_handles = [handles[labels.index(label)] for label in unique_labels]\n",
    "\n",
    "    plt.legend(unique_handles, unique_labels, title=line_label,\n",
    "               bbox_to_anchor=(1.05, 1), loc='upper left',\n",
    "               title_fontsize=16, fontsize=14)\n",
    "\n",
    "    plt.tight_layout()\n",
    "    plt.show()"
   ]
  },
  {
   "cell_type": "code",
   "execution_count": 7,
   "id": "3a3cf071",
   "metadata": {},
   "outputs": [],
   "source": [
    "def plot_raw_unbiased(results_corr_df, x_values, x_subset_name, \n",
    "                      y_measured_name, y_rceiling_name, x_label, y_label, colors, y_lim=(-0.02, 0.25)):\n",
    "\n",
    "    plt.figure(figsize=(6, 6))\n",
    "\n",
    "    color = \"dimgray\"\n",
    "\n",
    "    x = results_corr_df[x_subset_name].to_numpy()       \n",
    "    y_meas = results_corr_df[y_measured_name].to_numpy()\n",
    "    y_rc   = results_corr_df[y_rceiling_name].to_numpy()\n",
    "\n",
    "    plt.plot(x, y_meas, '-o',  label=f\"Raw\")\n",
    "    plt.plot(x, y_rc,   '--o', label=f\"Unbiased\")\n",
    "\n",
    "    plt.axhline(0, color='gray', linestyle='dashed', linewidth=1)\n",
    "    plt.ylim(y_lim)\n",
    "    plt.yticks(np.arange(0, y_lim[1]+0.1, step=0.1), size=18)\n",
    "    plt.xlabel(x_label, size=18)\n",
    "    plt.ylabel(y_label, size=18)\n",
    "    plt.xscale('log')\n",
    "    plt.xticks(x_values, labels=x_values, size=18)\n",
    "    plt.gca().xaxis.set_minor_locator(plt.NullLocator())\n",
    "\n",
    "    plt.legend(loc='upper right', title_fontsize=16, fontsize=18)\n",
    "\n",
    "    plt.tight_layout()\n",
    "    plt.show()"
   ]
  },
  {
   "cell_type": "markdown",
   "id": "6615e7b8",
   "metadata": {},
   "source": [
    "### rho = 0.6, VR = 1"
   ]
  },
  {
   "cell_type": "code",
   "execution_count": 8,
   "id": "0b35c1e9",
   "metadata": {},
   "outputs": [],
   "source": [
    "crowding_param = def_variable_parameters(betweenVar = 0.06, withinVar = 0.06, mean = 0.25)\n",
    "\n",
    "rsvp_param = def_variable_parameters(betweenVar = 0.06, withinVar = 0.06, mean = 2.9)"
   ]
  },
  {
   "cell_type": "code",
   "execution_count": 9,
   "id": "d0097c95",
   "metadata": {},
   "outputs": [
    {
     "name": "stdout",
     "output_type": "stream",
     "text": [
      "done with n_samples = 20\n",
      "done with n_samples = 40\n",
      "done with n_samples = 80\n",
      "done with n_samples = 160\n",
      "done with n_samples = 320\n",
      "done with n_samples = 640\n"
     ]
    }
   ],
   "source": [
    "results_corr_df = run_simulation(crowding_param, rsvp_param,\n",
    "                   range_samples=(20, 40, 80, 160, 320, 640),\n",
    "                   range_measurements=(2, 4, 8, 16),\n",
    "                   n_repetitions=1000,\n",
    "                   true_correlation=0.6)"
   ]
  },
  {
   "cell_type": "code",
   "execution_count": 10,
   "id": "5cb2c366",
   "metadata": {},
   "outputs": [
    {
     "ename": "TypeError",
     "evalue": "plot_raw_unbiased() got an unexpected keyword argument 'line_values'",
     "output_type": "error",
     "traceback": [
      "\u001b[0;31m---------------------------------------------------------------------------\u001b[0m",
      "\u001b[0;31mTypeError\u001b[0m                                 Traceback (most recent call last)",
      "\u001b[0;32m<ipython-input-10-7d4518cf2b4f>\u001b[0m in \u001b[0;36m<module>\u001b[0;34m\u001b[0m\n\u001b[1;32m      4\u001b[0m \u001b[0;34m\u001b[0m\u001b[0m\n\u001b[1;32m      5\u001b[0m \u001b[0;31m# 1) RMSE\u001b[0m\u001b[0;34m\u001b[0m\u001b[0;34m\u001b[0m\u001b[0;34m\u001b[0m\u001b[0m\n\u001b[0;32m----> 6\u001b[0;31m plot_raw_unbiased(\n\u001b[0m\u001b[1;32m      7\u001b[0m     \u001b[0mresults_corr_df\u001b[0m\u001b[0;34m,\u001b[0m\u001b[0;34m\u001b[0m\u001b[0;34m\u001b[0m\u001b[0m\n\u001b[1;32m      8\u001b[0m     \u001b[0mx_values\u001b[0m\u001b[0;34m=\u001b[0m\u001b[0mn_measurements\u001b[0m\u001b[0;34m,\u001b[0m\u001b[0;34m\u001b[0m\u001b[0;34m\u001b[0m\u001b[0m\n",
      "\u001b[0;31mTypeError\u001b[0m: plot_raw_unbiased() got an unexpected keyword argument 'line_values'"
     ]
    }
   ],
   "source": [
    "sample_sizes = sorted(results_corr_df[\"n_samples\"].unique())\n",
    "colors = plt.cm.tab10(np.linspace(0, 0.5, len(sample_sizes)))\n",
    "n_measurements = sorted(results_corr_df[\"n_measurements\"].unique())\n",
    "\n",
    "# 1) RMSE\n",
    "plot_raw_unbiased(\n",
    "    results_corr_df,\n",
    "    x_values=n_measurements,\n",
    "    x_subset_name='n_measurements',\n",
    "    line_values=sample_sizes,\n",
    "    line_subset_name='n_samples',\n",
    "    line_label='Sample size',\n",
    "    y_measured_name='rmse_raw',\n",
    "    y_rceiling_name='rmse_unbiased',\n",
    "    x_label='Number of measurements',\n",
    "    y_label='RMSE',\n",
    "    colors=colors,\n",
    "    y_lim=(-0.01, 0.4)  # adjust as needed\n",
    ")"
   ]
  },
  {
   "cell_type": "code",
   "execution_count": null,
   "id": "487a6130",
   "metadata": {},
   "outputs": [],
   "source": [
    "sample_sizes = sorted(results_corr_df[\"n_samples\"].unique())\n",
    "colors = plt.cm.tab10(np.linspace(0, 0.5, len(sample_sizes)))\n",
    "\n",
    "plot_raw_unbiased(\n",
    "    results_corr_df[results_corr_df['n_measurements']==2],\n",
    "    x_values=sample_sizes,\n",
    "    x_subset_name='n_samples',\n",
    "    y_measured_name='rmse_raw',\n",
    "    y_rceiling_name='rmse_unbiased',\n",
    "    x_label='Sample size',\n",
    "    y_label='RMSE',\n",
    "    colors=colors,\n",
    "    y_lim=(-0.02, 0.5))"
   ]
  },
  {
   "cell_type": "code",
   "execution_count": null,
   "id": "01676ceb",
   "metadata": {},
   "outputs": [],
   "source": [
    "n_measurements = sorted(results_corr_df[\"n_measurements\"].unique())\n",
    "colors = plt.cm.tab10(np.linspace(0, 0.5, len(sample_sizes)))\n",
    "\n",
    "plot_raw_unbiased(\n",
    "    results_corr_df[results_corr_df['n_samples']==40],\n",
    "    x_values=n_measurements,\n",
    "    x_subset_name='n_measurements',\n",
    "    y_measured_name='rmse_raw',\n",
    "    y_rceiling_name='rmse_unbiased',\n",
    "    x_label='Number of thresholds',\n",
    "    y_label='RMSE',\n",
    "    colors=colors,\n",
    "    y_lim=(-0.02, 0.5))"
   ]
  },
  {
   "cell_type": "markdown",
   "id": "fdad35ef",
   "metadata": {},
   "source": [
    "### rho = 0.3, VR = 0.5"
   ]
  },
  {
   "cell_type": "code",
   "execution_count": null,
   "id": "dbe9fa4a",
   "metadata": {},
   "outputs": [],
   "source": [
    "crowding_param = def_variable_parameters(betweenVar = 0.06, withinVar = 0.03, mean = 0.25)\n",
    "\n",
    "rsvp_param = def_variable_parameters(betweenVar = 0.06, withinVar = 0.03, mean = 2.9)"
   ]
  },
  {
   "cell_type": "code",
   "execution_count": null,
   "id": "3912b541",
   "metadata": {},
   "outputs": [],
   "source": [
    "results_corr_df = run_simulation(crowding_param, rsvp_param,\n",
    "                   range_samples=(20, 40, 80, 160, 320, 640),\n",
    "                   range_measurements=(2, 4, 8, 16),\n",
    "                   n_repetitions=1000,\n",
    "                   true_correlation=0.3)"
   ]
  },
  {
   "cell_type": "code",
   "execution_count": null,
   "id": "3eb7a3e9",
   "metadata": {},
   "outputs": [],
   "source": [
    "sample_sizes = sorted(results_corr_df[\"n_samples\"].unique())\n",
    "colors = plt.cm.tab10(np.linspace(0, 0.5, len(sample_sizes)))\n",
    "\n",
    "plot_raw_unbiased(\n",
    "    results_corr_df[results_corr_df['n_measurements']==2],\n",
    "    x_values=sample_sizes,\n",
    "    x_subset_name='n_samples',\n",
    "    y_measured_name='rmse_raw',\n",
    "    y_rceiling_name='rmse_unbiased',\n",
    "    x_label='Sample size',\n",
    "    y_label='RMSE',\n",
    "    colors=colors,\n",
    "    y_lim=(-0.02, 0.5))"
   ]
  },
  {
   "cell_type": "code",
   "execution_count": null,
   "id": "2e921b08",
   "metadata": {},
   "outputs": [],
   "source": [
    "n_measurements = sorted(results_corr_df[\"n_measurements\"].unique())\n",
    "colors = plt.cm.tab10(np.linspace(0, 0.5, len(sample_sizes)))\n",
    "\n",
    "plot_raw_unbiased(\n",
    "    results_corr_df[results_corr_df['n_samples']==40],\n",
    "    x_values=n_measurements,\n",
    "    x_subset_name='n_measurements',\n",
    "    y_measured_name='rmse_raw',\n",
    "    y_rceiling_name='rmse_unbiased',\n",
    "    x_label='Number of thresholds',\n",
    "    y_label='RMSE',\n",
    "    colors=colors,\n",
    "    y_lim=(-0.02, 0.5))"
   ]
  },
  {
   "cell_type": "markdown",
   "id": "d89d8468",
   "metadata": {},
   "source": [
    "# ESTIMATOR SELECTION"
   ]
  },
  {
   "cell_type": "code",
   "execution_count": null,
   "id": "99414e8b",
   "metadata": {},
   "outputs": [],
   "source": [
    "import numpy as np\n",
    "\n",
    "def choose_best_estimator(n_samples, n_meas, rho,\n",
    "                          obs_var_x, meas_var_x,\n",
    "                          obs_var_y, meas_var_y):\n",
    "    \"\"\"\n",
    "    Decide whether raw or R-ceiling corrected Pearson r\n",
    "    has lower RMSE, accounting for different variances in X and Y.\n",
    "\n",
    "    Parameters\n",
    "    ----------\n",
    "    n_samples : int\n",
    "        Number of observers (sample size).\n",
    "    n_meas : int\n",
    "        Number of repeated measurements per observer.\n",
    "    rho : float\n",
    "        True correlation (–1 to 1).\n",
    "    obs_var_x : float\n",
    "        Variance of true X thresholds across observers.\n",
    "    meas_var_x : float\n",
    "        Measurement noise variance for X.\n",
    "    obs_var_y : float\n",
    "        Variance of true Y thresholds across observers.\n",
    "    meas_var_y : float\n",
    "        Measurement noise variance for Y.\n",
    "\n",
    "    Returns\n",
    "    -------\n",
    "    choice : str\n",
    "        'raw' or 'r-ceiling'\n",
    "    rmse_raw : float\n",
    "    rmse_rceil : float\n",
    "    \"\"\"\n",
    "    # reliability for X and Y\n",
    "    Rx = obs_var_x / (obs_var_x + meas_var_x / n_meas)\n",
    "    Ry = obs_var_y / (obs_var_y + meas_var_y / n_meas)\n",
    "    lam = np.sqrt(Rx * Ry)\n",
    "\n",
    "    # approximate sampling variance of Pearson r\n",
    "    var_r = (1 - rho**2)**2 / (n_samples - 1)\n",
    "\n",
    "    # approximate RMSEs\n",
    "    rmse_raw = np.sqrt(var_r + (rho * (1 - lam))**2)\n",
    "    rmse_rceil = np.sqrt(var_r / lam**2)\n",
    "\n",
    "    choice = 'raw' if rmse_raw < rmse_rceil else 'r-ceiling'\n",
    "    return choice, rmse_raw, rmse_rceil"
   ]
  },
  {
   "cell_type": "code",
   "execution_count": null,
   "id": "99f8d305",
   "metadata": {},
   "outputs": [],
   "source": [
    "choice, rmse_raw, rmse_rc = choose_best_estimator(\n",
    "    n_samples=30,\n",
    "    n_meas=2,\n",
    "    rho=0.6,\n",
    "    obs_var_x=0.0254,\n",
    "    meas_var_x=0.0141*10,\n",
    "    obs_var_y=0.056,\n",
    "    meas_var_y=0.0157*10\n",
    ")\n",
    "print(f\"Best estimator: {choice}\")\n",
    "print(f\"RMSE raw = {rmse_raw:.3f}, RMSE r-ceiling = {rmse_rc:.3f}\")"
   ]
  },
  {
   "cell_type": "markdown",
   "id": "e940c660",
   "metadata": {},
   "source": [
    "# --------------------------------------------------------------------------\n",
    "# ------------------------------- ARCHIVE -------------------------------\n",
    "# --------------------------------------------------------------------------"
   ]
  },
  {
   "cell_type": "markdown",
   "id": "83874d77",
   "metadata": {},
   "source": [
    "# RELIABILITIES"
   ]
  },
  {
   "cell_type": "code",
   "execution_count": 140,
   "id": "9d0d4446",
   "metadata": {},
   "outputs": [
    {
     "data": {
      "image/png": "[encoded data removed]",
      "text/plain": [
       "<Figure size 432x432 with 1 Axes>"
      ]
     },
     "metadata": {
      "needs_background": "light"
     },
     "output_type": "display_data"
    }
   ],
   "source": [
    "# Parameters: you can change these to your desired values\n",
    "mu_x, mu_y = 0.25, 0.25\n",
    "var_x, var_y = 0.025, 0.025\n",
    "noise_std = np.sqrt(.014)\n",
    "n_points = 100\n",
    "rho = 1\n",
    "\n",
    "# Construct covariance matrix\n",
    "cov_xy = rho * np.sqrt(var_x * var_y)\n",
    "cov_matrix = np.array([[var_x, cov_xy],\n",
    "                       [cov_xy, var_y]])\n",
    "\n",
    "# Draw samples\n",
    "x, y = np.random.multivariate_normal([mu_x, mu_y], cov_matrix, size=n_points).T\n",
    "\n",
    "x_noisy = x + np.random.normal(0, noise_std, n_points)\n",
    "y_noisy = y + np.random.normal(0, noise_std, n_points)\n",
    "slope_n, intercept_n = tls_regression(x_noisy, y_noisy)\n",
    "r_value, p_value = pearsonr(x_noisy, y_noisy)\n",
    "\n",
    "plt.figure(figsize=(6, 6))\n",
    "plt.scatter(x_noisy, y_noisy, s=90, alpha=0.6)\n",
    "x_line_n = np.linspace(-3, 3, 100)\n",
    "plt.plot(x_line_n, slope_n * x_line_n + intercept_n, linewidth=2, label='TLS fit (noisy)')\n",
    "plt.text(0.05, 0.97, f'Noiseless $R$ = 1',\n",
    "         transform=plt.gca().transAxes, va='top', fontsize=22, color='black')\n",
    "plt.text(0.05, 0.89, f'Sample $R$ = {r_value:.2f}',\n",
    "         transform=plt.gca().transAxes, va='top', fontsize=22, color='red')\n",
    "plt.text(0.05, 0.8, f'$p$ = {p_value:.3f}',\n",
    "         transform=plt.gca().transAxes, va='top', fontsize=18, color='black')\n",
    "plt.xlim(-.5, 1)\n",
    "plt.ylim(-.5, 1)\n",
    "plt.xticks(size=14)\n",
    "plt.yticks(size=14)\n",
    "plt.tight_layout()\n",
    "\n",
    "plt.show()"
   ]
  },
  {
   "cell_type": "code",
   "execution_count": 141,
   "id": "d26b3b2f",
   "metadata": {},
   "outputs": [
    {
     "data": {
      "image/png": "[encoded data removed]",
      "text/plain": [
       "<Figure size 432x432 with 1 Axes>"
      ]
     },
     "metadata": {
      "needs_background": "light"
     },
     "output_type": "display_data"
    }
   ],
   "source": [
    "# Parameters\n",
    "mu_x, mu_y = 2.9, 2.9\n",
    "var_x, var_y = 0.06, 0.06\n",
    "noise_std = np.sqrt(.016)\n",
    "rho = 1\n",
    "\n",
    "# Construct covariance matrix\n",
    "cov_xy = rho * np.sqrt(var_x * var_y)\n",
    "cov_matrix = np.array([[var_x, cov_xy],\n",
    "                       [cov_xy, var_y]])\n",
    "\n",
    "# Draw samples\n",
    "x, y = np.random.multivariate_normal([mu_x, mu_y], cov_matrix, size=n_points).T\n",
    "\n",
    "x_noisy = x + np.random.normal(0, noise_std, n_points)\n",
    "y_noisy = y + np.random.normal(0, noise_std, n_points)\n",
    "slope_n, intercept_n = tls_regression(x_noisy, y_noisy)\n",
    "r_value, p_value = pearsonr(x_noisy, y_noisy)\n",
    "\n",
    "plt.figure(figsize=(6, 6))\n",
    "plt.scatter(x_noisy, y_noisy, s=90, alpha=.6)\n",
    "x_line_n = np.linspace(-3, 5, 100)\n",
    "plt.plot(x_line_n, slope_n * x_line_n + intercept_n, linewidth=2)\n",
    "plt.text(0.05, 0.97, f'Noiseless $R$ = 1',\n",
    "         transform=plt.gca().transAxes, va='top', fontsize=22, color='black')\n",
    "plt.text(0.05, 0.89, f'Sample $R$ = {r_value:.2f}',\n",
    "         transform=plt.gca().transAxes, va='top', fontsize=22, color='red')\n",
    "plt.text(0.05, 0.8, f'$p$ = {p_value:.3f}',\n",
    "         transform=plt.gca().transAxes, va='top', fontsize=18, color='black')\n",
    "plt.xlim(2, 4)\n",
    "plt.ylim(2, 4)\n",
    "plt.xticks(size=14)\n",
    "plt.yticks(size=14)\n",
    "plt.tight_layout()\n",
    "\n",
    "plt.show()"
   ]
  },
  {
   "cell_type": "code",
   "execution_count": 147,
   "id": "99156cbf",
   "metadata": {
    "scrolled": true
   },
   "outputs": [
    {
     "data": {
      "image/png": "[encoded data removed]",
      "text/plain": [
       "<Figure size 1152x216 with 1 Axes>"
      ]
     },
     "metadata": {
      "needs_background": "light"
     },
     "output_type": "display_data"
    }
   ],
   "source": [
    "# Parameters\n",
    "mu_x, mu_y = 2, 2\n",
    "var_x, var_y = 1, 1\n",
    "rho = 1\n",
    "cov_xy = rho * np.sqrt(var_x * var_y)\n",
    "cov_matrix = np.array([[var_x, cov_xy],\n",
    "                       [cov_xy, var_y]])\n",
    "N = 100\n",
    "data = np.random.multivariate_normal([mu_x, mu_y], cov_matrix, size=N)\n",
    "\n",
    "# Define a range of noise levels\n",
    "noise_levels = np.logspace(-2, 0.3, num=100)\n",
    "n_traces = 3  # number of replicate traces\n",
    "\n",
    "# Preallocate array to hold Pearson r values\n",
    "results = np.empty((n_traces, noise_levels.size))\n",
    "\n",
    "# Simulate and compute Pearson r for each trace and sample size\n",
    "for t in range(n_traces):\n",
    "    for idx, noise_var in enumerate(noise_levels):\n",
    "        noise = np.random.normal(0, np.sqrt(noise_var), size=data.shape)\n",
    "        noisy_data = data + noise\n",
    "        r, _ = pearsonr(noisy_data[:, 0], noisy_data[:, 1])\n",
    "        results[t, idx] = r\n",
    "\n",
    "plt.figure(figsize=(16, 3))\n",
    "for t in range(n_traces):\n",
    "    plt.plot(noise_levels, results[t], label=f'Simulation {t+1}')\n",
    "plt.axhline(1, color='black', ls='--', label = 'Perfect reliability')\n",
    "plt.xlabel('VR')\n",
    "plt.ylabel(\"Test-retest reliability\")\n",
    "plt.xticks(size=16)\n",
    "plt.yticks(size=16)\n",
    "#plt.xlim(0,100)\n",
    "plt.ylim(0,1.2)\n",
    "plt.xscale('log')\n",
    "ax = plt.gca()\n",
    "# Use %g so you get regular decimal notation (e.g. 0.1, 1, 10) instead of 1e-1, 1e0, 1e1\n",
    "ax.xaxis.set_major_formatter(FormatStrFormatter('%g'))\n",
    "\n",
    "# And adjust tick label sizes\n",
    "ax.tick_params(axis='x', labelsize=16)\n",
    "plt.legend(fontsize=14)\n",
    "plt.show()"
   ]
  }
 ],
 "metadata": {
  "kernelspec": {
   "display_name": "Python 3",
   "language": "python",
   "name": "python3"
  },
  "language_info": {
   "codemirror_mode": {
    "name": "ipython",
    "version": 3
   },
   "file_extension": ".py",
   "mimetype": "text/x-python",
   "name": "python",
   "nbconvert_exporter": "python",
   "pygments_lexer": "ipython3",
   "version": "3.8.8"
  }
 },
 "nbformat": 4,
 "nbformat_minor": 5
}
