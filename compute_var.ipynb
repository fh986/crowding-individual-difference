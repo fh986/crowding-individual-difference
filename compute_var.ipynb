{
 "cells": [
  {
   "cell_type": "code",
   "execution_count": 1,
   "id": "1d44a580-e398-466d-a9b2-17e3abc9db91",
   "metadata": {},
   "outputs": [],
   "source": [
    "# !pip install seaborn\n"
   ]
  },
  {
   "cell_type": "code",
   "execution_count": 2,
   "id": "13f644fd",
   "metadata": {},
   "outputs": [],
   "source": [
    "import os\n",
    "import pandas as pd\n",
    "import numpy as np\n",
    "import matplotlib.pyplot as plt\n",
    "import math\n",
    "import seaborn as sns\n",
    "import scipy.stats as stats\n",
    "from collections import OrderedDict\n",
    "import matplotlib.ticker as ticker\n",
    "from scipy.stats import pearsonr, norm, gmean, sem, median_abs_deviation\n"
   ]
  },
  {
   "cell_type": "code",
   "execution_count": 3,
   "id": "ddaa1d94",
   "metadata": {},
   "outputs": [
    {
     "name": "stdout",
     "output_type": "stream",
     "text": [
      "Number of total sessions:  360\n"
     ]
    }
   ],
   "source": [
    "# Set up files\n",
    "dir_firstSess = 'data/corr_firstSess'\n",
    "files_firstSess = [f for f in os.listdir(dir_firstSess) if f.endswith('.csv')]\n",
    "\n",
    "dir_secondSess = 'data/corr_secondSess'\n",
    "files_secondSess = [f for f in os.listdir(dir_secondSess) if f.endswith('.csv')]\n",
    "\n",
    "numTotalSessions = len(files_firstSess) + len(files_secondSess)\n",
    "\n",
    "print('Number of total sessions: ', numTotalSessions)"
   ]
  },
  {
   "cell_type": "markdown",
   "id": "a7771a83",
   "metadata": {},
   "source": [
    "# Functions for analysis"
   ]
  },
  {
   "cell_type": "code",
   "execution_count": 4,
   "id": "8998a85b",
   "metadata": {},
   "outputs": [],
   "source": [
    "def calc_within_subj_variance(df, task_prefix):\n",
    "    \"\"\"Calculate within-subject variance for all subjects for a given task prefix.\"\"\"\n",
    "    task_cols = [col for col in df.columns if col.startswith(task_prefix)]\n",
    "    # Calculate variance for each subject (row) across repeats (columns)\n",
    "    return df[task_cols].var(axis=1, ddof=1).mean()\n",
    "\n",
    "def calc_between_subj_variance(df, task_prefix):\n",
    "    \"\"\"Calculate between-subject variance for a given task prefix.\"\"\"\n",
    "    task_cols = [col for col in df.columns if col.startswith(task_prefix)]\n",
    "    # Average across repeats for each subject\n",
    "    subj_means = df[task_cols].mean(axis=1)\n",
    "    # Variance between subjects\n",
    "    return np.nanvar(subj_means, ddof=1)\n",
    "\n",
    "def calc_mean(df, task_prefix):\n",
    "    \"\"\"Calculate mean for all thresholds for a given task prefix.\"\"\"\n",
    "    task_cols = [col for col in df.columns if col.startswith(task_prefix)]\n",
    "    # first average across repeats for each subject\n",
    "    subj_means = df[task_cols].mean(axis=1)\n",
    "    # then average across subjects\n",
    "    return np.nanmean(subj_means)\n",
    "\n",
    "def compute_noise_ceiling(df, task_prefix):\n",
    "\t\"\"\"\n",
    "\tReference: Diedrichsen\n",
    "\tComputes the noise ceiling for a set of repeated measurements.\n",
    "\tUses split-half reliability across multiple measurements and the geometric mean formula.\n",
    "\t\"\"\"\n",
    "\ttask_cols = [col for col in df.columns if col.startswith(task_prefix)]\n",
    "\tmeasurements = df[task_cols]\n",
    "\n",
    "\tn_measurements = measurements.shape[1]\n",
    "\t\n",
    "\tfirst_half = measurements.iloc[:, :n_measurements//2]\n",
    "\tlast_half = measurements.iloc[:, n_measurements//2:]\n",
    "\todd_half = measurements.iloc[:, 1::2]\n",
    "\teven_half = measurements.iloc[:, 0::2]\n",
    "\t\n",
    "\t# Compute means while ignoring NaN\n",
    "\tmean_first_half = np.mean(first_half, axis=1)\n",
    "\tmean_last_half = np.mean(last_half, axis=1)\n",
    "\n",
    "\t# Filter out rows where either mean is NaN\n",
    "\tvalid_indices = ~np.isnan(mean_first_half) & ~np.isnan(mean_last_half)\n",
    "\n",
    "\t# Compute Pearson correlation only for valid rows\n",
    "\tr_firstLast, _ = pearsonr(mean_first_half[valid_indices], mean_last_half[valid_indices])\n",
    "\n",
    "\t# Repeat for odd/even halves\n",
    "\tmean_odd_half = np.mean(odd_half, axis=1)\n",
    "\tmean_even_half = np.mean(even_half, axis=1)\n",
    "\n",
    "     \n",
    "\tvalid_indices = ~np.isnan(mean_odd_half) & ~np.isnan(mean_even_half)\n",
    "\tr_oddEven, _ = pearsonr(mean_odd_half[valid_indices], mean_even_half[valid_indices])\n",
    "\t\n",
    "\t# Compute the split-half reliability as the geometric mean\n",
    "\tr_i = np.sqrt(r_firstLast * r_oddEven)\n",
    "\n",
    "\t# Apply the extrapolation formula for multiple measurements\n",
    "\tN = 2\n",
    "\tr_m = (N * r_i) / ((r_i * (N - 1)) + 1)\n",
    "\n",
    "\treturn r_m\n",
    "\n",
    "\n",
    "def gather_results(df, task_prefixes):\n",
    "    \"\"\"Gather results for within and between subject variance.\"\"\"\n",
    "    results = []\n",
    "    for task in task_prefixes:\n",
    "\n",
    "\t\t\n",
    "        within_var = calc_within_subj_variance(df, task)\n",
    "        between_var = calc_between_subj_variance(df, task)\n",
    "        mean_val = calc_mean(df, task)\n",
    "        r_ceiling = compute_noise_ceiling(df, task)\n",
    "        \n",
    "        results.append({'task': task, 'within_subj_variance': within_var, \n",
    "                        'btw_subj_variance': between_var, 'mean': mean_val,\n",
    "                        'r_ceiling': r_ceiling})\n",
    "    return pd.DataFrame(results)"
   ]
  },
  {
   "cell_type": "markdown",
   "id": "2bddc953",
   "metadata": {},
   "source": [
    "# Prolific Data -- Data cleaning"
   ]
  },
  {
   "cell_type": "markdown",
   "id": "5a8d18c0",
   "metadata": {},
   "source": [
    "## Check if all experiments are completed"
   ]
  },
  {
   "cell_type": "code",
   "execution_count": 5,
   "id": "3cbf14fe",
   "metadata": {},
   "outputs": [],
   "source": [
    "def checkIfComplete(mydir, files):\n",
    "    \n",
    "    numSess = len(files)\n",
    "    \n",
    "    for sess in range(numSess):\n",
    "\n",
    "        # Read the CSV file\n",
    "        file_path = os.path.join(mydir, files[sess])\n",
    "        mainOutput = pd.read_csv(file_path)\n",
    "\n",
    "        # Exclusion criteria 1: experiment completed\n",
    "        # print(files[sess])\n",
    "        complete_val = mainOutput['experimentCompleteBool'].dropna().iloc[0]\n",
    "        complete_bool = str(complete_val) == 'True'\n",
    "        if not complete_bool:\n",
    "            prolificID = mainOutput['ProlificParticipantID'].dropna().iloc[0]\n",
    "            print(f'Warning: incomplete experiment (session: {sess})')\n",
    "            \n",
    "    print(f'Completion check completed! ({numSess} files total)')\n",
    "                        "
   ]
  },
  {
   "cell_type": "code",
   "execution_count": 6,
   "id": "2a993b63",
   "metadata": {},
   "outputs": [
    {
     "name": "stdout",
     "output_type": "stream",
     "text": [
      "Completion check completed! (189 files total)\n"
     ]
    }
   ],
   "source": [
    "checkIfComplete(dir_firstSess, files_firstSess)"
   ]
  },
  {
   "cell_type": "code",
   "execution_count": 7,
   "id": "9e84f46d",
   "metadata": {},
   "outputs": [
    {
     "name": "stdout",
     "output_type": "stream",
     "text": [
      "Completion check completed! (171 files total)\n"
     ]
    }
   ],
   "source": [
    "checkIfComplete(dir_secondSess, files_secondSess)"
   ]
  },
  {
   "cell_type": "markdown",
   "id": "210b9b01",
   "metadata": {},
   "source": [
    "## Acquire thresholds for all tasks"
   ]
  },
  {
   "cell_type": "markdown",
   "id": "e5628276",
   "metadata": {
    "jp-MarkdownHeadingCollapsed": true
   },
   "source": [
    "### Functions:"
   ]
  },
  {
   "cell_type": "code",
   "execution_count": 8,
   "id": "31cb1596",
   "metadata": {},
   "outputs": [],
   "source": [
    "def getThresholds(mydir, files, condition_names, num_trials_per_staircase=35,\n",
    "                     exclude_trial_count_bool=True, exclude_questSD=True):\n",
    "    \n",
    "    all_data = []\n",
    "    \n",
    "    numSess = len(files)\n",
    "    numThresholdsCat = len(condition_names)\n",
    "    \n",
    "    for sess in range(numSess):\n",
    "\n",
    "        # Read the CSV file\n",
    "        file_path = os.path.join(mydir, files[sess])\n",
    "        mainOutput = pd.read_csv(file_path)\n",
    "        subj_logThresholds = {}\n",
    "\n",
    "        # print(files[sess])\n",
    "        # print(mainOutput['ProlificParticipantID'].dropna())\n",
    "        prolificID = mainOutput['ProlificParticipantID'].dropna().iloc[0]\n",
    "        subj_logThresholds['prolificID'] = prolificID\n",
    "                \n",
    "        for cat in range(numThresholdsCat):\n",
    "            \n",
    "            condition_name = condition_names[cat]\n",
    "                        \n",
    "            condition_data = mainOutput[mainOutput['conditionName'] == condition_name]\n",
    "\n",
    "            assert(len(condition_data.questMeanAtEndOfTrialsLoop.dropna()) == 1)\n",
    "            subj_logThresholds[condition_name] = condition_data.questMeanAtEndOfTrialsLoop.dropna().iloc[0]\n",
    "\n",
    "            if exclude_trial_count_bool: \n",
    "                # Count trials sent to quest\n",
    "                trial_sent = condition_data['trialGivenToQuest']           \n",
    "                num_trial_sent = sum(str(this_trial) == 'True' for this_trial in trial_sent)\n",
    "                num_trial_not_sent = sum(str(this_trial) == 'False' for this_trial in trial_sent)\n",
    "                trial_sent_bool = num_trial_sent >= num_trials_per_staircase\n",
    "                num_missing_line = sum(trial_sent.isna())\n",
    "                if not trial_sent_bool:\n",
    "                    subj_logThresholds[condition_name] = np.nan\n",
    "                    # print(files[sess])\n",
    "                    # print(f'Warning1: not enough trials (Session {sess}, condition {condition_name})')\n",
    "                    # print(f'Num total trials: {len(trial_sent) - 1}')\n",
    "                    # print(f'Num trials missing: {num_trials_per_staircase - num_trial_sent}')\n",
    "                    # print(f'Num trials marked as not sent: {num_trial_not_sent}')\n",
    "                    # print(f'Num lines missing: {num_missing_line - 1}')\n",
    "\n",
    "            if exclude_questSD:\n",
    "                questSD = condition_data['questSDAtEndOfTrialsLoop'].dropna().iloc[0]\n",
    "                small_questSD_bool = questSD < 0.1\n",
    "                if not small_questSD_bool:\n",
    "                    subj_logThresholds[condition_name] = np.nan\n",
    "                    # print(f'Warning2: large SD (Session {sess}, condition {condition_name}, SD = {questSD})')\n",
    "        \n",
    "        all_data.append(subj_logThresholds)\n",
    "        \n",
    "        all_data_df = pd.DataFrame(all_data)\n",
    "        \n",
    "    return all_data_df\n",
    "            \n"
   ]
  },
  {
   "cell_type": "code",
   "execution_count": 9,
   "id": "a37f23df",
   "metadata": {},
   "outputs": [],
   "source": [
    "def getRSVPThresholds(mydir, files, condition_names, num_trials_per_staircase=24,\n",
    "                     exclude_trial_count_bool=True, exclude_questSD=True):\n",
    "    \n",
    "    all_data = []\n",
    "    \n",
    "    numSess = len(files)\n",
    "    numThresholdsCat = len(condition_names)\n",
    "    \n",
    "    for sess in range(numSess):\n",
    "\n",
    "        file_path = os.path.join(mydir, files[sess])\n",
    "        mainOutput = pd.read_csv(file_path)\n",
    "        subj_wpm = {}\n",
    "                \n",
    "        prolificID = mainOutput['ProlificParticipantID'].dropna().iloc[0]\n",
    "        subj_wpm['prolificID'] = prolificID\n",
    "                \n",
    "        for cat in range(numThresholdsCat):\n",
    "            \n",
    "            condition_name = condition_names[cat]\n",
    "                        \n",
    "            condition_data = mainOutput[mainOutput['conditionName'] == condition_name]\n",
    "\n",
    "            # Extract threshold: \n",
    "            # check that only 1 threshold is reported for this condition\n",
    "            assert(len(condition_data.questMeanAtEndOfTrialsLoop.dropna()) == 1)\n",
    "            thresholds_raw_log = condition_data.questMeanAtEndOfTrialsLoop.dropna().iloc[0]\n",
    "            subj_wpm[condition_name] = np.power(10, np.log10(60) - thresholds_raw_log)\n",
    "\n",
    "            if exclude_trial_count_bool: \n",
    "                        \n",
    "                # Count trials sent to quest\n",
    "                trial_sent = condition_data['trialGivenToQuest']           \n",
    "                num_trial_sent = sum(str(this_trial) == 'True' for this_trial in trial_sent)\n",
    "                num_trial_not_sent = sum(str(this_trial) == 'False' for this_trial in trial_sent)\n",
    "                trial_sent_bool = num_trial_sent >= num_trials_per_staircase\n",
    "                num_missing_line = sum(trial_sent.isna())\n",
    "\n",
    "                if not trial_sent_bool:\n",
    "                    subj_wpm[condition_name] = np.nan\n",
    "                    # print(files[sess])\n",
    "                    # print(f'Warning1: not enough trials (Session {sess}, condition {condition_name})')\n",
    "                    # print(f'Num total trials: {len(trial_sent) - 1}')\n",
    "                    # print(f'Num trials missing: {num_trials_per_staircase - num_trial_sent}')\n",
    "                    # print(f'Num trials marked as not sent: {num_trial_not_sent}')\n",
    "                    # print(f'Num lines missing: {num_missing_line - 1}')\n",
    "\n",
    "            if exclude_questSD:\n",
    "                questSD = condition_data['questSDAtEndOfTrialsLoop'].dropna().iloc[0]\n",
    "                small_questSD_bool = questSD < 0.1\n",
    "                \n",
    "                if not small_questSD_bool:\n",
    "                    subj_wpm[condition_name] = np.nan\n",
    "                    # print(f'Warning2: large SD (Session {sess}, condition {condition_name}, SD = {questSD})')\n",
    "            \n",
    "        \n",
    "        all_data.append(subj_wpm)\n",
    "        \n",
    "        all_data_df = pd.DataFrame(all_data)\n",
    "        \n",
    "    return all_data_df\n",
    "        "
   ]
  },
  {
   "cell_type": "code",
   "execution_count": 10,
   "id": "31027c64",
   "metadata": {},
   "outputs": [],
   "source": [
    "def getOrdReadingSpeed(mydir, files, condition_dict,\n",
    "                       accuracy_criterion_percent=60, wpm_criterion=400):\n",
    "    '''\n",
    "    accuracy_criterion_percent: the reading speed will be marked as np.nan if the accuracy for the comprehension question\n",
    "                                is lower than this percentage\n",
    "    wpm_criteiron: the reading speed will be marked as np.nan if it is higher than this percentage\n",
    "    '''\n",
    "    \n",
    "    condition_names = list(condition_dict.keys())\n",
    "    \n",
    "    all_data = []\n",
    "    \n",
    "    numSess = len(files)\n",
    "    numThresholdsCat = len(condition_names)\n",
    "    \n",
    "    for sess in range(numSess):\n",
    "        \n",
    "        # Read the CSV file\n",
    "        file_path = os.path.join(mydir, files[sess])\n",
    "        mainOutput = pd.read_csv(file_path)\n",
    "        subj_wpm = {}\n",
    "                \n",
    "        # print(files[sess])\n",
    "        prolificID = mainOutput['ProlificParticipantID'].dropna().iloc[0]\n",
    "        subj_wpm['prolificID'] = prolificID\n",
    "        \n",
    "        for cat in range(numThresholdsCat):\n",
    "            \n",
    "            condition_name = condition_names[cat]\n",
    "\n",
    "            # Check if the participant answered 3 or more questions correctly\n",
    "            question_labels = condition_dict[condition_name]\n",
    "            num_questions = len(question_labels)\n",
    "            question_correct_bool = np.full(num_questions,np.nan)\n",
    "            for qq in range(num_questions):\n",
    "\n",
    "                qq_data = mainOutput[mainOutput['questionAndAnswerNickname'] == question_labels[qq]]\n",
    "                \n",
    "                question_correct_bool[qq] = (qq_data['questionAndAnswerCorrectAnswer'].item() == qq_data['questionAndAnswerResponse'].item())\n",
    "                \n",
    "            percent_correct = sum(question_correct_bool) / num_questions * 100 \n",
    "            \n",
    "            # calculate reading speed\n",
    "            speed_data = mainOutput[mainOutput['conditionName'] == condition_name]\n",
    "            numWords = speed_data['readingPageWords'].dropna()\n",
    "            reading_time = speed_data['readingPageDurationOnsetToOffsetSec'].dropna()\n",
    "            pg_wordsPerMin = numWords / (reading_time / 60)\n",
    "            include_wordsPerMin = pg_wordsPerMin[1:len(pg_wordsPerMin)-1] # exclude first and last page\n",
    "            subj_wpm[condition_name] = np.mean(include_wordsPerMin)\n",
    "            \n",
    "            if percent_correct < accuracy_criterion_percent: \n",
    "                # print(f'Warning: percent correct is too low: session {sess}, passage {cat}')\n",
    "                subj_wpm[condition_name] = np.nan\n",
    "\n",
    "            if np.mean(include_wordsPerMin) > wpm_criterion:\n",
    "                # print(f'Warning: ordinary reading speed is too high: session {sess}, passage {cat}')\n",
    "                # print(f'-- wpm: {np.mean(include_wordsPerMin)}')\n",
    "                subj_wpm[condition_name] = np.nan\n",
    "\n",
    "    \n",
    "                \n",
    "        all_data.append(subj_wpm)\n",
    "        \n",
    "        all_data_df = pd.DataFrame(all_data)\n",
    "        \n",
    "    return all_data_df\n",
    "            "
   ]
  },
  {
   "cell_type": "markdown",
   "id": "256da66a",
   "metadata": {},
   "source": [
    "### Acquire thresholds:\n",
    "\n",
    "- Note that data acquired for RSVP and Ordinary reading are in words per min -- not logged\n",
    "\n",
    "- All the other thresholds are logged"
   ]
  },
  {
   "cell_type": "code",
   "execution_count": null,
   "id": "f06e24fe",
   "metadata": {
    "scrolled": true
   },
   "outputs": [],
   "source": [
    "# first session\n",
    "\n",
    "thresholds_names_sess1 = ['crowding_R8_block1','crowding_L8_block1',\n",
    "                          'crowding_R8_block2','crowding_L8_block2',\n",
    "                          'acuity_R8_block1','acuity_L8_block1']\n",
    "df_firstSess = getThresholds(dir_firstSess, files_firstSess, thresholds_names_sess1, exclude_trial_count_bool=True, exclude_questSD=True)\n",
    "\n",
    "thresholds_vernier_sess1 = ['vernier_R8_block1','vernier_L8_block1']\n",
    "df_firstSess_vernier = getThresholds(dir_firstSess, files_firstSess, thresholds_vernier_sess1, exclude_trial_count_bool=True, exclude_questSD=False)\n",
    "\n",
    "# thresholds_rsvp_sess1 = ['rsvp_foveal_block1']\n",
    "# df_firstSess_rsvp = getRSVPThresholds(dir_firstSess, files_firstSess, thresholds_rsvp_sess1, exclude_trial_count_bool=True, exclude_questSD=True)\n",
    "thresholds_rsvp_sess1 = ['rsvp_foveal_block1']\n",
    "df_firstSess_rsvp = getThresholds(dir_firstSess, files_firstSess, thresholds_rsvp_sess1, num_trials_per_staircase=24, exclude_trial_count_bool=True, exclude_questSD=True)\n",
    "\n",
    "\n",
    "thresholds_names_read1 = {\n",
    "        'reading_Beaver_block1': ['Beaver_1','Beaver_2','Beaver_3','Beaver_4','Beaver_5'],\n",
    "        'reading_Winter_block2': ['Winter_1','Winter_2','Winter_3','Winter_4','Winter_5']}\n",
    "df_firstSess_reading = getOrdReadingSpeed(dir_firstSess, files_firstSess, thresholds_names_read1, accuracy_criterion_percent=60, wpm_criterion=100000)"
   ]
  },
  {
   "cell_type": "code",
   "execution_count": null,
   "id": "c1b68c63",
   "metadata": {
    "scrolled": true
   },
   "outputs": [],
   "source": [
    "# second session\n",
    "\n",
    "thresholds_names_sess2 = ['crowding_R8_block3','crowding_L8_block3',\n",
    "                          'crowding_R8_block4','crowding_L8_block4',\n",
    "                          'acuity_R8_block2','acuity_L8_block2']\n",
    "df_secondSess = getThresholds(dir_secondSess, files_secondSess, thresholds_names_sess2, exclude_trial_count_bool=True, exclude_questSD=True)\n",
    "\n",
    "thresholds_vernier_sess2 = ['vernier_R8_block2','vernier_L8_block2']\n",
    "df_secondSess_vernier = getThresholds(dir_secondSess, files_secondSess, thresholds_vernier_sess2, exclude_trial_count_bool=True, exclude_questSD=False)\n",
    "\n",
    "# thresholds_rsvp_sess2 = ['rsvp_foveal_block2']\n",
    "# df_secondSess_rsvp = getRSVPThresholds(dir_secondSess, files_secondSess, thresholds_rsvp_sess2, exclude_trial_count_bool=True, exclude_questSD=True)\n",
    "thresholds_rsvp_sess2 = ['rsvp_foveal_block2']\n",
    "df_secondSess_rsvp = getThresholds(dir_secondSess, files_secondSess, thresholds_rsvp_sess2, num_trials_per_staircase=24, exclude_trial_count_bool=True, exclude_questSD=True)\n",
    "\n",
    "thresholds_names_read2 = {\n",
    "        'reading_Desert_block1': ['Desert_1','Desert_2','Desert_3','Desert_4','Desert_5'],\n",
    "        'reading_Islands_block2': ['Islands_1','Islands_2','Islands_3','Islands_4','Islands_5']}\n",
    "\n",
    "df_secondSess_reading = getOrdReadingSpeed(dir_secondSess, files_secondSess, thresholds_names_read2, accuracy_criterion_percent=60, wpm_criterion=100000)\n",
    ""
   ]
  },
  {
   "cell_type": "code",
   "execution_count": null,
   "id": "4a6d95c1",
   "metadata": {
    "scrolled": true
   },
   "outputs": [],
   "source": [
    "# merge data frames\n",
    "df_first_merge = pd.merge(df_firstSess, df_firstSess_vernier, on=\"prolificID\", how=\"inner\")\n",
    "df_first_merge = pd.merge(df_first_merge, df_firstSess_rsvp, on=\"prolificID\", how=\"inner\")\n",
    "df_first = pd.merge(df_first_merge, df_firstSess_reading, on=\"prolificID\", how=\"inner\")\n",
    "\n",
    "df_second_merge = pd.merge(df_secondSess, df_secondSess_vernier, on=\"prolificID\", how=\"inner\")\n",
    "df_second_merge = pd.merge(df_second_merge, df_secondSess_rsvp, on=\"prolificID\", how=\"inner\")\n",
    "df_second = pd.merge(df_second_merge, df_secondSess_reading, on=\"prolificID\", how=\"inner\")\n",
    "\n",
    "\n",
    "df_both_sessions = pd.merge(df_first, df_second, on=\"prolificID\", how=\"inner\")\n",
    "# display(df_both_sessions)\n",
    "# print(df_both_sessions.columns)"
   ]
  },
  {
   "cell_type": "code",
   "execution_count": null,
   "id": "66d4867d",
   "metadata": {},
   "outputs": [],
   "source": []
  },
  {
   "cell_type": "markdown",
   "id": "facaa50c-67de-461c-8fc0-eff0490df425",
   "metadata": {},
   "source": [
    "### For each task, exclude all thresholds from a participant if one threshold is abnormal"
   ]
  },
  {
   "cell_type": "code",
   "execution_count": null,
   "id": "3e09852e",
   "metadata": {},
   "outputs": [],
   "source": [
    "def nan_out_task(df, task_prefixes):\n",
    "    df = df.copy()\n",
    "    for prefix in task_prefixes:\n",
    "        task_cols = [col for col in df.columns if col.startswith(prefix)]\n",
    "        # Find rows where any of the task columns is nan\n",
    "        mask = df[task_cols].isna().any(axis=1)\n",
    "        # Set all task columns to nan for those rows\n",
    "        df.loc[mask, task_cols] = np.nan\n",
    "    return df"
   ]
  },
  {
   "cell_type": "code",
   "execution_count": null,
   "id": "20185787",
   "metadata": {},
   "outputs": [],
   "source": [
    "task_prefixes = ['crowding', 'vernier', 'acuity', 'rsvp', 'reading']\n",
    "\n",
    "# Apply to your data frame\n",
    "df_both_sessions_exclude_subj_task = nan_out_task(df_both_sessions, task_prefixes)"
   ]
  },
  {
   "cell_type": "markdown",
   "id": "8c7da4f3",
   "metadata": {},
   "source": [
    "### Average left and right thresholds for acuity and crowding"
   ]
  },
  {
   "cell_type": "code",
   "execution_count": null,
   "id": "052a48d8",
   "metadata": {},
   "outputs": [
    {
     "name": "stdout",
     "output_type": "stream",
     "text": [
      "Index(['prolificID', 'crowding_avg_block1', 'crowding_avg_block2',\n",
      "       'crowding_avg_block3', 'crowding_avg_block4', 'acuity_avg_block1',\n",
      "       'acuity_avg_block2', 'vernier_avg_block1', 'vernier_avg_block2',\n",
      "       'reading_avg_log_block1', 'reading_avg_log_block2',\n",
      "       'rsvp_foveal_log_block1', 'rsvp_foveal_log_block2'],\n",
      "      dtype='object')\n"
     ]
    }
   ],
   "source": [
    "df_both_sessions_averagedRL = df_both_sessions_exclude_subj_task.copy()\n",
    "\n",
    "# Average left and right thresholds for acuity, crowding, and vernier in each block\n",
    "blocks = ['block1', 'block2', 'block3', 'block4']\n",
    "tasks = ['crowding', 'acuity', 'vernier']\n",
    "\n",
    "for task in tasks:\n",
    "    for block in blocks:\n",
    "        col_R = f\"{task}_R8_{block}\"\n",
    "        col_L = f\"{task}_L8_{block}\"\n",
    "        avg_col = f\"{task}_avg_{block}\"\n",
    "        if col_R in df_both_sessions_averagedRL.columns and col_L in df_both_sessions_averagedRL.columns:\n",
    "            df_both_sessions_averagedRL[avg_col] = (\n",
    "                df_both_sessions_averagedRL[[col_R, col_L]].mean(axis=1)\n",
    "            )\n",
    "\n",
    "df_both_sessions_averagedRL['reading_avg_log_block1'] = ((np.log10(df_both_sessions_averagedRL['reading_Beaver_block1']) + \n",
    "                                                    np.log10(df_both_sessions_averagedRL['reading_Winter_block2'])) / 2)\n",
    "df_both_sessions_averagedRL['reading_avg_log_block2'] = ((np.log10(df_both_sessions_averagedRL['reading_Desert_block1']) + \n",
    "                                                    np.log10(df_both_sessions_averagedRL['reading_Islands_block2'])) / 2)\n",
    "\n",
    "df_both_sessions_averagedRL['rsvp_foveal_log_block1'] = df_both_sessions_averagedRL['rsvp_foveal_block1'] # np.log10()\n",
    "df_both_sessions_averagedRL['rsvp_foveal_log_block2'] = df_both_sessions_averagedRL['rsvp_foveal_block2'] # np.log10()\n",
    "\n",
    "# Find all averaged columns (ending with '_avg_blockX')\n",
    "avg_cols = [col for col in df_both_sessions_averagedRL.columns if '_avg_' in col]\n",
    "# Find all RSVP columns\n",
    "rsvp_cols = [col for col in df_both_sessions_averagedRL.columns if '_log_' in col]\n",
    "# # Find all reading columns\n",
    "# reading_cols = [col for col in df_both_sessions_averagedRL.columns if col.startswith('reading')]\n",
    "\n",
    "# Combine all columns\n",
    "all_cols = ['prolificID'] + avg_cols + rsvp_cols # + reading_cols\n",
    "all_cols = list(OrderedDict.fromkeys(all_cols))\n",
    "\n",
    "# Create the cleaned DataFrame\n",
    "df_averaged = df_both_sessions_averagedRL[all_cols].copy()\n",
    "\n",
    "print(df_averaged.columns)\n",
    "\n",
    ""
   ]
  },
  {
   "cell_type": "markdown",
   "id": "e14396ef",
   "metadata": {},
   "source": [
    "# Prolific Data -- Analysis\n",
    "For df_both_sessions and df_both_sessions_exclude_subj_task:\n",
    "- letter, vernier, crowding are in logged deg: when we take the mean directly, it's taking the geometric mean\n",
    "- rsvp and ordinary reading speeds are in words per minute: remember to log before taking the mean! "
   ]
  },
  {
   "cell_type": "code",
   "execution_count": null,
   "id": "9a5fb576",
   "metadata": {},
   "outputs": [],
   "source": [
    "df_for_analysis = df_averaged.copy()"
   ]
  },
  {
   "cell_type": "markdown",
   "id": "38944519",
   "metadata": {},
   "source": [
    "### Test-retest"
   ]
  },
  {
   "cell_type": "code",
   "execution_count": null,
   "id": "6bba4027",
   "metadata": {},
   "outputs": [],
   "source": [
    "# df_for_analysis['crowding_R8_12'] = (df_for_analysis['crowding_R8_block1'] + \n",
    "#                                       df_for_analysis['crowding_R8_block2']) / 2\n",
    "\n",
    "# df_for_analysis['crowding_L8_12'] = (df_for_analysis['crowding_L8_block1'] + \n",
    "#                                       df_for_analysis['crowding_L8_block2']) / 2\n",
    "\n",
    "# df_for_analysis['crowding_R8_34'] = (df_for_analysis['crowding_R8_block3'] + \n",
    "#                                       df_for_analysis['crowding_R8_block4']) / 2\n",
    "\n",
    "# df_for_analysis['crowding_L8_34'] = (df_for_analysis['crowding_L8_block3'] + \n",
    "#                                       df_for_analysis['crowding_L8_block4']) / 2"
   ]
  },
  {
   "cell_type": "code",
   "execution_count": null,
   "id": "75c5a96f",
   "metadata": {},
   "outputs": [
    {
     "name": "stdout",
     "output_type": "stream",
     "text": [
      "Index(['prolificID', 'crowding_avg_block1', 'crowding_avg_block2',\n",
      "       'crowding_avg_block3', 'crowding_avg_block4', 'acuity_avg_block1',\n",
      "       'acuity_avg_block2', 'vernier_avg_block1', 'vernier_avg_block2',\n",
      "       'reading_avg_log_block1', 'reading_avg_log_block2',\n",
      "       'rsvp_foveal_log_block1', 'rsvp_foveal_log_block2'],\n",
      "      dtype='object')\n"
     ]
    }
   ],
   "source": [
    "print(df_for_analysis.columns)"
   ]
  },
  {
   "cell_type": "code",
   "execution_count": null,
   "id": "a66da32c",
   "metadata": {},
   "outputs": [
    {
     "name": "stdout",
     "output_type": "stream",
     "text": [
      "   task  within_subj_variance  btw_subj_variance     mean  r_ceiling\n",
      "0  rsvp              0.039683           0.052974 -1.35943   0.625804\n"
     ]
    }
   ],
   "source": [
    "task_prefixes = ['crowding', 'vernier', 'acuity', 'rsvp', 'reading']\n",
    "task_prefixes = ['rsvp']\n",
    "variance_df = gather_results(df_for_analysis, task_prefixes)\n",
    "print(variance_df)"
   ]
  },
  {
   "cell_type": "markdown",
   "id": "22afcdab",
   "metadata": {},
   "source": [
    "## Plot mean thresholds over repeats"
   ]
  },
  {
   "cell_type": "code",
   "execution_count": null,
   "id": "cb13850c",
   "metadata": {},
   "outputs": [],
   "source": [
    "def plot_mean_thresholds(df, var_name=\"Log crowding thresholds\", ylims = [0.1, 0.7]):\n",
    "    \"\"\"\n",
    "    Plots mean and median of thresholds across participants for each repeat with error bars\n",
    "    \n",
    "    Parameters:\n",
    "    df (numpy.ndarray or pandas.DataFrame): A dataset where each column represents a different block/repeat\n",
    "                                               and each row is a participant's data.\n",
    "    var_name (str): The name of the variable being plotted (used in the title and y-axis label).\n",
    "    \"\"\"\n",
    "    plt.figure(figsize=(8, 4))\n",
    "\n",
    "    # Shaded patch\n",
    "    patch_min = 0.18\n",
    "    patch_max = 0.41\n",
    "    plt.axhspan(patch_min, patch_max, color='lightgray', alpha=0.5)\n",
    "\n",
    "    # X-axis positions\n",
    "    x = np.arange(1, df.shape[1] + 1)\n",
    "\n",
    "    # Compute statistics\n",
    "    median_values = np.nanmedian(df, axis=0)\n",
    "    mean_values = np.nanmean(df, axis=0)\n",
    "\n",
    "    # Compute error bars\n",
    "    median_errors = median_abs_deviation(df, axis=0, nan_policy='omit')  # MAD for median\n",
    "    mean_errors = sem(df, axis=0, nan_policy='omit')  # SEM for mean\n",
    "\n",
    "    # Plot with error bars\n",
    "    plt.errorbar(x, median_values, yerr=median_errors, fmt='o-', color='orange', label='Median', capsize=0)\n",
    "    plt.errorbar(x + .08, mean_values, yerr=mean_errors, fmt='o-', color='red', label='Mean', capsize=0)\n",
    "\n",
    "    # Formatting\n",
    "    plt.title(f'Mean {var_name})', fontsize=16)\n",
    "    plt.xlabel('Repeats', fontsize=16)\n",
    "    plt.xticks(x, size=14)\n",
    "    plt.ylabel(var_name, fontsize=16)\n",
    "    plt.legend(fontsize='large')\n",
    "\n",
    "    # Log scale and tick formatting\n",
    "    plt.yscale('log')\n",
    "    # plt.yticks(np.linspace(ylims[0], ylims[1], 5), size=14)\n",
    "    \n",
    "    plt.ylim(ylims)\n",
    "\n",
    "    # ax = plt.gca()\n",
    "    # ax.yaxis.set_major_formatter(ticker.ScalarFormatter())\n",
    "    # # ax.yaxis.get_major_formatter().set_useOffset(False)\n",
    "    # ax.yaxis.set_major_formatter(ticker.FormatStrFormatter('%.1f'))\n",
    "    # # ax.yaxis.get_major_formatter().set_scientific(False)\n",
    "\n",
    "\n",
    "\n",
    "    plt.show()"
   ]
  },
  {
   "cell_type": "code",
   "execution_count": null,
   "id": "5f4b1a7c",
   "metadata": {},
   "outputs": [
    {
     "name": "stdout",
     "output_type": "stream",
     "text": [
      "crowding_avg_block1   -0.284863\n",
      "crowding_avg_block2   -0.288642\n",
      "crowding_avg_block3   -0.432254\n",
      "crowding_avg_block4   -0.408712\n",
      "dtype: float64\n"
     ]
    }
   ],
   "source": [
    "df_crowding = df_for_analysis.filter(like='crowding_avg_')\n",
    "print(df_crowding.min())\n"
   ]
  },
  {
   "cell_type": "code",
   "execution_count": null,
   "id": "fdf31cea",
   "metadata": {},
   "outputs": [
    {
     "data": {
      "image/png": "[encoded data removed]",
      "text/plain": [
       "<Figure size 800x400 with 1 Axes>"
      ]
     },
     "metadata": {},
     "output_type": "display_data"
    }
   ],
   "source": [
    "plot_mean_thresholds(df_crowding, var_name=\"Bouma factor\", ylims = [.1, .7])"
   ]
  },
  {
   "cell_type": "markdown",
   "id": "563b86f6",
   "metadata": {},
   "source": [
    "# Kurzawski et al. (2025, Nature Comm) Data"
   ]
  },
  {
   "cell_type": "code",
   "execution_count": null,
   "id": "a958c929",
   "metadata": {},
   "outputs": [
    {
     "name": "stdout",
     "output_type": "stream",
     "text": [
      "Index(['V1_R1_lh', 'V1_R2_lh', 'V2_R1_lh', 'V2_R2_lh', 'V3_R1_lh', 'V3_R2_lh',\n",
      "       'V4_R1_lh', 'V4_R2_lh', 'V1_R1_rh', 'V1_R2_rh', 'V2_R1_rh', 'V2_R2_rh',\n",
      "       'V3_R1_rh', 'V3_R2_rh', 'V4_R1_rh', 'V4_R2_rh', 'NLetters',\n",
      "       'NLetters_S1', 'NLetters_S2', 'NLetters_RightMeridian',\n",
      "       'NLetters_LeftMeridian', 'crowdingDist_Ecc5_Left_Meridian_Ses1',\n",
      "       'crowdingDist_Ecc5_Left_Meridian_Ses2',\n",
      "       'crowdingDist_Ecc5_Lower_Meridian_Ses1',\n",
      "       'crowdingDist_Ecc5_Lower_Meridian_Ses2',\n",
      "       'crowdingDist_Ecc5_Right_Meridian_Ses1',\n",
      "       'crowdingDist_Ecc5_Right_Meridian_Ses2',\n",
      "       'crowdingDist_Ecc5_Upper_Meridian_Ses1',\n",
      "       'crowdingDist_Ecc5_Upper_Meridian_Ses2',\n",
      "       'crowdingDist_Ecc10_Left_Meridian_Ses1',\n",
      "       'crowdingDist_Ecc10_Left_Meridian_Ses2',\n",
      "       'crowdingDist_Ecc10_Lower_Meridian_Ses1',\n",
      "       'crowdingDist_Ecc10_Lower_Meridian_Ses2',\n",
      "       'crowdingDist_Ecc10_Right_Meridian_Ses1',\n",
      "       'crowdingDist_Ecc10_Right_Meridian_Ses2',\n",
      "       'crowdingDist_Ecc10_Upper_Meridian_Ses1',\n",
      "       'crowdingDist_Ecc10_Upper_Meridian_Ses2'],\n",
      "      dtype='object')\n"
     ]
    }
   ],
   "source": [
    "dir_natCom = 'data/kurzawski_2025_data.csv'\n",
    "natCom_data = pd.read_csv(dir_natCom)\n",
    "print(natCom_data.columns)"
   ]
  },
  {
   "cell_type": "code",
   "execution_count": null,
   "id": "45ffed71",
   "metadata": {},
   "outputs": [],
   "source": [
    "# Create a new DataFrame with columns that start with 'crowdingDist'\n",
    "natCom_crowding = natCom_data.filter(like='crowdingDist')\n",
    "natCom_crowding_log = natCom_crowding.apply(np.log10)\n",
    "\n",
    "natCom_crowding_avgRL_log = pd.DataFrame({\n",
    "    'crowding_Ecc5_RL_Ses1': (natCom_crowding_log['crowdingDist_Ecc5_Left_Meridian_Ses1'] +\n",
    "                              natCom_crowding_log['crowdingDist_Ecc5_Right_Meridian_Ses1']) / 2,\n",
    "\t'crowding_Ecc5_RL_Ses2': (natCom_crowding_log['crowdingDist_Ecc5_Left_Meridian_Ses2'] +\n",
    "\t\t\t\t\t\t\t  natCom_crowding_log['crowdingDist_Ecc5_Right_Meridian_Ses2']) / 2,\n",
    "    'crowding_Ecc10_RL_Ses1': (natCom_crowding_log['crowdingDist_Ecc10_Left_Meridian_Ses1'] +\n",
    "\t\t\t\t\t\t\t  natCom_crowding_log['crowdingDist_Ecc10_Right_Meridian_Ses1']) / 2,\n",
    "    'crowding_Ecc10_RL_Ses2': (natCom_crowding_log['crowdingDist_Ecc10_Left_Meridian_Ses2'] +\n",
    "\t\t\t\t\t\t\t  natCom_crowding_log['crowdingDist_Ecc10_Right_Meridian_Ses2']) / 2\n",
    "})"
   ]
  },
  {
   "cell_type": "code",
   "execution_count": null,
   "id": "32ce3cc5",
   "metadata": {},
   "outputs": [],
   "source": [
    "# Create a new DataFrame with the summed columns\n",
    "natCom_data_map_sum = pd.DataFrame({\n",
    "    'V1_R1': natCom_data['V1_R1_rh'] + natCom_data['V1_R1_lh'],\n",
    "    'V1_R2': natCom_data['V1_R2_rh'] + natCom_data['V1_R2_lh'],\n",
    "    'V2_R1': natCom_data['V2_R1_rh'] + natCom_data['V2_R1_lh'],\n",
    "    'V2_R2': natCom_data['V2_R2_rh'] + natCom_data['V2_R2_lh'],\n",
    "    'V3_R1': natCom_data['V3_R1_rh'] + natCom_data['V3_R1_lh'],\n",
    "    'V3_R2': natCom_data['V3_R2_rh'] + natCom_data['V3_R2_lh'],\n",
    "    'V4_R1': natCom_data['V4_R1_rh'] + natCom_data['V4_R1_lh'],\n",
    "    'V4_R2': natCom_data['V4_R2_rh'] + natCom_data['V4_R2_lh']\n",
    "})\n",
    "natCom_data_map_sum_log = natCom_data_map_sum.apply(np.log10)\n"
   ]
  },
  {
   "cell_type": "markdown",
   "id": "0d4fadad",
   "metadata": {},
   "source": [
    "## Map size data"
   ]
  },
  {
   "cell_type": "code",
   "execution_count": null,
   "id": "e47c0186",
   "metadata": {},
   "outputs": [
    {
     "data": {
      "text/html": [
       "<div>\n",
       "<style scoped>\n",
       "    .dataframe tbody tr th:only-of-type {\n",
       "        vertical-align: middle;\n",
       "    }\n",
       "\n",
       "    .dataframe tbody tr th {\n",
       "        vertical-align: top;\n",
       "    }\n",
       "\n",
       "    .dataframe thead th {\n",
       "        text-align: right;\n",
       "    }\n",
       "</style>\n",
       "<table border=\"1\" class=\"dataframe\">\n",
       "  <thead>\n",
       "    <tr style=\"text-align: right;\">\n",
       "      <th></th>\n",
       "      <th>task</th>\n",
       "      <th>within_subj_variance</th>\n",
       "      <th>btw_subj_variance</th>\n",
       "      <th>mean</th>\n",
       "      <th>r_ceiling</th>\n",
       "    </tr>\n",
       "  </thead>\n",
       "  <tbody>\n",
       "    <tr>\n",
       "      <th>0</th>\n",
       "      <td>V1</td>\n",
       "      <td>0.000556</td>\n",
       "      <td>0.007229</td>\n",
       "      <td>3.448854</td>\n",
       "      <td>0.962393</td>\n",
       "    </tr>\n",
       "    <tr>\n",
       "      <th>1</th>\n",
       "      <td>V2</td>\n",
       "      <td>0.000505</td>\n",
       "      <td>0.004018</td>\n",
       "      <td>3.432388</td>\n",
       "      <td>0.940514</td>\n",
       "    </tr>\n",
       "    <tr>\n",
       "      <th>2</th>\n",
       "      <td>V3</td>\n",
       "      <td>0.001997</td>\n",
       "      <td>0.005033</td>\n",
       "      <td>3.315249</td>\n",
       "      <td>0.846299</td>\n",
       "    </tr>\n",
       "    <tr>\n",
       "      <th>3</th>\n",
       "      <td>V4</td>\n",
       "      <td>0.004003</td>\n",
       "      <td>0.010480</td>\n",
       "      <td>2.947784</td>\n",
       "      <td>0.836813</td>\n",
       "    </tr>\n",
       "  </tbody>\n",
       "</table>\n",
       "</div>"
      ],
      "text/plain": [
       "  task  within_subj_variance  btw_subj_variance      mean  r_ceiling\n",
       "0   V1              0.000556           0.007229  3.448854   0.962393\n",
       "1   V2              0.000505           0.004018  3.432388   0.940514\n",
       "2   V3              0.001997           0.005033  3.315249   0.846299\n",
       "3   V4              0.004003           0.010480  2.947784   0.836813"
      ]
     },
     "metadata": {},
     "output_type": "display_data"
    }
   ],
   "source": [
    "df_for_analysis = natCom_data_map_sum_log.copy()\n",
    "brain_prefixes = ['V1', 'V2', 'V3', 'V4']\n",
    "                                  \n",
    "brain_df = gather_results(df_for_analysis, brain_prefixes)\n",
    "display(brain_df)\n",
    "\n",
    "variance_df = pd.concat([variance_df, brain_df], ignore_index=True)"
   ]
  },
  {
   "cell_type": "markdown",
   "id": "73069bc8",
   "metadata": {},
   "source": [
    "## Crowding data"
   ]
  },
  {
   "cell_type": "code",
   "execution_count": null,
   "id": "c79af9c0",
   "metadata": {},
   "outputs": [
    {
     "data": {
      "text/html": [
       "<div>\n",
       "<style scoped>\n",
       "    .dataframe tbody tr th:only-of-type {\n",
       "        vertical-align: middle;\n",
       "    }\n",
       "\n",
       "    .dataframe tbody tr th {\n",
       "        vertical-align: top;\n",
       "    }\n",
       "\n",
       "    .dataframe thead th {\n",
       "        text-align: right;\n",
       "    }\n",
       "</style>\n",
       "<table border=\"1\" class=\"dataframe\">\n",
       "  <thead>\n",
       "    <tr style=\"text-align: right;\">\n",
       "      <th></th>\n",
       "      <th>task</th>\n",
       "      <th>within_subj_variance</th>\n",
       "      <th>btw_subj_variance</th>\n",
       "      <th>mean</th>\n",
       "      <th>r_ceiling</th>\n",
       "    </tr>\n",
       "  </thead>\n",
       "  <tbody>\n",
       "    <tr>\n",
       "      <th>0</th>\n",
       "      <td>crowding_Ecc5_RL</td>\n",
       "      <td>0.004324</td>\n",
       "      <td>0.017300</td>\n",
       "      <td>0.008261</td>\n",
       "      <td>0.914395</td>\n",
       "    </tr>\n",
       "    <tr>\n",
       "      <th>1</th>\n",
       "      <td>crowding_Ecc10_RL</td>\n",
       "      <td>0.003429</td>\n",
       "      <td>0.014616</td>\n",
       "      <td>0.391177</td>\n",
       "      <td>0.880993</td>\n",
       "    </tr>\n",
       "  </tbody>\n",
       "</table>\n",
       "</div>"
      ],
      "text/plain": [
       "                task  within_subj_variance  btw_subj_variance      mean  \\\n",
       "0   crowding_Ecc5_RL              0.004324           0.017300  0.008261   \n",
       "1  crowding_Ecc10_RL              0.003429           0.014616  0.391177   \n",
       "\n",
       "   r_ceiling  \n",
       "0   0.914395  \n",
       "1   0.880993  "
      ]
     },
     "metadata": {},
     "output_type": "display_data"
    }
   ],
   "source": [
    "df_for_analysis = natCom_crowding_avgRL_log.copy()\n",
    "task_prefixes = ['crowding_Ecc5_RL', 'crowding_Ecc10_RL']\n",
    "\n",
    "crowding_natcom_df = gather_results(df_for_analysis, task_prefixes)\n",
    "display(crowding_natcom_df)\n",
    "\n",
    "variance_df = pd.concat([variance_df, crowding_natcom_df], ignore_index=True)"
   ]
  },
  {
   "cell_type": "markdown",
   "id": "204621c0",
   "metadata": {},
   "source": [
    "## Correlate crowding and V4"
   ]
  },
  {
   "cell_type": "code",
   "execution_count": null,
   "id": "5270e7e6",
   "metadata": {},
   "outputs": [
    {
     "name": "stdout",
     "output_type": "stream",
     "text": [
      "Correlation between V4 size and crowding at 10 deg: -0.559, p-value: 0.000\n",
      "Noise ceiling for crowding at 10 deg: 0.881\n",
      "Noise ceiling for V4 size: 0.837\n",
      "Corrected correlation between V4 size and crowding at 10 deg: -0.652\n"
     ]
    }
   ],
   "source": [
    "V4_size = (natCom_data_map_sum_log['V4_R1'] + natCom_data_map_sum_log['V4_R2']) / 2\n",
    "crowding_10deg = (natCom_crowding_avgRL_log['crowding_Ecc10_RL_Ses1'] +\n",
    "                 natCom_crowding_avgRL_log['crowding_Ecc10_RL_Ses2']) / 2\n",
    "\n",
    "# correlate V4 and crowding\n",
    "measured_corr_V4_crowding = pearsonr(V4_size, crowding_10deg)\n",
    "print(f'Correlation between V4 size and crowding at 10 deg: {measured_corr_V4_crowding[0]:.3f}, p-value: {measured_corr_V4_crowding[1]:.3f}')\n",
    "\n",
    "# get noise ceiling for crowding and V4\n",
    "r_ceiling_crowding_10deg = variance_df.loc[variance_df['task'] == 'crowding_Ecc10_RL', 'r_ceiling'].values[0]\n",
    "r_ceiling_V4 = variance_df.loc[variance_df['task'] == 'V4', 'r_ceiling'].values[0]\n",
    "print(f'Noise ceiling for crowding at 10 deg: {r_ceiling_crowding_10deg:.3f}')\n",
    "print(f'Noise ceiling for V4 size: {r_ceiling_V4:.3f}')\n",
    "\n",
    "# correction for noise ceiling\n",
    "r_ceil = np.sqrt(r_ceiling_crowding_10deg * r_ceiling_V4)\n",
    "corrected_corr_V4_crowding = measured_corr_V4_crowding[0] / r_ceil\n",
    "print(f'Corrected correlation between V4 size and crowding at 10 deg: {corrected_corr_V4_crowding:.3f}')"
   ]
  },
  {
   "cell_type": "markdown",
   "id": "da310a5d",
   "metadata": {},
   "source": [
    "# Save data"
   ]
  },
  {
   "cell_type": "code",
   "execution_count": null,
   "id": "82385d3d",
   "metadata": {},
   "outputs": [],
   "source": [
    "variance_df.to_csv(\"variance_df.csv\", index=False)"
   ]
  },
  {
   "cell_type": "code",
   "execution_count": null,
   "id": "714c50c4",
   "metadata": {},
   "outputs": [],
   "source": []
  }
 ],
 "metadata": {
  "kernelspec": {
   "display_name": "base",
   "language": "python",
   "name": "python3"
  },
  "language_info": {
   "codemirror_mode": {
    "name": "ipython",
    "version": 3
   },
   "file_extension": ".py",
   "mimetype": "text/x-python",
   "name": "python",
   "nbconvert_exporter": "python",
   "pygments_lexer": "ipython3",
   "version": "3.11.11"
  }
 },
 "nbformat": 4,
 "nbformat_minor": 5
}
