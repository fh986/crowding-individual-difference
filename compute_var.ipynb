{
 "cells": [
  {
   "cell_type": "code",
   "execution_count": 2,
   "id": "1d44a580-e398-466d-a9b2-17e3abc9db91",
   "metadata": {},
   "outputs": [],
   "source": [
    "# !pip install seaborn\n"
   ]
  },
  {
   "cell_type": "code",
   "execution_count": 3,
   "id": "13f644fd",
   "metadata": {},
   "outputs": [],
   "source": [
    "import os\n",
    "import pandas as pd\n",
    "import numpy as np\n",
    "import matplotlib.pyplot as plt\n",
    "import math\n",
    "import seaborn as sns\n",
    "import scipy.stats as stats\n",
    "from collections import OrderedDict\n",
    "import matplotlib.ticker as ticker\n",
    "from scipy.stats import pearsonr, norm, gmean, sem, median_abs_deviation\n"
   ]
  },
  {
   "cell_type": "code",
   "execution_count": 4,
   "id": "ddaa1d94",
   "metadata": {},
   "outputs": [
    {
     "name": "stdout",
     "output_type": "stream",
     "text": [
      "Number of total sessions:  316\n"
     ]
    }
   ],
   "source": [
    "# Set up files\n",
    "dir_firstSess = 'data/corr_firstSess'\n",
    "files_firstSess = [f for f in os.listdir(dir_firstSess) if f.endswith('.csv')]\n",
    "\n",
    "dir_secondSess = 'data/corr_secondSess'\n",
    "files_secondSess = [f for f in os.listdir(dir_secondSess) if f.endswith('.csv')]\n",
    "\n",
    "numTotalSessions = len(files_firstSess) + len(files_secondSess)\n",
    "\n",
    "print('Number of total sessions: ', numTotalSessions)"
   ]
  },
  {
   "cell_type": "markdown",
   "id": "2bddc953",
   "metadata": {},
   "source": [
    "# Prolific Data -- Data cleaning"
   ]
  },
  {
   "cell_type": "markdown",
   "id": "5a8d18c0",
   "metadata": {},
   "source": [
    "## Check if all experiments are completed"
   ]
  },
  {
   "cell_type": "code",
   "execution_count": 5,
   "id": "3cbf14fe",
   "metadata": {},
   "outputs": [],
   "source": [
    "def checkIfComplete(mydir, files):\n",
    "    \n",
    "    numSess = len(files)\n",
    "    \n",
    "    for sess in range(numSess):\n",
    "\n",
    "        # Read the CSV file\n",
    "        file_path = os.path.join(mydir, files[sess])\n",
    "        mainOutput = pd.read_csv(file_path)\n",
    "\n",
    "        # Exclusion criteria 1: experiment completed\n",
    "        # print(files[sess])\n",
    "        complete_val = mainOutput['experimentCompleteBool'].dropna().iloc[0]\n",
    "        complete_bool = str(complete_val) == 'True'\n",
    "        if not complete_bool:\n",
    "            prolificID = mainOutput['ProlificParticipantID'].dropna().iloc[0]\n",
    "            print(f'Warning: incomplete experiment (session: {sess})')\n",
    "            \n",
    "    print(f'Completion check completed! ({numSess} files total)')\n",
    "                        "
   ]
  },
  {
   "cell_type": "code",
   "execution_count": 6,
   "id": "2a993b63",
   "metadata": {},
   "outputs": [
    {
     "name": "stdout",
     "output_type": "stream",
     "text": [
      "Completion check completed! (167 files total)\n"
     ]
    }
   ],
   "source": [
    "checkIfComplete(dir_firstSess, files_firstSess)"
   ]
  },
  {
   "cell_type": "code",
   "execution_count": 7,
   "id": "9e84f46d",
   "metadata": {},
   "outputs": [
    {
     "name": "stdout",
     "output_type": "stream",
     "text": [
      "Completion check completed! (149 files total)\n"
     ]
    }
   ],
   "source": [
    "checkIfComplete(dir_secondSess, files_secondSess)"
   ]
  },
  {
   "cell_type": "markdown",
   "id": "210b9b01",
   "metadata": {},
   "source": [
    "## Acquire thresholds for all tasks"
   ]
  },
  {
   "cell_type": "markdown",
   "id": "e5628276",
   "metadata": {
    "jp-MarkdownHeadingCollapsed": true
   },
   "source": [
    "### Functions:"
   ]
  },
  {
   "cell_type": "code",
   "execution_count": 8,
   "id": "31cb1596",
   "metadata": {},
   "outputs": [],
   "source": [
    "def getThresholds(mydir, files, condition_names, num_trials_per_staircase=35,\n",
    "                     exclude_trial_count_bool=True, exclude_questSD=True):\n",
    "    \n",
    "    all_data = []\n",
    "    \n",
    "    numSess = len(files)\n",
    "    numThresholdsCat = len(condition_names)\n",
    "    \n",
    "    for sess in range(numSess):\n",
    "\n",
    "        # Read the CSV file\n",
    "        file_path = os.path.join(mydir, files[sess])\n",
    "        mainOutput = pd.read_csv(file_path)\n",
    "        subj_logThresholds = {}\n",
    "\n",
    "        # print(files[sess])\n",
    "        # print(mainOutput['ProlificParticipantID'].dropna())\n",
    "        prolificID = mainOutput['ProlificParticipantID'].dropna().iloc[0]\n",
    "        subj_logThresholds['prolificID'] = prolificID\n",
    "                \n",
    "        for cat in range(numThresholdsCat):\n",
    "            \n",
    "            condition_name = condition_names[cat]\n",
    "                        \n",
    "            condition_data = mainOutput[mainOutput['conditionName'] == condition_name]\n",
    "\n",
    "            assert(len(condition_data.questMeanAtEndOfTrialsLoop.dropna()) == 1)\n",
    "            subj_logThresholds[condition_name] = condition_data.questMeanAtEndOfTrialsLoop.dropna().iloc[0]\n",
    "\n",
    "            if exclude_trial_count_bool: \n",
    "                # Count trials sent to quest\n",
    "                trial_sent = condition_data['trialGivenToQuest']           \n",
    "                num_trial_sent = sum(str(this_trial) == 'True' for this_trial in trial_sent)\n",
    "                num_trial_not_sent = sum(str(this_trial) == 'False' for this_trial in trial_sent)\n",
    "                trial_sent_bool = num_trial_sent >= num_trials_per_staircase\n",
    "                num_missing_line = sum(trial_sent.isna())\n",
    "                if not trial_sent_bool:\n",
    "                    subj_logThresholds[condition_name] = np.nan\n",
    "                    # print(files[sess])\n",
    "                    # print(f'Warning1: not enough trials (Session {sess}, condition {condition_name})')\n",
    "                    # print(f'Num total trials: {len(trial_sent) - 1}')\n",
    "                    # print(f'Num trials missing: {num_trials_per_staircase - num_trial_sent}')\n",
    "                    # print(f'Num trials marked as not sent: {num_trial_not_sent}')\n",
    "                    # print(f'Num lines missing: {num_missing_line - 1}')\n",
    "\n",
    "            if exclude_questSD:\n",
    "                questSD = condition_data['questSDAtEndOfTrialsLoop'].dropna().iloc[0]\n",
    "                small_questSD_bool = questSD < 0.1\n",
    "                if not small_questSD_bool:\n",
    "                    subj_logThresholds[condition_name] = np.nan\n",
    "                    # print(f'Warning2: large SD (Session {sess}, condition {condition_name}, SD = {questSD})')\n",
    "        \n",
    "        all_data.append(subj_logThresholds)\n",
    "        \n",
    "        all_data_df = pd.DataFrame(all_data)\n",
    "        \n",
    "    return all_data_df\n",
    "            \n"
   ]
  },
  {
   "cell_type": "code",
   "execution_count": 9,
   "id": "a37f23df",
   "metadata": {},
   "outputs": [],
   "source": [
    "def getRSVPThresholds(mydir, files, condition_names, num_trials_per_staircase=24,\n",
    "                     exclude_trial_count_bool=True, exclude_questSD=True):\n",
    "    \n",
    "    all_data = []\n",
    "    \n",
    "    numSess = len(files)\n",
    "    numThresholdsCat = len(condition_names)\n",
    "    \n",
    "    for sess in range(numSess):\n",
    "\n",
    "        file_path = os.path.join(mydir, files[sess])\n",
    "        mainOutput = pd.read_csv(file_path)\n",
    "        subj_wpm = {}\n",
    "                \n",
    "        prolificID = mainOutput['ProlificParticipantID'].dropna().iloc[0]\n",
    "        subj_wpm['prolificID'] = prolificID\n",
    "                \n",
    "        for cat in range(numThresholdsCat):\n",
    "            \n",
    "            condition_name = condition_names[cat]\n",
    "                        \n",
    "            condition_data = mainOutput[mainOutput['conditionName'] == condition_name]\n",
    "\n",
    "            # Extract threshold: \n",
    "            # check that only 1 threshold is reported for this condition\n",
    "            assert(len(condition_data.questMeanAtEndOfTrialsLoop.dropna()) == 1)\n",
    "            thresholds_raw_log = condition_data.questMeanAtEndOfTrialsLoop.dropna().iloc[0]\n",
    "            subj_wpm[condition_name] = np.power(10, np.log10(60) - thresholds_raw_log)\n",
    "\n",
    "            if exclude_trial_count_bool: \n",
    "                        \n",
    "                # Count trials sent to quest\n",
    "                trial_sent = condition_data['trialGivenToQuest']           \n",
    "                num_trial_sent = sum(str(this_trial) == 'True' for this_trial in trial_sent)\n",
    "                num_trial_not_sent = sum(str(this_trial) == 'False' for this_trial in trial_sent)\n",
    "                trial_sent_bool = num_trial_sent >= num_trials_per_staircase\n",
    "                num_missing_line = sum(trial_sent.isna())\n",
    "\n",
    "                if not trial_sent_bool:\n",
    "                    subj_wpm[condition_name] = np.nan\n",
    "                    # print(files[sess])\n",
    "                    # print(f'Warning1: not enough trials (Session {sess}, condition {condition_name})')\n",
    "                    # print(f'Num total trials: {len(trial_sent) - 1}')\n",
    "                    # print(f'Num trials missing: {num_trials_per_staircase - num_trial_sent}')\n",
    "                    # print(f'Num trials marked as not sent: {num_trial_not_sent}')\n",
    "                    # print(f'Num lines missing: {num_missing_line - 1}')\n",
    "\n",
    "            if exclude_questSD:\n",
    "                questSD = condition_data['questSDAtEndOfTrialsLoop'].dropna().iloc[0]\n",
    "                small_questSD_bool = questSD < 0.1\n",
    "                \n",
    "                if not small_questSD_bool:\n",
    "                    subj_wpm[condition_name] = np.nan\n",
    "                    # print(f'Warning2: large SD (Session {sess}, condition {condition_name}, SD = {questSD})')\n",
    "            \n",
    "        \n",
    "        all_data.append(subj_wpm)\n",
    "        \n",
    "        all_data_df = pd.DataFrame(all_data)\n",
    "        \n",
    "    return all_data_df\n",
    "        "
   ]
  },
  {
   "cell_type": "code",
   "execution_count": 10,
   "id": "31027c64",
   "metadata": {},
   "outputs": [],
   "source": [
    "def getOrdReadingSpeed(mydir, files, condition_dict,\n",
    "                       accuracy_criterion_percent=60, wpm_criterion=400):\n",
    "    '''\n",
    "    accuracy_criterion_percent: the reading speed will be marked as np.nan if the accuracy for the comprehension question\n",
    "                                is lower than this percentage\n",
    "    wpm_criteiron: the reading speed will be marked as np.nan if it is higher than this percentage\n",
    "    '''\n",
    "    \n",
    "    condition_names = list(condition_dict.keys())\n",
    "    \n",
    "    all_data = []\n",
    "    \n",
    "    numSess = len(files)\n",
    "    numThresholdsCat = len(condition_names)\n",
    "    \n",
    "    for sess in range(numSess):\n",
    "        \n",
    "        # Read the CSV file\n",
    "        file_path = os.path.join(mydir, files[sess])\n",
    "        mainOutput = pd.read_csv(file_path)\n",
    "        subj_wpm = {}\n",
    "                \n",
    "        prolificID = mainOutput['ProlificParticipantID'].dropna().iloc[0]\n",
    "        subj_wpm['prolificID'] = prolificID\n",
    "        \n",
    "        for cat in range(numThresholdsCat):\n",
    "            \n",
    "            condition_name = condition_names[cat]\n",
    "\n",
    "            # Check if the participant answered 3 or more questions correctly\n",
    "            question_labels = condition_dict[condition_name]\n",
    "            num_questions = len(question_labels)\n",
    "            question_correct_bool = np.full(num_questions,np.nan)\n",
    "            for qq in range(num_questions):\n",
    "\n",
    "                qq_data = mainOutput[mainOutput['questionAndAnswerNickname'] == question_labels[qq]]\n",
    "                \n",
    "                question_correct_bool[qq] = (qq_data['questionAndAnswerCorrectAnswer'].item() == qq_data['questionAndAnswerResponse'].item())\n",
    "                \n",
    "            percent_correct = sum(question_correct_bool) / num_questions * 100 \n",
    "            \n",
    "            # calculate reading speed\n",
    "            speed_data = mainOutput[mainOutput['conditionName'] == condition_name]\n",
    "            numWords = speed_data['readingPageWords'].dropna()\n",
    "            reading_time = speed_data['readingPageDurationOnsetToOffsetSec'].dropna()\n",
    "            pg_wordsPerMin = numWords / (reading_time / 60)\n",
    "            include_wordsPerMin = pg_wordsPerMin[1:len(pg_wordsPerMin)-1] # exclude first and last page\n",
    "            subj_wpm[condition_name] = np.mean(include_wordsPerMin)\n",
    "            \n",
    "            if percent_correct < accuracy_criterion_percent: \n",
    "                # print(f'Warning: percent correct is too low: session {sess}, passage {cat}')\n",
    "                subj_wpm[condition_name] = np.nan\n",
    "\n",
    "            if np.mean(include_wordsPerMin) > wpm_criterion:\n",
    "                # print(f'Warning: ordinary reading speed is too high: session {sess}, passage {cat}')\n",
    "                # print(f'-- wpm: {np.mean(include_wordsPerMin)}')\n",
    "                subj_wpm[condition_name] = np.nan\n",
    "\n",
    "    \n",
    "                \n",
    "        all_data.append(subj_wpm)\n",
    "        \n",
    "        all_data_df = pd.DataFrame(all_data)\n",
    "        \n",
    "    return all_data_df\n",
    "            "
   ]
  },
  {
   "cell_type": "markdown",
   "id": "256da66a",
   "metadata": {},
   "source": [
    "### Acquire thresholds:\n",
    "\n",
    "- Note that data acquired for RSVP and Ordinary reading are in words per min -- not logged\n",
    "\n",
    "- All the other thresholds are logged"
   ]
  },
  {
   "cell_type": "code",
   "execution_count": 11,
   "id": "f06e24fe",
   "metadata": {
    "scrolled": true
   },
   "outputs": [],
   "source": [
    "# first session\n",
    "\n",
    "thresholds_names_sess1 = ['crowding_R8_block1','crowding_L8_block1',\n",
    "                          'crowding_R8_block2','crowding_L8_block2',\n",
    "                          'acuity_R8_block1','acuity_L8_block1']\n",
    "df_firstSess = getThresholds(dir_firstSess, files_firstSess, thresholds_names_sess1, exclude_trial_count_bool=True, exclude_questSD=True)\n",
    "\n",
    "thresholds_vernier_sess1 = ['vernier_R8_block1','vernier_L8_block1']\n",
    "df_firstSess_vernier = getThresholds(dir_firstSess, files_firstSess, thresholds_vernier_sess1, exclude_trial_count_bool=True, exclude_questSD=False)\n",
    "\n",
    "thresholds_rsvp_sess1 = ['rsvp_foveal_block1']\n",
    "df_firstSess_rsvp = getRSVPThresholds(dir_firstSess, files_firstSess, thresholds_rsvp_sess1, exclude_trial_count_bool=True, exclude_questSD=True)\n",
    "\n",
    "thresholds_names_read1 = {\n",
    "        'reading_Beaver_block1': ['Beaver_1','Beaver_2','Beaver_3','Beaver_4','Beaver_5'],\n",
    "        'reading_Winter_block2': ['Winter_1','Winter_2','Winter_3','Winter_4','Winter_5']}\n",
    "df_firstSess_reading = getOrdReadingSpeed(dir_firstSess, files_firstSess, thresholds_names_read1, accuracy_criterion_percent=60, wpm_criterion=400)"
   ]
  },
  {
   "cell_type": "code",
   "execution_count": 12,
   "id": "c1b68c63",
   "metadata": {
    "scrolled": true
   },
   "outputs": [],
   "source": [
    "# second session\n",
    "\n",
    "thresholds_names_sess2 = ['crowding_R8_block3','crowding_L8_block3',\n",
    "                          'crowding_R8_block4','crowding_L8_block4',\n",
    "                          'acuity_R8_block2','acuity_L8_block2']\n",
    "df_secondSess = getThresholds(dir_secondSess, files_secondSess, thresholds_names_sess2, exclude_trial_count_bool=True, exclude_questSD=True)\n",
    "\n",
    "thresholds_vernier_sess2 = ['vernier_R8_block2','vernier_L8_block2']\n",
    "df_secondSess_vernier = getThresholds(dir_secondSess, files_secondSess, thresholds_vernier_sess2, exclude_trial_count_bool=True, exclude_questSD=False)\n",
    "\n",
    "thresholds_rsvp_sess2 = ['rsvp_foveal_block2']\n",
    "df_secondSess_rsvp = getRSVPThresholds(dir_secondSess, files_secondSess, thresholds_rsvp_sess2, exclude_trial_count_bool=True, exclude_questSD=True)\n",
    "\n",
    "thresholds_names_read2 = {\n",
    "        'reading_Desert_block1': ['Desert_1','Desert_2','Desert_3','Desert_4','Desert_5'],\n",
    "        'reading_Islands_block2': ['Islands_1','Islands_2','Islands_3','Islands_4','Islands_5']}\n",
    "\n",
    "df_secondSess_reading = getOrdReadingSpeed(dir_secondSess, files_secondSess, thresholds_names_read2, accuracy_criterion_percent=60, wpm_criterion=400)\n"
   ]
  },
  {
   "cell_type": "code",
   "execution_count": 13,
   "id": "4a6d95c1",
   "metadata": {
    "scrolled": true
   },
   "outputs": [],
   "source": [
    "# merge data frames\n",
    "df_first_merge = pd.merge(df_firstSess, df_firstSess_vernier, on=\"prolificID\", how=\"inner\")\n",
    "df_first_merge = pd.merge(df_first_merge, df_firstSess_rsvp, on=\"prolificID\", how=\"inner\")\n",
    "df_first = pd.merge(df_first_merge, df_firstSess_reading, on=\"prolificID\", how=\"inner\")\n",
    "\n",
    "df_second_merge = pd.merge(df_secondSess, df_secondSess_vernier, on=\"prolificID\", how=\"inner\")\n",
    "df_second_merge = pd.merge(df_second_merge, df_secondSess_rsvp, on=\"prolificID\", how=\"inner\")\n",
    "df_second = pd.merge(df_second_merge, df_secondSess_reading, on=\"prolificID\", how=\"inner\")\n",
    "\n",
    "\n",
    "df_both_sessions = pd.merge(df_first, df_second, on=\"prolificID\", how=\"inner\")\n",
    "# display(df_both_sessions)\n",
    "# print(df_both_sessions.columns)"
   ]
  },
  {
   "cell_type": "markdown",
   "id": "facaa50c-67de-461c-8fc0-eff0490df425",
   "metadata": {},
   "source": [
    "### For each task, exclude all thresholds from a participant if one threshold is abnormal"
   ]
  },
  {
   "cell_type": "code",
   "execution_count": 14,
   "id": "3e09852e",
   "metadata": {},
   "outputs": [],
   "source": [
    "def nan_out_task(df, task_prefixes):\n",
    "    df = df.copy()\n",
    "    for prefix in task_prefixes:\n",
    "        task_cols = [col for col in df.columns if col.startswith(prefix)]\n",
    "        # Find rows where any of the task columns is nan\n",
    "        mask = df[task_cols].isna().any(axis=1)\n",
    "        # Set all task columns to nan for those rows\n",
    "        df.loc[mask, task_cols] = np.nan\n",
    "    return df"
   ]
  },
  {
   "cell_type": "code",
   "execution_count": 15,
   "id": "20185787",
   "metadata": {},
   "outputs": [],
   "source": [
    "task_prefixes = ['crowding', 'vernier', 'acuity', 'rsvp', 'reading']\n",
    "\n",
    "# Apply to your data frame\n",
    "df_both_sessions_exclude_subj_task = nan_out_task(df_both_sessions, task_prefixes)"
   ]
  },
  {
   "cell_type": "markdown",
   "id": "8c7da4f3",
   "metadata": {},
   "source": [
    "### Average left and right thresholds for acuity and crowding"
   ]
  },
  {
   "cell_type": "code",
   "execution_count": 16,
   "id": "052a48d8",
   "metadata": {},
   "outputs": [
    {
     "name": "stdout",
     "output_type": "stream",
     "text": [
      "Index(['prolificID', 'crowding_avg_block1', 'crowding_avg_block2',\n",
      "       'crowding_avg_block3', 'crowding_avg_block4', 'acuity_avg_block1',\n",
      "       'acuity_avg_block2', 'vernier_avg_block1', 'vernier_avg_block2',\n",
      "       'reading_avg_log_block1', 'reading_avg_log_block2',\n",
      "       'rsvp_foveal_log_block1', 'rsvp_foveal_log_block2'],\n",
      "      dtype='object')\n"
     ]
    }
   ],
   "source": [
    "df_both_sessions_averagedRL = df_both_sessions_exclude_subj_task.copy()\n",
    "\n",
    "# Average left and right thresholds for acuity, crowding, and vernier in each block\n",
    "blocks = ['block1', 'block2', 'block3', 'block4']\n",
    "tasks = ['crowding', 'acuity', 'vernier']\n",
    "\n",
    "for task in tasks:\n",
    "    for block in blocks:\n",
    "        col_R = f\"{task}_R8_{block}\"\n",
    "        col_L = f\"{task}_L8_{block}\"\n",
    "        avg_col = f\"{task}_avg_{block}\"\n",
    "        if col_R in df_both_sessions_averagedRL.columns and col_L in df_both_sessions_averagedRL.columns:\n",
    "            df_both_sessions_averagedRL[avg_col] = (\n",
    "                df_both_sessions_averagedRL[[col_R, col_L]].mean(axis=1)\n",
    "            )\n",
    "\n",
    "df_both_sessions_averagedRL['reading_avg_log_block1'] = ((np.log10(df_both_sessions_averagedRL['reading_Beaver_block1']) + \n",
    "                                                    np.log10(df_both_sessions_averagedRL['reading_Winter_block2'])) / 2)\n",
    "df_both_sessions_averagedRL['reading_avg_log_block2'] = ((np.log10(df_both_sessions_averagedRL['reading_Desert_block1']) + \n",
    "                                                    np.log10(df_both_sessions_averagedRL['reading_Islands_block2'])) / 2)\n",
    "\n",
    "df_both_sessions_averagedRL['rsvp_foveal_log_block1'] = np.log10(df_both_sessions_averagedRL['rsvp_foveal_block1'])\n",
    "df_both_sessions_averagedRL['rsvp_foveal_log_block2'] = np.log10(df_both_sessions_averagedRL['rsvp_foveal_block2']) \n",
    "\n",
    "# Find all averaged columns (ending with '_avg_blockX')\n",
    "avg_cols = [col for col in df_both_sessions_averagedRL.columns if '_avg_' in col]\n",
    "# Find all RSVP columns\n",
    "rsvp_cols = [col for col in df_both_sessions_averagedRL.columns if '_log_' in col]\n",
    "# # Find all reading columns\n",
    "# reading_cols = [col for col in df_both_sessions_averagedRL.columns if col.startswith('reading')]\n",
    "\n",
    "# Combine all columns\n",
    "all_cols = ['prolificID'] + avg_cols + rsvp_cols # + reading_cols\n",
    "all_cols = list(OrderedDict.fromkeys(all_cols))\n",
    "\n",
    "# Create the cleaned DataFrame\n",
    "df_averaged = df_both_sessions_averagedRL[all_cols].copy()\n",
    "\n",
    "print(df_averaged.columns)\n",
    "\n"
   ]
  },
  {
   "cell_type": "markdown",
   "id": "e14396ef",
   "metadata": {},
   "source": [
    "# Prolific Data -- Analysis\n",
    "For df_both_sessions and df_both_sessions_exclude_subj_task:\n",
    "- letter, vernier, crowding are in logged deg: when we take the mean directly, it's taking the geometric mean\n",
    "- rsvp and ordinary reading speeds are in words per minute: remember to log before taking the mean! "
   ]
  },
  {
   "cell_type": "code",
   "execution_count": 17,
   "id": "9a5fb576",
   "metadata": {},
   "outputs": [],
   "source": [
    "df_for_analysis = df_averaged.copy()"
   ]
  },
  {
   "cell_type": "markdown",
   "id": "38944519",
   "metadata": {},
   "source": [
    "### Test-retest"
   ]
  },
  {
   "cell_type": "code",
   "execution_count": 18,
   "id": "6bba4027",
   "metadata": {},
   "outputs": [],
   "source": [
    "# df_for_analysis['crowding_R8_12'] = (df_for_analysis['crowding_R8_block1'] + \n",
    "#                                       df_for_analysis['crowding_R8_block2']) / 2\n",
    "\n",
    "# df_for_analysis['crowding_L8_12'] = (df_for_analysis['crowding_L8_block1'] + \n",
    "#                                       df_for_analysis['crowding_L8_block2']) / 2\n",
    "\n",
    "# df_for_analysis['crowding_R8_34'] = (df_for_analysis['crowding_R8_block3'] + \n",
    "#                                       df_for_analysis['crowding_R8_block4']) / 2\n",
    "\n",
    "# df_for_analysis['crowding_L8_34'] = (df_for_analysis['crowding_L8_block3'] + \n",
    "#                                       df_for_analysis['crowding_L8_block4']) / 2"
   ]
  },
  {
   "cell_type": "code",
   "execution_count": 19,
   "id": "75c5a96f",
   "metadata": {},
   "outputs": [
    {
     "name": "stdout",
     "output_type": "stream",
     "text": [
      "Index(['prolificID', 'crowding_avg_block1', 'crowding_avg_block2',\n",
      "       'crowding_avg_block3', 'crowding_avg_block4', 'acuity_avg_block1',\n",
      "       'acuity_avg_block2', 'vernier_avg_block1', 'vernier_avg_block2',\n",
      "       'reading_avg_log_block1', 'reading_avg_log_block2',\n",
      "       'rsvp_foveal_log_block1', 'rsvp_foveal_log_block2'],\n",
      "      dtype='object')\n"
     ]
    }
   ],
   "source": [
    "print(df_for_analysis.columns)"
   ]
  },
  {
   "cell_type": "code",
   "execution_count": 20,
   "id": "75fd107e",
   "metadata": {},
   "outputs": [],
   "source": [
    "def calc_within_subj_variance(df, task_prefix):\n",
    "    \"\"\"Calculate within-subject variance for all subjects for a given task prefix.\"\"\"\n",
    "    task_cols = [col for col in df.columns if col.startswith(task_prefix)]\n",
    "    # Calculate variance for each subject (row) across repeats (columns)\n",
    "    return df[task_cols].var(axis=1, ddof=1).mean()\n",
    "\n",
    "def calc_between_subj_variance(df, task_prefix):\n",
    "    \"\"\"Calculate between-subject variance for a given task prefix.\"\"\"\n",
    "    task_cols = [col for col in df.columns if col.startswith(task_prefix)]\n",
    "    # Average across repeats for each subject\n",
    "    subj_means = df[task_cols].mean(axis=1)\n",
    "    # Variance between subjects\n",
    "    return np.nanvar(subj_means, ddof=1)\n",
    "\n",
    "def calc_mean(df, task_prefix):\n",
    "    \"\"\"Calculate mean for all thresholds for a given task prefix.\"\"\"\n",
    "    task_cols = [col for col in df.columns if col.startswith(task_prefix)]\n",
    "    # first average across repeats for each subject\n",
    "    subj_means = df[task_cols].mean(axis=1)\n",
    "    # then average across subjects\n",
    "    return np.nanmean(subj_means)\n",
    "\n",
    "def gather_results(df, brain_prefixes):\n",
    "    \"\"\"Gather results for within and between subject variance for each brain area.\"\"\"\n",
    "    results = []\n",
    "    for area in brain_prefixes:\n",
    "        within_var = calc_within_subj_variance(df, area)\n",
    "        between_var = calc_between_subj_variance(df, area)\n",
    "        mean_val = calc_mean(df, area)\n",
    "        results.append({'task': area, 'within_subj_variance': within_var, \n",
    "                        'btw_subj_variance': between_var, 'mean': mean_val})\n",
    "    return pd.DataFrame(results)"
   ]
  },
  {
   "cell_type": "code",
   "execution_count": 22,
   "id": "be1ce6aa",
   "metadata": {},
   "outputs": [
    {
     "name": "stdout",
     "output_type": "stream",
     "text": [
      "       task  within_subj_variance  btw_subj_variance      mean\n",
      "0  crowding              0.015495           0.035576  0.356721\n",
      "1   vernier              0.108180           0.853331 -0.806633\n",
      "2    acuity              0.002257           0.006016 -0.494688\n",
      "3      rsvp              0.027559           0.052099  3.141851\n",
      "4   reading              0.004731           0.011708  2.361855\n"
     ]
    }
   ],
   "source": [
    "task_prefixes = ['crowding', 'vernier', 'acuity', 'rsvp', 'reading']\n",
    "\n",
    "variance_df = gather_results(df_for_analysis, task_prefixes)\n",
    "print(variance_df)"
   ]
  },
  {
   "cell_type": "markdown",
   "id": "22afcdab",
   "metadata": {},
   "source": [
    "## Plot mean thresholds over repeats"
   ]
  },
  {
   "cell_type": "code",
   "execution_count": 23,
   "id": "cb13850c",
   "metadata": {},
   "outputs": [],
   "source": [
    "def plot_mean_thresholds(df, var_name=\"Log crowding thresholds\", ylims = [0.1, 0.7]):\n",
    "    \"\"\"\n",
    "    Plots mean and median of thresholds across participants for each repeat with error bars\n",
    "    \n",
    "    Parameters:\n",
    "    df (numpy.ndarray or pandas.DataFrame): A dataset where each column represents a different block/repeat\n",
    "                                               and each row is a participant's data.\n",
    "    var_name (str): The name of the variable being plotted (used in the title and y-axis label).\n",
    "    \"\"\"\n",
    "    plt.figure(figsize=(8, 4))\n",
    "\n",
    "    # Shaded patch\n",
    "    patch_min = 0.18\n",
    "    patch_max = 0.41\n",
    "    plt.axhspan(patch_min, patch_max, color='lightgray', alpha=0.5)\n",
    "\n",
    "    # X-axis positions\n",
    "    x = np.arange(1, df.shape[1] + 1)\n",
    "\n",
    "    # Compute statistics\n",
    "    median_values = np.nanmedian(df, axis=0)\n",
    "    mean_values = np.nanmean(df, axis=0)\n",
    "\n",
    "    # Compute error bars\n",
    "    median_errors = median_abs_deviation(df, axis=0, nan_policy='omit')  # MAD for median\n",
    "    mean_errors = sem(df, axis=0, nan_policy='omit')  # SEM for mean\n",
    "\n",
    "    # Plot with error bars\n",
    "    plt.errorbar(x, median_values, yerr=median_errors, fmt='o-', color='orange', label='Median', capsize=0)\n",
    "    plt.errorbar(x + .08, mean_values, yerr=mean_errors, fmt='o-', color='red', label='Mean', capsize=0)\n",
    "\n",
    "    # Formatting\n",
    "    plt.title(f'Mean {var_name})', fontsize=16)\n",
    "    plt.xlabel('Repeats', fontsize=16)\n",
    "    plt.xticks(x, size=14)\n",
    "    plt.ylabel(var_name, fontsize=16)\n",
    "    plt.legend(fontsize='large')\n",
    "\n",
    "    # Log scale and tick formatting\n",
    "    plt.yscale('log')\n",
    "    # plt.yticks(np.linspace(ylims[0], ylims[1], 5), size=14)\n",
    "    \n",
    "    plt.ylim(ylims)\n",
    "\n",
    "    # ax = plt.gca()\n",
    "    # ax.yaxis.set_major_formatter(ticker.ScalarFormatter())\n",
    "    # # ax.yaxis.get_major_formatter().set_useOffset(False)\n",
    "    # ax.yaxis.set_major_formatter(ticker.FormatStrFormatter('%.1f'))\n",
    "    # # ax.yaxis.get_major_formatter().set_scientific(False)\n",
    "\n",
    "\n",
    "\n",
    "    plt.show()"
   ]
  },
  {
   "cell_type": "code",
   "execution_count": 24,
   "id": "5f4b1a7c",
   "metadata": {},
   "outputs": [
    {
     "name": "stdout",
     "output_type": "stream",
     "text": [
      "crowding_avg_block1   -0.284863\n",
      "crowding_avg_block2   -0.288642\n",
      "crowding_avg_block3   -0.432254\n",
      "crowding_avg_block4   -0.408712\n",
      "dtype: float64\n"
     ]
    }
   ],
   "source": [
    "df_crowding = df_for_analysis.filter(like='crowding_avg_')\n",
    "print(df_crowding.min())\n"
   ]
  },
  {
   "cell_type": "code",
   "execution_count": 25,
   "id": "fdf31cea",
   "metadata": {},
   "outputs": [
    {
     "data": {
      "image/png": "[encoded data removed]",
      "text/plain": [
       "<Figure size 800x400 with 1 Axes>"
      ]
     },
     "metadata": {},
     "output_type": "display_data"
    }
   ],
   "source": [
    "plot_mean_thresholds(df_crowding, var_name=\"Bouma factor\", ylims = [.1, .7])"
   ]
  },
  {
   "cell_type": "markdown",
   "id": "563b86f6",
   "metadata": {},
   "source": [
    "# Kurzawski et al. (2025, Nature Comm) Data"
   ]
  },
  {
   "cell_type": "code",
   "execution_count": 26,
   "id": "a958c929",
   "metadata": {},
   "outputs": [
    {
     "name": "stdout",
     "output_type": "stream",
     "text": [
      "Index(['V1_R1_lh', 'V1_R2_lh', 'V2_R1_lh', 'V2_R2_lh', 'V3_R1_lh', 'V3_R2_lh',\n",
      "       'V4_R1_lh', 'V4_R2_lh', 'V1_R1_rh', 'V1_R2_rh', 'V2_R1_rh', 'V2_R2_rh',\n",
      "       'V3_R1_rh', 'V3_R2_rh', 'V4_R1_rh', 'V4_R2_rh', 'NLetters',\n",
      "       'NLetters_S1', 'NLetters_S2', 'NLetters_RightMeridian',\n",
      "       'NLetters_LeftMeridian', 'crowdingDist_Ecc5_Left_Meridian_Ses1',\n",
      "       'crowdingDist_Ecc5_Left_Meridian_Ses2',\n",
      "       'crowdingDist_Ecc5_Lower_Meridian_Ses1',\n",
      "       'crowdingDist_Ecc5_Lower_Meridian_Ses2',\n",
      "       'crowdingDist_Ecc5_Right_Meridian_Ses1',\n",
      "       'crowdingDist_Ecc5_Right_Meridian_Ses2',\n",
      "       'crowdingDist_Ecc5_Upper_Meridian_Ses1',\n",
      "       'crowdingDist_Ecc5_Upper_Meridian_Ses2',\n",
      "       'crowdingDist_Ecc10_Left_Meridian_Ses1',\n",
      "       'crowdingDist_Ecc10_Left_Meridian_Ses2',\n",
      "       'crowdingDist_Ecc10_Lower_Meridian_Ses1',\n",
      "       'crowdingDist_Ecc10_Lower_Meridian_Ses2',\n",
      "       'crowdingDist_Ecc10_Right_Meridian_Ses1',\n",
      "       'crowdingDist_Ecc10_Right_Meridian_Ses2',\n",
      "       'crowdingDist_Ecc10_Upper_Meridian_Ses1',\n",
      "       'crowdingDist_Ecc10_Upper_Meridian_Ses2'],\n",
      "      dtype='object')\n"
     ]
    }
   ],
   "source": [
    "dir_natCom = 'data/kurzawski_2025_data.csv'\n",
    "natCom_data = pd.read_csv(dir_natCom)\n",
    "print(natCom_data.columns)"
   ]
  },
  {
   "cell_type": "code",
   "execution_count": 27,
   "id": "0fa2313a",
   "metadata": {},
   "outputs": [],
   "source": [
    "natCom_data_log = natCom_data.apply(np.log10)\n",
    "df_for_analysis = natCom_data_log.copy()"
   ]
  },
  {
   "cell_type": "markdown",
   "id": "0d4fadad",
   "metadata": {},
   "source": [
    "## Map size data"
   ]
  },
  {
   "cell_type": "code",
   "execution_count": 28,
   "id": "e47c0186",
   "metadata": {},
   "outputs": [
    {
     "data": {
      "text/html": [
       "<div>\n",
       "<style scoped>\n",
       "    .dataframe tbody tr th:only-of-type {\n",
       "        vertical-align: middle;\n",
       "    }\n",
       "\n",
       "    .dataframe tbody tr th {\n",
       "        vertical-align: top;\n",
       "    }\n",
       "\n",
       "    .dataframe thead th {\n",
       "        text-align: right;\n",
       "    }\n",
       "</style>\n",
       "<table border=\"1\" class=\"dataframe\">\n",
       "  <thead>\n",
       "    <tr style=\"text-align: right;\">\n",
       "      <th></th>\n",
       "      <th>task</th>\n",
       "      <th>within_subj_variance</th>\n",
       "      <th>btw_subj_variance</th>\n",
       "      <th>mean</th>\n",
       "    </tr>\n",
       "  </thead>\n",
       "  <tbody>\n",
       "    <tr>\n",
       "      <th>0</th>\n",
       "      <td>V1</td>\n",
       "      <td>0.002557</td>\n",
       "      <td>0.007383</td>\n",
       "      <td>3.145922</td>\n",
       "    </tr>\n",
       "    <tr>\n",
       "      <th>1</th>\n",
       "      <td>V2</td>\n",
       "      <td>0.002020</td>\n",
       "      <td>0.004074</td>\n",
       "      <td>3.129897</td>\n",
       "    </tr>\n",
       "    <tr>\n",
       "      <th>2</th>\n",
       "      <td>V3</td>\n",
       "      <td>0.008049</td>\n",
       "      <td>0.006026</td>\n",
       "      <td>3.010003</td>\n",
       "    </tr>\n",
       "    <tr>\n",
       "      <th>3</th>\n",
       "      <td>V4</td>\n",
       "      <td>0.011287</td>\n",
       "      <td>0.010578</td>\n",
       "      <td>2.639641</td>\n",
       "    </tr>\n",
       "  </tbody>\n",
       "</table>\n",
       "</div>"
      ],
      "text/plain": [
       "  task  within_subj_variance  btw_subj_variance      mean\n",
       "0   V1              0.002557           0.007383  3.145922\n",
       "1   V2              0.002020           0.004074  3.129897\n",
       "2   V3              0.008049           0.006026  3.010003\n",
       "3   V4              0.011287           0.010578  2.639641"
      ]
     },
     "metadata": {},
     "output_type": "display_data"
    }
   ],
   "source": [
    "brain_prefixes = ['V1', 'V2', 'V3', 'V4']\n",
    "\n",
    "brain_df = gather_results(df_for_analysis, brain_prefixes)\n",
    "display(brain_df)\n",
    "\n",
    "variance_df = pd.concat([variance_df, brain_df], ignore_index=True)"
   ]
  },
  {
   "cell_type": "markdown",
   "id": "73069bc8",
   "metadata": {},
   "source": [
    "## Crowding data"
   ]
  },
  {
   "cell_type": "code",
   "execution_count": 29,
   "id": "4cfb6894",
   "metadata": {},
   "outputs": [],
   "source": [
    "# select data: left and right at 10 deg\n",
    "df_for_analysis['crowding_natcom_avg_10deg_session1'] = (df_for_analysis['crowdingDist_Ecc10_Right_Meridian_Ses1'] + \n",
    "                                                  df_for_analysis['crowdingDist_Ecc10_Left_Meridian_Ses1']) / 2\n",
    "df_for_analysis['crowding_natcom_avg_10deg_session2'] = (df_for_analysis['crowdingDist_Ecc10_Right_Meridian_Ses2'] + \n",
    "                                                  df_for_analysis['crowdingDist_Ecc10_Left_Meridian_Ses2']) / 2\n",
    "# select data: left and right at 5 deg\n",
    "df_for_analysis['crowding_natcom_avg_5deg_session1'] = (df_for_analysis['crowdingDist_Ecc5_Right_Meridian_Ses1'] + \n",
    "                                                  df_for_analysis['crowdingDist_Ecc5_Left_Meridian_Ses1']) / 2\n",
    "df_for_analysis['crowding_natcom_avg_5deg_session2'] = (df_for_analysis['crowdingDist_Ecc5_Right_Meridian_Ses2'] + \n",
    "                                                  df_for_analysis['crowdingDist_Ecc5_Left_Meridian_Ses2']) / 2"
   ]
  },
  {
   "cell_type": "code",
   "execution_count": 30,
   "id": "c79af9c0",
   "metadata": {},
   "outputs": [
    {
     "data": {
      "text/html": [
       "<div>\n",
       "<style scoped>\n",
       "    .dataframe tbody tr th:only-of-type {\n",
       "        vertical-align: middle;\n",
       "    }\n",
       "\n",
       "    .dataframe tbody tr th {\n",
       "        vertical-align: top;\n",
       "    }\n",
       "\n",
       "    .dataframe thead th {\n",
       "        text-align: right;\n",
       "    }\n",
       "</style>\n",
       "<table border=\"1\" class=\"dataframe\">\n",
       "  <thead>\n",
       "    <tr style=\"text-align: right;\">\n",
       "      <th></th>\n",
       "      <th>task</th>\n",
       "      <th>within_subj_variance</th>\n",
       "      <th>btw_subj_variance</th>\n",
       "      <th>mean</th>\n",
       "    </tr>\n",
       "  </thead>\n",
       "  <tbody>\n",
       "    <tr>\n",
       "      <th>0</th>\n",
       "      <td>crowding_natcom_avg_10deg</td>\n",
       "      <td>0.003429</td>\n",
       "      <td>0.014616</td>\n",
       "      <td>0.391177</td>\n",
       "    </tr>\n",
       "    <tr>\n",
       "      <th>1</th>\n",
       "      <td>crowding_natcom_avg_5deg</td>\n",
       "      <td>0.004324</td>\n",
       "      <td>0.017300</td>\n",
       "      <td>0.008261</td>\n",
       "    </tr>\n",
       "  </tbody>\n",
       "</table>\n",
       "</div>"
      ],
      "text/plain": [
       "                        task  within_subj_variance  btw_subj_variance  \\\n",
       "0  crowding_natcom_avg_10deg              0.003429           0.014616   \n",
       "1   crowding_natcom_avg_5deg              0.004324           0.017300   \n",
       "\n",
       "       mean  \n",
       "0  0.391177  \n",
       "1  0.008261  "
      ]
     },
     "metadata": {},
     "output_type": "display_data"
    }
   ],
   "source": [
    "task_prefixes = ['crowding_natcom_avg_10deg', 'crowding_natcom_avg_5deg']\n",
    "\n",
    "crowding_natcom_df = gather_results(df_for_analysis, task_prefixes)\n",
    "display(crowding_natcom_df)\n",
    "\n",
    "variance_df = pd.concat([variance_df, crowding_natcom_df], ignore_index=True)"
   ]
  },
  {
   "cell_type": "markdown",
   "id": "da310a5d",
   "metadata": {},
   "source": [
    "# Save data"
   ]
  },
  {
   "cell_type": "code",
   "execution_count": 31,
   "id": "82385d3d",
   "metadata": {},
   "outputs": [],
   "source": [
    "variance_df.to_csv(\"variance_df.csv\", index=False)"
   ]
  },
  {
   "cell_type": "code",
   "execution_count": null,
   "id": "714c50c4",
   "metadata": {},
   "outputs": [],
   "source": []
  }
 ],
 "metadata": {
  "kernelspec": {
   "display_name": "Python 3",
   "language": "python",
   "name": "python3"
  },
  "language_info": {
   "codemirror_mode": {
    "name": "ipython",
    "version": 3
   },
   "file_extension": ".py",
   "mimetype": "text/x-python",
   "name": "python",
   "nbconvert_exporter": "python",
   "pygments_lexer": "ipython3",
   "version": "3.13.2"
  }
 },
 "nbformat": 4,
 "nbformat_minor": 5
}
