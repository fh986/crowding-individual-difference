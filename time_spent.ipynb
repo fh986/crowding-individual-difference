{
 "cells": [
  {
   "cell_type": "markdown",
   "id": "a22ba199-178e-47e4-af44-335e2f3073b3",
   "metadata": {},
   "source": [
    "This notebook is used to calculate how long it took participants to complete the experiment."
   ]
  },
  {
   "cell_type": "code",
   "execution_count": 7,
   "id": "16922a35-df8f-486e-8493-2a73d279c250",
   "metadata": {},
   "outputs": [],
   "source": [
    "import os\n",
    "import pandas as pd\n",
    "import numpy as np\n",
    "import matplotlib.pyplot as plt\n",
    "from matplotlib import cm"
   ]
  },
  {
   "cell_type": "code",
   "execution_count": 8,
   "id": "ffdbabdd-1274-4ce0-944a-f092d0fdd875",
   "metadata": {},
   "outputs": [
    {
     "name": "stdout",
     "output_type": "stream",
     "text": [
      "Number of subjects:  4\n"
     ]
    }
   ],
   "source": [
    "mydir = os.getcwd()\n",
    "\n",
    "files = [f for f in os.listdir(mydir) if f.endswith('.csv')]\n",
    "num_subj = len(files)\n",
    "\n",
    "print('Number of subjects: ', num_subj)"
   ]
  },
  {
   "cell_type": "code",
   "execution_count": 9,
   "id": "1354c0ff-47da-4795-9907-9c337db6b47c",
   "metadata": {},
   "outputs": [],
   "source": [
    "def analyzeTime(cursor_file):\n",
    "\n",
    "    all_ts = cursor_file['posixTimeSec']\n",
    "    total_time_spent_min = (all_ts.iloc[-1] - all_ts.iloc[0]) / 60\n",
    "\n",
    "    print('Number of time stamps recorded: ', len(all_ts))\n",
    "    print('Time spent: ', total_time_spent_min)\n",
    "\n",
    "    d_ts = np.diff(all_ts)\n",
    "    average_frame_sec = np.mean(d_ts)\n",
    "    print('Average time for each frame: ', average_frame_sec)\n",
    "\n",
    "    dx = np.diff(cursor_file['trialNumber'])\n",
    "    all_trial_breaks = np.where(dx != 0)[0]\n",
    "\n",
    "    trial_breaks_ts = cursor_file['posixTimeSec'][all_trial_breaks].to_numpy()\n",
    "    trial_breaks_prev_ts = trial_breaks_ts[:-1]\n",
    "    trial_breaks_after_ts = trial_breaks_ts[1:]\n",
    "\n",
    "    trial_breaks_time = trial_breaks_after_ts - trial_breaks_prev_ts\n",
    "    print('Number of trials recorded: ', len(trial_breaks_time))\n",
    "    # print('Time spent for each trial:')\n",
    "    # print(trial_breaks_time)\n",
    "    print('Avg time spent for each trial: ', np.mean(trial_breaks_time))"
   ]
  },
  {
   "cell_type": "code",
   "execution_count": 10,
   "id": "91bd73c2-1aff-4273-84f2-b920eb05995b",
   "metadata": {},
   "outputs": [
    {
     "name": "stdout",
     "output_type": "stream",
     "text": [
      "CoolGreenGrape713_664b7cea18fe17cd31b5ab5e_CrowdingReadingAcuity_firstSess11_0001_2025-04-01_15h23.57.758_UTC3_cursor 12.53.40 PM.csv\n",
      "[3]\n",
      "Number of time stamps recorded:  1082\n",
      "Time spent:  0.6458166639010111\n",
      "Average time for each frame:  0.03584551326000062\n",
      "Number of trials recorded:  1\n",
      "Avg time spent for each trial:  17.433000087738037\n",
      "-------------------\n",
      "TallSilverDumpling982_676fea0e89f12c60c46e7feb_CrowdingReadingAcuity_secondSess6_0001_2025-04-01_10h14.14.063_UTC2_cursor.csv\n",
      "[1, 2, 3, 4, 8, 9, 10, 11, 12, 13, 14, 15]\n",
      "Number of time stamps recorded:  27099\n",
      "Time spent:  62.65976666609446\n",
      "Average time for each frame:  0.13874034984004974\n",
      "Number of trials recorded:  207\n",
      "Avg time spent for each trial:  16.369541062249077\n",
      "-------------------\n",
      "HandyForestBat878_671fc5130b7d81732d93cb0d_CrowdingReadingAcuity_firstSess11_0001_2025-03-31_20h15.33.413_UTC2_cursor.csv\n",
      "[1, 2, 3, 4, 5, 6, 7, 8, 9, 10, 11, 12, 13, 14, 15]\n",
      "Number of time stamps recorded:  58878\n",
      "Time spent:  48.76518333355586\n",
      "Average time for each frame:  0.049695313959837485\n",
      "Number of trials recorded:  399\n",
      "Avg time spent for each trial:  7.08421804492635\n",
      "-------------------\n",
      "LoudAquaCow870_676fea0e89f12c60c46e7feb_CrowdingReadingAcuity_firstSess11_0001_2025-03-31_21h10.17.108_UTC2_cursor 12.48.19 PM.csv\n",
      "[3]\n",
      "Number of time stamps recorded:  300\n",
      "Time spent:  0.08213333686192831\n",
      "Average time for each frame:  0.016481606059249827\n",
      "Number of trials recorded:  0\n",
      "Avg time spent for each trial:  nan\n",
      "-------------------\n"
     ]
    },
    {
     "name": "stderr",
     "output_type": "stream",
     "text": [
      "/var/folders/sk/b_2c8s2n1g1285l9s6dhhql80000gn/T/ipykernel_3281/637997262.py:4: DtypeWarning: Columns (5) have mixed types. Specify dtype option on import or set low_memory=False.\n",
      "  cursor_file = pd.read_csv(filepath)\n",
      "/Users/helenhu/anaconda3/lib/python3.11/site-packages/numpy/core/fromnumeric.py:3504: RuntimeWarning: Mean of empty slice.\n",
      "  return _methods._mean(a, axis=axis, dtype=dtype,\n",
      "/Users/helenhu/anaconda3/lib/python3.11/site-packages/numpy/core/_methods.py:129: RuntimeWarning: invalid value encountered in scalar divide\n",
      "  ret = ret.dtype.type(ret / rcount)\n"
     ]
    }
   ],
   "source": [
    "for subj in range(num_subj):\n",
    "    filepath = os.path.join(mydir, files[subj])\n",
    "    print(files[subj])\n",
    "    cursor_file = pd.read_csv(filepath)\n",
    "\n",
    "    block_labels = cursor_file['blockNumber'].unique()\n",
    "    block_labels_sorted = sorted(block_labels)\n",
    "    print(block_labels_sorted)\n",
    "    \n",
    "    analyzeTime(cursor_file)\n",
    "\n",
    "    print('-------------------')"
   ]
  },
  {
   "cell_type": "markdown",
   "id": "49567be7-48fd-4fdb-a991-2aa64b894520",
   "metadata": {},
   "source": [
    "### Notes:\n",
    "\n",
    "### 676fea0e89f12c60c46e7feb:\n",
    "- Prolific: spent 1h35mins for the first session; 1h43mins for the second session\n",
    "- Cursor file: 62 mins for second session (NOTE: not all blocks were recorded, so it's possible that they spent more time than recorded)\n",
    "- Comments: Hello hope you are well. I was rather worried my rezults would not be saved glad to see approved as this means it is showing your end. Truly hope to get more invites on your studies, I truly enjoy doing them and give my full efforts when doing it. Site had no technical difficulties it was truly well structured\n",
    "\n",
    "### 671fc5130b7d81732d93cb0d:\n",
    "- Prolific: spent 2h17mins for the first session; returned the second session\n",
    "- Cursor file: 48 mins for first session\n",
    "- Comments: I don't know what happened but it couldn't go through on block 13 of 15, where I was supposed to remember what the middle letter was but I refreshed and restarted and I'm now finished with code 815 if not mistaken."
   ]
  }
 ],
 "metadata": {
  "kernelspec": {
   "display_name": "Python 3 (ipykernel)",
   "language": "python",
   "name": "python3"
  },
  "language_info": {
   "codemirror_mode": {
    "name": "ipython",
    "version": 3
   },
   "file_extension": ".py",
   "mimetype": "text/x-python",
   "name": "python",
   "nbconvert_exporter": "python",
   "pygments_lexer": "ipython3",
   "version": "3.11.11"
  }
 },
 "nbformat": 4,
 "nbformat_minor": 5
}
