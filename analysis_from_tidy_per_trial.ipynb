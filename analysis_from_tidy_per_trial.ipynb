{
 "cells": [
  {
   "cell_type": "code",
   "execution_count": 1,
   "id": "1d44a580-e398-466d-a9b2-17e3abc9db91",
   "metadata": {},
   "outputs": [],
   "source": [
    "# !pip install seaborn\n"
   ]
  },
  {
   "cell_type": "code",
   "execution_count": 2,
   "id": "13f644fd",
   "metadata": {},
   "outputs": [],
   "source": [
    "import os\n",
    "import pandas as pd\n",
    "import numpy as np\n",
    "import matplotlib.pyplot as plt\n",
    "import math\n",
    "import seaborn as sns\n",
    "import scipy.stats as stats\n",
    "import itertools\n"
   ]
  },
  {
   "cell_type": "markdown",
   "id": "71e5eefa",
   "metadata": {},
   "source": [
    "# Import data\n",
    "- all thresholds: df_both_sessions"
   ]
  },
  {
   "cell_type": "code",
   "execution_count": 3,
   "id": "4a21caaf",
   "metadata": {},
   "outputs": [],
   "source": [
    "df_both_sessions_raw = pd.read_csv('tidy_both_sessions_thresholds_per_trial_log.csv')"
   ]
  },
  {
   "cell_type": "markdown",
   "id": "a0cc393b",
   "metadata": {},
   "source": [
    "# Data cleaning"
   ]
  },
  {
   "cell_type": "markdown",
   "id": "37c4c14a",
   "metadata": {},
   "source": [
    "## Filter participants based on the quality of individual thresholds\n",
    "Exclude participants with:\n",
    "- acuity and crowding: numTrialsSent < 35\n",
    "- rsvp: numTrialsSent < 24\n",
    "- ordinary reading: accuracy < 60"
   ]
  },
  {
   "cell_type": "code",
   "execution_count": 4,
   "id": "0ad6707e",
   "metadata": {},
   "outputs": [],
   "source": [
    "df_both_sessions = df_both_sessions_raw.copy()"
   ]
  },
  {
   "cell_type": "code",
   "execution_count": 5,
   "id": "2ebb623b",
   "metadata": {},
   "outputs": [
    {
     "name": "stdout",
     "output_type": "stream",
     "text": [
      "Number of participants with at least 1 threshold with number of trials < 35: 15\n"
     ]
    }
   ],
   "source": [
    "# num_trials_required = 23  # 23 trials for short staircase\n",
    "num_trials_required = 35  # 35 trials for original staircase\n",
    "\n",
    "acuity_low_trial_ids = (\n",
    "    df_both_sessions.loc[\n",
    "        df_both_sessions[\"taskName\"].isin([\"acuity\"]) & (df_both_sessions[\"numTrialsSent\"] < num_trials_required),\n",
    "        \"prolificID\"\n",
    "    ]\n",
    "    .unique()\n",
    ")\n",
    "print(f'Number of participants with at least 1 threshold with number of trials < {num_trials_required}: {len(acuity_low_trial_ids)}')\n",
    "\n",
    "df_both_sessions = df_both_sessions[\n",
    "    ~(\n",
    "        (df_both_sessions[\"taskName\"] == \"acuity\")\n",
    "        & (df_both_sessions[\"prolificID\"].isin(acuity_low_trial_ids))\n",
    "    )\n",
    "].copy()"
   ]
  },
  {
   "cell_type": "code",
   "execution_count": 6,
   "id": "ff7d2802",
   "metadata": {},
   "outputs": [
    {
     "name": "stdout",
     "output_type": "stream",
     "text": [
      "Number of participants with at least 1 threshold with number of trials < 35: 21\n"
     ]
    }
   ],
   "source": [
    "# num_trials_required = 23  # 23 trials for short staircase\n",
    "num_trials_required = 35  # 35 trials for original staircase\n",
    "\n",
    "crowding_low_trial_ids = (\n",
    "    df_both_sessions.loc[\n",
    "        df_both_sessions[\"taskName\"].isin([\"crowding\"]) & (df_both_sessions[\"numTrialsSent\"] < num_trials_required),\n",
    "        \"prolificID\"\n",
    "    ]\n",
    "    .unique()\n",
    ")\n",
    "print(f'Number of participants with at least 1 threshold with number of trials < {num_trials_required}: {len(crowding_low_trial_ids)}')\n",
    "\n",
    "df_both_sessions = df_both_sessions[\n",
    "    ~(\n",
    "        (df_both_sessions[\"taskName\"] == \"crowding\")\n",
    "        & (df_both_sessions[\"prolificID\"].isin(crowding_low_trial_ids))\n",
    "    )\n",
    "].copy()"
   ]
  },
  {
   "cell_type": "code",
   "execution_count": 7,
   "id": "62ba55a1",
   "metadata": {},
   "outputs": [
    {
     "name": "stdout",
     "output_type": "stream",
     "text": [
      "Number of participants with at least 1 threshold with number of trials < 24: 0\n"
     ]
    }
   ],
   "source": [
    "# num_trials_required = 16  # 16 trials for short staircase\n",
    "num_trials_required = 24  # 24 trials for original staircase\n",
    "\n",
    "rsvp_low_trial_ids = (\n",
    "    df_both_sessions.loc[\n",
    "        df_both_sessions[\"taskName\"].isin([\"rsvp\"]) & (df_both_sessions[\"numTrialsSent\"] < num_trials_required),\n",
    "        \"prolificID\"\n",
    "    ]\n",
    "    .unique()\n",
    ")\n",
    "print(f'Number of participants with at least 1 threshold with number of trials < {num_trials_required}: {len(rsvp_low_trial_ids)}')\n",
    "\n",
    "df_both_sessions = df_both_sessions[\n",
    "    ~(\n",
    "        (df_both_sessions[\"taskName\"] == \"rsvp\")\n",
    "        & (df_both_sessions[\"prolificID\"].isin(rsvp_low_trial_ids))\n",
    "    )\n",
    "].copy()"
   ]
  },
  {
   "cell_type": "code",
   "execution_count": 8,
   "id": "effbbf50",
   "metadata": {},
   "outputs": [
    {
     "name": "stdout",
     "output_type": "stream",
     "text": [
      "Number of participants with at least 1 measurement with accuracy < 60%: 63\n"
     ]
    }
   ],
   "source": [
    "reading_low_accuracy_ids = (\n",
    "    df_both_sessions.loc[\n",
    "        df_both_sessions[\"taskName\"].isin([\"reading\"]) & (df_both_sessions[\"readingCQAccuracy\"] < 60),\n",
    "        \"prolificID\"\n",
    "    ]\n",
    "    .unique()\n",
    ")\n",
    "print(f'Number of participants with at least 1 measurement with accuracy < 60%: {len(reading_low_accuracy_ids)}')\n",
    "\n",
    "\n",
    "df_both_sessions = df_both_sessions[\n",
    "    ~(\n",
    "        (df_both_sessions[\"taskName\"] == \"reading\")\n",
    "        & (df_both_sessions[\"prolificID\"].isin(reading_low_accuracy_ids))\n",
    "    )\n",
    "].copy()"
   ]
  },
  {
   "cell_type": "markdown",
   "id": "d5db7d1f",
   "metadata": {},
   "source": [
    "## Filter data that we want to include in the analysis"
   ]
  },
  {
   "cell_type": "code",
   "execution_count": 9,
   "id": "ff2a75fe",
   "metadata": {},
   "outputs": [
    {
     "data": {
      "text/html": [
       "<div>\n",
       "<style scoped>\n",
       "    .dataframe tbody tr th:only-of-type {\n",
       "        vertical-align: middle;\n",
       "    }\n",
       "\n",
       "    .dataframe tbody tr th {\n",
       "        vertical-align: top;\n",
       "    }\n",
       "\n",
       "    .dataframe thead th {\n",
       "        text-align: right;\n",
       "    }\n",
       "</style>\n",
       "<table border=\"1\" class=\"dataframe\">\n",
       "  <thead>\n",
       "    <tr style=\"text-align: right;\">\n",
       "      <th></th>\n",
       "      <th>prolificID</th>\n",
       "      <th>taskName</th>\n",
       "      <th>repeat</th>\n",
       "      <th>trial_index</th>\n",
       "      <th>threshold</th>\n",
       "    </tr>\n",
       "  </thead>\n",
       "  <tbody>\n",
       "    <tr>\n",
       "      <th>145</th>\n",
       "      <td>5f0788c06b220f03231666a0</td>\n",
       "      <td>acuity</td>\n",
       "      <td>1</td>\n",
       "      <td>1</td>\n",
       "      <td>0.602060</td>\n",
       "    </tr>\n",
       "    <tr>\n",
       "      <th>146</th>\n",
       "      <td>5f0788c06b220f03231666a0</td>\n",
       "      <td>acuity</td>\n",
       "      <td>1</td>\n",
       "      <td>2</td>\n",
       "      <td>0.602060</td>\n",
       "    </tr>\n",
       "    <tr>\n",
       "      <th>147</th>\n",
       "      <td>5f0788c06b220f03231666a0</td>\n",
       "      <td>acuity</td>\n",
       "      <td>1</td>\n",
       "      <td>3</td>\n",
       "      <td>-0.167358</td>\n",
       "    </tr>\n",
       "    <tr>\n",
       "      <th>148</th>\n",
       "      <td>5f0788c06b220f03231666a0</td>\n",
       "      <td>acuity</td>\n",
       "      <td>1</td>\n",
       "      <td>4</td>\n",
       "      <td>-0.684495</td>\n",
       "    </tr>\n",
       "    <tr>\n",
       "      <th>149</th>\n",
       "      <td>5f0788c06b220f03231666a0</td>\n",
       "      <td>acuity</td>\n",
       "      <td>1</td>\n",
       "      <td>5</td>\n",
       "      <td>-1.030995</td>\n",
       "    </tr>\n",
       "    <tr>\n",
       "      <th>...</th>\n",
       "      <td>...</td>\n",
       "      <td>...</td>\n",
       "      <td>...</td>\n",
       "      <td>...</td>\n",
       "      <td>...</td>\n",
       "    </tr>\n",
       "    <tr>\n",
       "      <th>82050</th>\n",
       "      <td>5d7bde81c7390f00169b2fdf</td>\n",
       "      <td>reading</td>\n",
       "      <td>2</td>\n",
       "      <td>2</td>\n",
       "      <td>2.580441</td>\n",
       "    </tr>\n",
       "    <tr>\n",
       "      <th>82053</th>\n",
       "      <td>5f98099d48060d0450394002</td>\n",
       "      <td>reading</td>\n",
       "      <td>2</td>\n",
       "      <td>2</td>\n",
       "      <td>2.385172</td>\n",
       "    </tr>\n",
       "    <tr>\n",
       "      <th>82054</th>\n",
       "      <td>5f98099d48060d0450394002</td>\n",
       "      <td>reading</td>\n",
       "      <td>2</td>\n",
       "      <td>2</td>\n",
       "      <td>2.385172</td>\n",
       "    </tr>\n",
       "    <tr>\n",
       "      <th>82057</th>\n",
       "      <td>5fb281433a31c686f0ec3ecb</td>\n",
       "      <td>reading</td>\n",
       "      <td>2</td>\n",
       "      <td>2</td>\n",
       "      <td>2.693567</td>\n",
       "    </tr>\n",
       "    <tr>\n",
       "      <th>82058</th>\n",
       "      <td>5fb281433a31c686f0ec3ecb</td>\n",
       "      <td>reading</td>\n",
       "      <td>2</td>\n",
       "      <td>2</td>\n",
       "      <td>2.693567</td>\n",
       "    </tr>\n",
       "  </tbody>\n",
       "</table>\n",
       "<p>30536 rows × 5 columns</p>\n",
       "</div>"
      ],
      "text/plain": [
       "                     prolificID taskName  repeat  trial_index  threshold\n",
       "145    5f0788c06b220f03231666a0   acuity       1            1   0.602060\n",
       "146    5f0788c06b220f03231666a0   acuity       1            2   0.602060\n",
       "147    5f0788c06b220f03231666a0   acuity       1            3  -0.167358\n",
       "148    5f0788c06b220f03231666a0   acuity       1            4  -0.684495\n",
       "149    5f0788c06b220f03231666a0   acuity       1            5  -1.030995\n",
       "...                         ...      ...     ...          ...        ...\n",
       "82050  5d7bde81c7390f00169b2fdf  reading       2            2   2.580441\n",
       "82053  5f98099d48060d0450394002  reading       2            2   2.385172\n",
       "82054  5f98099d48060d0450394002  reading       2            2   2.385172\n",
       "82057  5fb281433a31c686f0ec3ecb  reading       2            2   2.693567\n",
       "82058  5fb281433a31c686f0ec3ecb  reading       2            2   2.693567\n",
       "\n",
       "[30536 rows x 5 columns]"
      ]
     },
     "metadata": {},
     "output_type": "display_data"
    }
   ],
   "source": [
    "df_for_analysis = df_both_sessions.copy()\n",
    "\n",
    "df_for_analysis = df_for_analysis[\n",
    "    ~(\n",
    "        (df_for_analysis[\"taskName\"] == \"crowding\")\n",
    "        & (df_for_analysis[\"repeat\"].isin([3, 4]))\n",
    "    )\n",
    "].copy()\n",
    "\n",
    "df_for_analysis = df_for_analysis[\n",
    "    ~(\n",
    "        (df_for_analysis[\"taskName\"] == \"acuity\")\n",
    "        & (df_for_analysis[\"meridian\"] == \"L8\")\n",
    "    )\n",
    "].copy()\n",
    "\n",
    "df_for_analysis = df_for_analysis[\n",
    "    ~(\n",
    "        (df_for_analysis[\"taskName\"] == \"crowding\")\n",
    "        & (df_for_analysis[\"meridian\"] == \"L8\")\n",
    "    )\n",
    "].copy()\n",
    "\n",
    "df_for_analysis = df_for_analysis[\n",
    "    ~(\n",
    "        (df_for_analysis[\"taskName\"] == \"reading\")\n",
    "        & (df_for_analysis[\"meridian\"] == \"second\")\n",
    "    )\n",
    "].copy()\n",
    "\n",
    "df_for_analysis = df_for_analysis[['prolificID', 'taskName', 'repeat', 'trial_index', 'threshold']]\n",
    "\n",
    "display(df_for_analysis)"
   ]
  },
  {
   "cell_type": "markdown",
   "id": "e14396ef",
   "metadata": {},
   "source": [
    "# Analysis\n",
    "- note that everything in is now logged"
   ]
  },
  {
   "cell_type": "markdown",
   "id": "22f62bd7",
   "metadata": {},
   "source": [
    "For now let's just use the right meridian for acuity and crowding, repeats 1 and 2 for crowding, and first passage for reading"
   ]
  },
  {
   "cell_type": "code",
   "execution_count": 10,
   "id": "0a70c12a",
   "metadata": {},
   "outputs": [
    {
     "data": {
      "text/html": [
       "<div>\n",
       "<style scoped>\n",
       "    .dataframe tbody tr th:only-of-type {\n",
       "        vertical-align: middle;\n",
       "    }\n",
       "\n",
       "    .dataframe tbody tr th {\n",
       "        vertical-align: top;\n",
       "    }\n",
       "\n",
       "    .dataframe thead th {\n",
       "        text-align: right;\n",
       "    }\n",
       "</style>\n",
       "<table border=\"1\" class=\"dataframe\">\n",
       "  <thead>\n",
       "    <tr style=\"text-align: right;\">\n",
       "      <th>repeat</th>\n",
       "      <th>prolificID</th>\n",
       "      <th>taskName</th>\n",
       "      <th>trial_index</th>\n",
       "      <th>1</th>\n",
       "      <th>2</th>\n",
       "    </tr>\n",
       "  </thead>\n",
       "  <tbody>\n",
       "    <tr>\n",
       "      <th>0</th>\n",
       "      <td>559ad287fdf99b219a612d22</td>\n",
       "      <td>acuity</td>\n",
       "      <td>1</td>\n",
       "      <td>0.602060</td>\n",
       "      <td>0.602060</td>\n",
       "    </tr>\n",
       "    <tr>\n",
       "      <th>1</th>\n",
       "      <td>559ad287fdf99b219a612d22</td>\n",
       "      <td>acuity</td>\n",
       "      <td>2</td>\n",
       "      <td>0.602060</td>\n",
       "      <td>0.602060</td>\n",
       "    </tr>\n",
       "    <tr>\n",
       "      <th>2</th>\n",
       "      <td>559ad287fdf99b219a612d22</td>\n",
       "      <td>acuity</td>\n",
       "      <td>3</td>\n",
       "      <td>-0.167358</td>\n",
       "      <td>-0.167358</td>\n",
       "    </tr>\n",
       "    <tr>\n",
       "      <th>3</th>\n",
       "      <td>559ad287fdf99b219a612d22</td>\n",
       "      <td>acuity</td>\n",
       "      <td>4</td>\n",
       "      <td>-0.684495</td>\n",
       "      <td>-0.684495</td>\n",
       "    </tr>\n",
       "    <tr>\n",
       "      <th>4</th>\n",
       "      <td>559ad287fdf99b219a612d22</td>\n",
       "      <td>acuity</td>\n",
       "      <td>5</td>\n",
       "      <td>0.030174</td>\n",
       "      <td>-0.014603</td>\n",
       "    </tr>\n",
       "    <tr>\n",
       "      <th>...</th>\n",
       "      <td>...</td>\n",
       "      <td>...</td>\n",
       "      <td>...</td>\n",
       "      <td>...</td>\n",
       "      <td>...</td>\n",
       "    </tr>\n",
       "    <tr>\n",
       "      <th>15209</th>\n",
       "      <td>67fffee26ec983c07f3a2abd</td>\n",
       "      <td>rsvp</td>\n",
       "      <td>21</td>\n",
       "      <td>2.528710</td>\n",
       "      <td>3.062626</td>\n",
       "    </tr>\n",
       "    <tr>\n",
       "      <th>15210</th>\n",
       "      <td>67fffee26ec983c07f3a2abd</td>\n",
       "      <td>rsvp</td>\n",
       "      <td>22</td>\n",
       "      <td>2.528175</td>\n",
       "      <td>3.061844</td>\n",
       "    </tr>\n",
       "    <tr>\n",
       "      <th>15211</th>\n",
       "      <td>67fffee26ec983c07f3a2abd</td>\n",
       "      <td>rsvp</td>\n",
       "      <td>23</td>\n",
       "      <td>2.537089</td>\n",
       "      <td>3.061147</td>\n",
       "    </tr>\n",
       "    <tr>\n",
       "      <th>15212</th>\n",
       "      <td>67fffee26ec983c07f3a2abd</td>\n",
       "      <td>rsvp</td>\n",
       "      <td>24</td>\n",
       "      <td>2.536190</td>\n",
       "      <td>3.060522</td>\n",
       "    </tr>\n",
       "    <tr>\n",
       "      <th>15213</th>\n",
       "      <td>67fffee26ec983c07f3a2abd</td>\n",
       "      <td>rsvp</td>\n",
       "      <td>25</td>\n",
       "      <td>NaN</td>\n",
       "      <td>3.068766</td>\n",
       "    </tr>\n",
       "  </tbody>\n",
       "</table>\n",
       "<p>15214 rows × 5 columns</p>\n",
       "</div>"
      ],
      "text/plain": [
       "repeat                prolificID taskName  trial_index         1         2\n",
       "0       559ad287fdf99b219a612d22   acuity            1  0.602060  0.602060\n",
       "1       559ad287fdf99b219a612d22   acuity            2  0.602060  0.602060\n",
       "2       559ad287fdf99b219a612d22   acuity            3 -0.167358 -0.167358\n",
       "3       559ad287fdf99b219a612d22   acuity            4 -0.684495 -0.684495\n",
       "4       559ad287fdf99b219a612d22   acuity            5  0.030174 -0.014603\n",
       "...                          ...      ...          ...       ...       ...\n",
       "15209   67fffee26ec983c07f3a2abd     rsvp           21  2.528710  3.062626\n",
       "15210   67fffee26ec983c07f3a2abd     rsvp           22  2.528175  3.061844\n",
       "15211   67fffee26ec983c07f3a2abd     rsvp           23  2.537089  3.061147\n",
       "15212   67fffee26ec983c07f3a2abd     rsvp           24  2.536190  3.060522\n",
       "15213   67fffee26ec983c07f3a2abd     rsvp           25       NaN  3.068766\n",
       "\n",
       "[15214 rows x 5 columns]"
      ]
     },
     "metadata": {},
     "output_type": "display_data"
    }
   ],
   "source": [
    "df_wide = (\n",
    "    df_for_analysis\n",
    "    .pivot_table(index=[\"prolificID\", \"taskName\", \"trial_index\"],\n",
    "                 columns=\"repeat\",\n",
    "                 values=\"threshold\")\n",
    "    .reset_index()\n",
    ")\n",
    "display(df_wide)"
   ]
  },
  {
   "cell_type": "markdown",
   "id": "ace6e4f8",
   "metadata": {},
   "source": [
    "## Functions:"
   ]
  },
  {
   "cell_type": "code",
   "execution_count": 21,
   "id": "d077200a",
   "metadata": {},
   "outputs": [],
   "source": [
    "def summarize_task(X):\n",
    "    \"\"\"\n",
    "    take only the repeat columns as its input (X)\n",
    "    \"\"\"\n",
    "\n",
    "    # per-participant mean across repeats\n",
    "    subj_mean = X.mean(axis=1, skipna=True)\n",
    "\n",
    "    # stats\n",
    "    within_var = X.var(axis=1, ddof=1).mean(skipna=True)\n",
    "    between_var = np.nanvar(subj_mean.to_numpy(), ddof=1)\n",
    "    grand_mean = subj_mean.mean(skipna=True)\n",
    "\n",
    "    # split-half reliability → Spearman–Brown\n",
    "\n",
    "    if X.shape[1] < 2:\n",
    "        r_ceiling = np.nan\n",
    "    else:\n",
    "        n = X.shape[1]\n",
    "        first, last = X.iloc[:, :n//2].mean(axis=1), X.iloc[:, n//2:].mean(axis=1)\n",
    "        odd, even  = X.iloc[:, 1::2].mean(axis=1), X.iloc[:, 0::2].mean(axis=1)\n",
    "\n",
    "        def r(a,b):\n",
    "            a, b = a.to_numpy(), b.to_numpy()\n",
    "            m = np.isfinite(a) & np.isfinite(b)\n",
    "            return np.nan if m.sum() < 3 else stats.pearsonr(a[m], b[m])[0]\n",
    "\n",
    "        r_FL, r_OE = r(first,last), r(odd,even)\n",
    "        r_i = np.sqrt(r_FL * r_OE) if np.isfinite(r_FL) and np.isfinite(r_OE) else np.nan\n",
    "        if np.isnan(r_i):\n",
    "            r_ceiling = np.nan\n",
    "        else:\n",
    "            r_i = float(np.clip(r_i, 0.0, 0.999999))\n",
    "            r_ceiling = (2 * r_i) / (1 + r_i)\n",
    "\n",
    "    return pd.Series({\n",
    "        \"within_subj_variance\": within_var,\n",
    "        \"btw_subj_variance\": between_var,\n",
    "        \"mean\": grand_mean,\n",
    "        \"r(test,retest)\": r_i,\n",
    "        \"expected_reliability\": r_ceiling\n",
    "    })\n",
    "\n",
    "def compute_reliability_task(df_wide, task_name, trial_numbers):\n",
    "\n",
    "    df_wide = df_wide.copy()\n",
    "\n",
    "    df_task = df_wide[df_wide['taskName'] == task_name]\n",
    "    results = []\n",
    "\n",
    "    for t in sorted(trial_numbers):\n",
    "\n",
    "        df_trial = df_task[df_task['trial_index'] == t]\n",
    "\n",
    "        X = df_trial.drop(columns=[\"prolificID\", \"taskName\", \"trial_index\"])\n",
    "        results_trial = summarize_task(X)\n",
    "        results_trial[\"taskName\"] = task_name\n",
    "        results_trial[\"trial_index\"] = t\n",
    "\n",
    "        results.append(results_trial)\n",
    "    \n",
    "    results_df = pd.DataFrame(results).reset_index(drop=True)\n",
    "    results_df = results_df[['taskName', 'trial_index', 'mean', 'r(test,retest)', 'expected_reliability']]\n",
    "        \n",
    "    return results_df\n",
    "\n",
    "        "
   ]
  },
  {
   "cell_type": "markdown",
   "id": "3b45a170",
   "metadata": {},
   "source": [
    "## Compute reliabilities"
   ]
  },
  {
   "cell_type": "code",
   "execution_count": 33,
   "id": "9681c9a3",
   "metadata": {},
   "outputs": [],
   "source": [
    "rel_acuity = compute_reliability_task(df_wide, task_name='acuity', trial_numbers=list(range(2, 36))) # from the second to the 35th trial\n",
    "rel_crowding = compute_reliability_task(df_wide, task_name='crowding', trial_numbers=list(range(2, 36)))\n",
    "rel_rsvp = compute_reliability_task(df_wide, task_name='rsvp', trial_numbers=list(range(3, 24))) # from the third to the 24th trial"
   ]
  },
  {
   "cell_type": "markdown",
   "id": "60beb40f",
   "metadata": {},
   "source": [
    "# Visualization"
   ]
  },
  {
   "cell_type": "code",
   "execution_count": 24,
   "id": "b93d477c",
   "metadata": {},
   "outputs": [],
   "source": [
    "def plot_reliability(df_results, task_name, val_name):\n",
    "    df_task = df_results[df_results[\"taskName\"] == task_name]\n",
    "    plt.figure(figsize=(4, 4))\n",
    "    plt.plot(df_task[\"trial_index\"], df_task[val_name], marker=\"o\")\n",
    "    plt.xlabel(\"trial index\")\n",
    "    plt.ylabel(val_name)\n",
    "    plt.title(f\"{task_name}\")\n",
    "    plt.ylim(0, 1)\n",
    "    plt.show()\n"
   ]
  },
  {
   "cell_type": "code",
   "execution_count": 32,
   "id": "f59858b5",
   "metadata": {},
   "outputs": [
    {
     "data": {
      "image/png": "[encoded data removed]",
      "text/plain": [
       "<Figure size 400x400 with 1 Axes>"
      ]
     },
     "metadata": {},
     "output_type": "display_data"
    },
    {
     "data": {
      "image/png": "[encoded data removed]",
      "text/plain": [
       "<Figure size 400x400 with 1 Axes>"
      ]
     },
     "metadata": {},
     "output_type": "display_data"
    },
    {
     "data": {
      "image/png": "[encoded data removed]",
      "text/plain": [
       "<Figure size 400x400 with 1 Axes>"
      ]
     },
     "metadata": {},
     "output_type": "display_data"
    },
    {
     "data": {
      "image/png": "[encoded data removed]",
      "text/plain": [
       "<Figure size 400x400 with 1 Axes>"
      ]
     },
     "metadata": {},
     "output_type": "display_data"
    },
    {
     "data": {
      "image/png": "[encoded data removed]",
      "text/plain": [
       "<Figure size 400x400 with 1 Axes>"
      ]
     },
     "metadata": {},
     "output_type": "display_data"
    },
    {
     "data": {
      "image/png": "[encoded data removed]",
      "text/plain": [
       "<Figure size 400x400 with 1 Axes>"
      ]
     },
     "metadata": {},
     "output_type": "display_data"
    }
   ],
   "source": [
    "plot_reliability(rel_acuity, \"acuity\", \"r(test,retest)\")\n",
    "plot_reliability(rel_acuity, \"acuity\", \"expected_reliability\")\n",
    "\n",
    "plot_reliability(rel_crowding, \"crowding\", \"r(test,retest)\")\n",
    "plot_reliability(rel_crowding, \"crowding\", \"expected_reliability\")\n",
    "\n",
    "plot_reliability(rel_rsvp, \"rsvp\", \"r(test,retest)\")\n",
    "plot_reliability(rel_rsvp, \"rsvp\", \"expected_reliability\")"
   ]
  },
  {
   "cell_type": "markdown",
   "id": "9194fc31",
   "metadata": {},
   "source": [
    "# Sanity check"
   ]
  },
  {
   "cell_type": "code",
   "execution_count": 47,
   "id": "ea15c4fe",
   "metadata": {},
   "outputs": [],
   "source": [
    "tt = pd.read_csv('tidy_both_sessions_thresholds_log.csv')"
   ]
  },
  {
   "cell_type": "code",
   "execution_count": 48,
   "id": "bbfd5786",
   "metadata": {},
   "outputs": [
    {
     "name": "stdout",
     "output_type": "stream",
     "text": [
      "Number of participants with at least 1 threshold with number of trials < 24: 0\n"
     ]
    },
    {
     "data": {
      "text/plain": [
       "within_subj_variance    0.039204\n",
       "btw_subj_variance       0.059411\n",
       "mean                    3.163056\n",
       "r(test,retest)          0.504108\n",
       "expected_reliability    0.670308\n",
       "dtype: float64"
      ]
     },
     "execution_count": 48,
     "metadata": {},
     "output_type": "execute_result"
    }
   ],
   "source": [
    "tt = tt[tt['taskName'] == 'rsvp']\n",
    "\n",
    "num_trials_required = 24  # 24 trials for original staircase\n",
    "\n",
    "rsvp_low_trial_ids = (\n",
    "    tt.loc[\n",
    "        tt[\"taskName\"].isin([\"rsvp\"]) & (tt[\"numTrialsSent\"] < num_trials_required),\n",
    "        \"prolificID\"\n",
    "    ]\n",
    "    .unique()\n",
    ")\n",
    "print(f'Number of participants with at least 1 threshold with number of trials < {num_trials_required}: {len(rsvp_low_trial_ids)}')\n",
    "\n",
    "tt = tt[\n",
    "    ~(\n",
    "        (tt[\"taskName\"] == \"rsvp\")\n",
    "        & (tt[\"prolificID\"].isin(rsvp_low_trial_ids))\n",
    "    )\n",
    "].copy()\n",
    "\n",
    "tt = tt[['prolificID', 'repeat', 'threshold']]\n",
    "tt_wide = (\n",
    "    tt\n",
    "    .pivot_table(index=['prolificID'],\n",
    "                 columns='repeat',\n",
    "                 values='threshold')\n",
    "    .reset_index()\n",
    ")\n",
    "test = tt_wide.drop(columns='prolificID')\n",
    "summarize_task(test)"
   ]
  }
 ],
 "metadata": {
  "kernelspec": {
   "display_name": "Python 3",
   "language": "python",
   "name": "python3"
  },
  "language_info": {
   "codemirror_mode": {
    "name": "ipython",
    "version": 3
   },
   "file_extension": ".py",
   "mimetype": "text/x-python",
   "name": "python",
   "nbconvert_exporter": "python",
   "pygments_lexer": "ipython3",
   "version": "3.13.2"
  }
 },
 "nbformat": 4,
 "nbformat_minor": 5
}
