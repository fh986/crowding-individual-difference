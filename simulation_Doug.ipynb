{
 "cells": [
  {
   "cell_type": "code",
   "execution_count": 1,
   "id": "5804510d",
   "metadata": {},
   "outputs": [],
   "source": [
    "import numpy as np \n",
    "import matplotlib.pyplot as plt\n",
    "import scipy.optimize"
   ]
  },
  {
   "cell_type": "code",
   "execution_count": 2,
   "id": "5bc3b124",
   "metadata": {},
   "outputs": [
    {
     "name": "stdout",
     "output_type": "stream",
     "text": [
      "meanEstCorr1, stdstCorr1:  0.6632129029325979 0.05057771862129714\n",
      "meanEstCorr2, stdstCorr2:  0.7021820754988533 0.05257070117716489\n",
      "RMSE1:  0.06254115550244954\n",
      "RMSE2:  0.052615967878025985\n"
     ]
    },
    {
     "data": {
      "image/png": "[encoded data removed]",
      "text/plain": [
       "<Figure size 432x288 with 1 Axes>"
      ]
     },
     "metadata": {
      "needs_background": "light"
     },
     "output_type": "display_data"
    }
   ],
   "source": [
    "muX = 1\n",
    "muY = 1\n",
    "sigmaX = 1\n",
    "sigmaY = 1\n",
    "corr = .7\n",
    "sigmaE = 1\n",
    "m = 4\n",
    "n = 200\n",
    "trials = 500\n",
    "covM = [[sigmaX**2, corr*sigmaX*sigmaY], [corr*sigmaX*sigmaY, sigmaY**2]]\n",
    "corrs = np.zeros(trials)\n",
    "paramsMLE = np.zeros((trials,4))\n",
    "corrsMLE = np.zeros(trials)\n",
    "doMLE = True\n",
    "\n",
    "if doMLE: # defines functions to evaluate log likelihood\n",
    "    # If J is matrix of all 1's and I is the identity matrix, then the cov of (W1,...,Wm,Z1,...,Zm) is\n",
    "    # Sigma = [[vx * J; vxy * J ] [vxy * J; vy * J]] + ve I, \n",
    "    # where vx = var(X), vxv = Cov(X,Y), vy = Var(Y), ve + Var(e)\n",
    "    # Inverse of Sigma is given by [[a * J; b * J], [b * J; c * J]] + 1/ve * I \n",
    "    # for a,b,c defined below (I think, have to double check)\n",
    "    def D(vx, vy, vxy):\n",
    "        return vx * vy - vxy**2\n",
    "\n",
    "    def Del(vx, vy, vxy, ve):\n",
    "        return ve**2 + m * ve * (vx + vy) + m**2 * D(vx, vy, vxy)\n",
    "\n",
    "    def a(vx, vy, vxy, ve):\n",
    "        return - ( (m * D(vx, vy, vxy) + vx * ve)\n",
    "                / (ve*Del(vx, vy, vxy, ve)) )\n",
    "\n",
    "    def c(vx, vy, vxy, ve):\n",
    "        return - ( (m * D(vx, vy, vxy) + vy * ve)\n",
    "                / (ve*Del(vx, vy, vxy, ve)) )\n",
    "\n",
    "    def b(vx, vy, vxy, ve):\n",
    "        return - vxy / Del(vx, vy, vxy, ve)\n",
    "\n",
    "\n",
    "    def logDetSigma(vx, vy, vxy, ve):\n",
    "        # this is log det (Sigma) \n",
    "        abc = vx*vy*m + ve*(vx+vy) - m* vxy**2\n",
    "        return np.log(1 + abc * m / ve**2) + 2 * m * np.log(ve)\n",
    "\n",
    "    def negLogLik(params, wVar_, zVar_, wCrossCov_, zCrossCov_, wzCrossCov_):\n",
    "        vx,vy,vxy,ve = params\n",
    "        # this is n/2 logDetSigma + (w - wBar,z - zBar)^T Sigma^{-1} (w-wBar,z-zBar)\n",
    "        return (\n",
    "            n/2*logDetSigma(vx, vy, vxy, ve)\n",
    "            + a(vx, vy, vxy, ve) * wCrossCov_\n",
    "            + c(vx, vy, vxy, ve) * zCrossCov_\n",
    "            + wVar_ / ve\n",
    "            + zVar_ / ve\n",
    "            + 2 * b(vx, vy, vxy, ve) * wzCrossCov_\n",
    "        )\n",
    "    \n",
    "\n",
    "\n",
    "for trial in range(trials):\n",
    "    XY = np.random.multivariate_normal([muX,muY], covM, size = n)\n",
    "    X, Y = XY[:,0], XY[:,1]\n",
    "    E = np.random.normal(loc= 0, scale=sigmaE, size = (n,m,2))\n",
    "\n",
    "    W = E[:,:,0] + X.reshape(n,1)\n",
    "    Z = E[:,:,1] + Y.reshape(n,1)\n",
    "\n",
    "    # First compute a naive correlation estimate\n",
    "    wMeans = np.mean(W,axis=1)\n",
    "    wVarMean = np.var(wMeans) # take vars of means\n",
    "    zMeans = np.mean(Z,axis=1)\n",
    "    zVarMean = np.var(zMeans)\n",
    "    eVarW = np.mean(np.var(W,axis=1)) # take means of vars\n",
    "    eVarZ = np.mean(np.var(Z,axis=1))\n",
    "    eVar = (eVarW + eVarZ) / 2 # good estimate of variance of noise\n",
    "\n",
    "    wzCov = np.cov(wMeans,zMeans)[0,1] # an estimate of covariance of W and Z\n",
    "    # we expect wVarMean to be approx Var(X) + Var(e)/m**2, so we can subtract this off\n",
    "\n",
    "    corrEst = wzCov / np.sqrt((wVarMean - eVar/m) * (zVarMean - eVar/m)) # this is the corrected version\n",
    "    corrs[trial] = corrEst\n",
    "\n",
    "    # MLE approach\n",
    "    if doMLE:\n",
    "        wMean = np.mean(W) # these are the MLE for means, independent of covariance\n",
    "        zMean = np.mean(Z)\n",
    "        wN = W - wMean\n",
    "        zN = Z - zMean\n",
    "        wVar = np.sum(wN**2)\n",
    "        zVar = np.sum(zN**2)\n",
    "        wCrossCov = np.sum(np.sum(wN,axis=1)**2)\n",
    "        zCrossCov = np.sum(np.sum(zN,axis=1)**2)\n",
    "        wzCrossCov = np.dot(np.sum(wN,axis=1),np.sum(zN,axis=1))\n",
    "\n",
    "        #x0 = [vx0, vy0, vxy0, ve0]\n",
    "        x0 = [wVarMean - eVar/m**2, zVarMean - eVar/m**2, wzCov, eVar] # initiate at naive guesses\n",
    "        bnds = ((0, None), (0, None),(None,None),(0,None))\n",
    "        result = scipy.optimize.minimize(negLogLik, x0, bounds = bnds, \n",
    "                                         args = (wVar, zVar, wCrossCov, zCrossCov, wzCrossCov))\n",
    "        params = result.x\n",
    "        paramsMLE[trial] = params\n",
    "        corrsMLE[trial] = params[2] / np.sqrt(params[0] * params[1])\n",
    "\n",
    "print(\"meanEstCorr1, stdstCorr1: \", np.mean(corrs), np.std(corrs))\n",
    "print(\"meanEstCorr2, stdstCorr2: \", np.mean(corrsMLE), np.std(corrsMLE))\n",
    "print(\"RMSE1: \", np.sqrt(np.mean((corrs - corr)**2)))\n",
    "print(\"RMSE2: \", np.sqrt(np.mean((corrsMLE - corr)**2)))\n",
    "\n",
    "plt.clf()\n",
    "plt.hist(corrs,bins=30)\n",
    "plt.hist(corrsMLE,bins=30)\n",
    "\n",
    "plt.show()"
   ]
  },
  {
   "cell_type": "code",
   "execution_count": null,
   "id": "92532fa1",
   "metadata": {},
   "outputs": [],
   "source": []
  }
 ],
 "metadata": {
  "kernelspec": {
   "display_name": "Python 3",
   "language": "python",
   "name": "python3"
  },
  "language_info": {
   "codemirror_mode": {
    "name": "ipython",
    "version": 3
   },
   "file_extension": ".py",
   "mimetype": "text/x-python",
   "name": "python",
   "nbconvert_exporter": "python",
   "pygments_lexer": "ipython3",
   "version": "3.8.8"
  }
 },
 "nbformat": 4,
 "nbformat_minor": 5
}
