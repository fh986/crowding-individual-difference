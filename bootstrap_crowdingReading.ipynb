{
 "cells": [
  {
   "cell_type": "markdown",
   "id": "f2552f3b",
   "metadata": {},
   "source": [
    "#### This notebook bootstraps our pilot crowding thresholds and reading speeds to estimate the 95% CI of our sample correlation.\n",
    "Created Apr 29, 2025"
   ]
  },
  {
   "cell_type": "code",
   "execution_count": 6,
   "id": "fcc683f1",
   "metadata": {},
   "outputs": [],
   "source": [
    "import pandas as pd\n",
    "import numpy as np\n",
    "import matplotlib.pyplot as plt\n",
    "import scipy.stats as stats\n",
    "from scipy.stats import pearsonr, norm, gmean, sem, median_abs_deviation\n",
    "import matplotlib.ticker as ticker\n",
    "import random"
   ]
  },
  {
   "cell_type": "code",
   "execution_count": 7,
   "id": "411360cb",
   "metadata": {},
   "outputs": [],
   "source": [
    "random.seed(42)"
   ]
  },
  {
   "cell_type": "code",
   "execution_count": 8,
   "id": "59b37c7e",
   "metadata": {},
   "outputs": [],
   "source": [
    "# Data from pre-VSS experiment\n",
    "df = pd.read_csv('crowdingReadingAcuity_dec24_cleaned.csv').iloc[:,1:]\n",
    "df['crowding_L5_var'] = np.var(df[['crowding_L5_test', 'crowding_L5_retest']], axis=1)\n",
    "df['crowding_R5_var'] = np.var(df[['crowding_R5_test', 'crowding_R5_retest']], axis=1)"
   ]
  },
  {
   "cell_type": "code",
   "execution_count": 11,
   "id": "b2d60a74",
   "metadata": {},
   "outputs": [
    {
     "data": {
      "text/html": [
       "<div>\n",
       "<style scoped>\n",
       "    .dataframe tbody tr th:only-of-type {\n",
       "        vertical-align: middle;\n",
       "    }\n",
       "\n",
       "    .dataframe tbody tr th {\n",
       "        vertical-align: top;\n",
       "    }\n",
       "\n",
       "    .dataframe thead th {\n",
       "        text-align: right;\n",
       "    }\n",
       "</style>\n",
       "<table border=\"1\" class=\"dataframe\">\n",
       "  <thead>\n",
       "    <tr style=\"text-align: right;\">\n",
       "      <th></th>\n",
       "      <th>participant</th>\n",
       "      <th>ProlificParticipantID</th>\n",
       "      <th>crowding_L5_test</th>\n",
       "      <th>crowding_R5_test</th>\n",
       "      <th>crowding_L5_retest</th>\n",
       "      <th>crowding_R5_retest</th>\n",
       "      <th>reading_Beaver_test</th>\n",
       "      <th>reading_Winter_retest</th>\n",
       "      <th>rsvp_foveal_test</th>\n",
       "      <th>rsvp_foveal_retest</th>\n",
       "      <th>...</th>\n",
       "      <th>crowding_R</th>\n",
       "      <th>crowding_L</th>\n",
       "      <th>crowding</th>\n",
       "      <th>rsvp</th>\n",
       "      <th>reading</th>\n",
       "      <th>crowding_var</th>\n",
       "      <th>rsvp_var</th>\n",
       "      <th>reading_var</th>\n",
       "      <th>crowding_L5_var</th>\n",
       "      <th>crowding_R5_var</th>\n",
       "    </tr>\n",
       "  </thead>\n",
       "  <tbody>\n",
       "    <tr>\n",
       "      <th>0</th>\n",
       "      <td>AlertGreenBat408</td>\n",
       "      <td>5d1e4a3ed4b9d60001ec8f1c</td>\n",
       "      <td>0.115156</td>\n",
       "      <td>0.305483</td>\n",
       "      <td>-0.124971</td>\n",
       "      <td>0.315851</td>\n",
       "      <td>2.115644</td>\n",
       "      <td>2.234645</td>\n",
       "      <td>2.996684</td>\n",
       "      <td>2.964187</td>\n",
       "      <td>...</td>\n",
       "      <td>0.310667</td>\n",
       "      <td>-0.004907</td>\n",
       "      <td>0.152880</td>\n",
       "      <td>2.980435</td>\n",
       "      <td>2.175145</td>\n",
       "      <td>0.042824</td>\n",
       "      <td>0.000528</td>\n",
       "      <td>0.007081</td>\n",
       "      <td>0.014415</td>\n",
       "      <td>0.000027</td>\n",
       "    </tr>\n",
       "    <tr>\n",
       "      <th>1</th>\n",
       "      <td>AlertNeonBat971</td>\n",
       "      <td>5cbab879d7ebf300167feea4</td>\n",
       "      <td>0.127040</td>\n",
       "      <td>-0.130770</td>\n",
       "      <td>0.047602</td>\n",
       "      <td>-0.145697</td>\n",
       "      <td>2.286359</td>\n",
       "      <td>2.408637</td>\n",
       "      <td>3.100061</td>\n",
       "      <td>2.983906</td>\n",
       "      <td>...</td>\n",
       "      <td>-0.138233</td>\n",
       "      <td>0.087321</td>\n",
       "      <td>-0.025456</td>\n",
       "      <td>3.041983</td>\n",
       "      <td>2.347498</td>\n",
       "      <td>0.018047</td>\n",
       "      <td>0.006746</td>\n",
       "      <td>0.007476</td>\n",
       "      <td>0.001578</td>\n",
       "      <td>0.000056</td>\n",
       "    </tr>\n",
       "    <tr>\n",
       "      <th>2</th>\n",
       "      <td>AlertNeonMouse999</td>\n",
       "      <td>66bce8ffb61a51410b552a2d</td>\n",
       "      <td>-0.431417</td>\n",
       "      <td>-0.188759</td>\n",
       "      <td>0.049006</td>\n",
       "      <td>-0.099462</td>\n",
       "      <td>2.495096</td>\n",
       "      <td>2.461877</td>\n",
       "      <td>2.570615</td>\n",
       "      <td>2.943560</td>\n",
       "      <td>...</td>\n",
       "      <td>-0.144110</td>\n",
       "      <td>-0.191206</td>\n",
       "      <td>-0.167658</td>\n",
       "      <td>2.757088</td>\n",
       "      <td>2.478487</td>\n",
       "      <td>0.040536</td>\n",
       "      <td>0.069544</td>\n",
       "      <td>0.000552</td>\n",
       "      <td>0.057701</td>\n",
       "      <td>0.001993</td>\n",
       "    </tr>\n",
       "    <tr>\n",
       "      <th>3</th>\n",
       "      <td>AlertSkyBird989</td>\n",
       "      <td>672501c7bc2f7f52114f2a5e</td>\n",
       "      <td>-0.143431</td>\n",
       "      <td>0.197870</td>\n",
       "      <td>-0.171548</td>\n",
       "      <td>-0.213859</td>\n",
       "      <td>2.508871</td>\n",
       "      <td>2.440305</td>\n",
       "      <td>3.377244</td>\n",
       "      <td>3.466117</td>\n",
       "      <td>...</td>\n",
       "      <td>-0.007995</td>\n",
       "      <td>-0.157489</td>\n",
       "      <td>-0.082742</td>\n",
       "      <td>3.421680</td>\n",
       "      <td>2.474588</td>\n",
       "      <td>0.035835</td>\n",
       "      <td>0.003949</td>\n",
       "      <td>0.002351</td>\n",
       "      <td>0.000198</td>\n",
       "      <td>0.042380</td>\n",
       "    </tr>\n",
       "    <tr>\n",
       "      <th>4</th>\n",
       "      <td>AlertYellowFox366</td>\n",
       "      <td>5f4538b6ffe9f50c3cbe3ae1</td>\n",
       "      <td>0.006815</td>\n",
       "      <td>-0.294273</td>\n",
       "      <td>-0.190656</td>\n",
       "      <td>-0.315644</td>\n",
       "      <td>2.519304</td>\n",
       "      <td>2.594551</td>\n",
       "      <td>2.835489</td>\n",
       "      <td>2.887658</td>\n",
       "      <td>...</td>\n",
       "      <td>-0.304959</td>\n",
       "      <td>-0.091921</td>\n",
       "      <td>-0.198440</td>\n",
       "      <td>2.861573</td>\n",
       "      <td>2.556927</td>\n",
       "      <td>0.021704</td>\n",
       "      <td>0.001361</td>\n",
       "      <td>0.002831</td>\n",
       "      <td>0.009749</td>\n",
       "      <td>0.000114</td>\n",
       "    </tr>\n",
       "  </tbody>\n",
       "</table>\n",
       "<p>5 rows × 22 columns</p>\n",
       "</div>"
      ],
      "text/plain": [
       "         participant     ProlificParticipantID  crowding_L5_test  \\\n",
       "0   AlertGreenBat408  5d1e4a3ed4b9d60001ec8f1c          0.115156   \n",
       "1    AlertNeonBat971  5cbab879d7ebf300167feea4          0.127040   \n",
       "2  AlertNeonMouse999  66bce8ffb61a51410b552a2d         -0.431417   \n",
       "3    AlertSkyBird989  672501c7bc2f7f52114f2a5e         -0.143431   \n",
       "4  AlertYellowFox366  5f4538b6ffe9f50c3cbe3ae1          0.006815   \n",
       "\n",
       "   crowding_R5_test  crowding_L5_retest  crowding_R5_retest  \\\n",
       "0          0.305483           -0.124971            0.315851   \n",
       "1         -0.130770            0.047602           -0.145697   \n",
       "2         -0.188759            0.049006           -0.099462   \n",
       "3          0.197870           -0.171548           -0.213859   \n",
       "4         -0.294273           -0.190656           -0.315644   \n",
       "\n",
       "   reading_Beaver_test  reading_Winter_retest  rsvp_foveal_test  \\\n",
       "0             2.115644               2.234645          2.996684   \n",
       "1             2.286359               2.408637          3.100061   \n",
       "2             2.495096               2.461877          2.570615   \n",
       "3             2.508871               2.440305          3.377244   \n",
       "4             2.519304               2.594551          2.835489   \n",
       "\n",
       "   rsvp_foveal_retest  ...  crowding_R  crowding_L  crowding      rsvp  \\\n",
       "0            2.964187  ...    0.310667   -0.004907  0.152880  2.980435   \n",
       "1            2.983906  ...   -0.138233    0.087321 -0.025456  3.041983   \n",
       "2            2.943560  ...   -0.144110   -0.191206 -0.167658  2.757088   \n",
       "3            3.466117  ...   -0.007995   -0.157489 -0.082742  3.421680   \n",
       "4            2.887658  ...   -0.304959   -0.091921 -0.198440  2.861573   \n",
       "\n",
       "    reading  crowding_var  rsvp_var  reading_var  crowding_L5_var  \\\n",
       "0  2.175145      0.042824  0.000528     0.007081         0.014415   \n",
       "1  2.347498      0.018047  0.006746     0.007476         0.001578   \n",
       "2  2.478487      0.040536  0.069544     0.000552         0.057701   \n",
       "3  2.474588      0.035835  0.003949     0.002351         0.000198   \n",
       "4  2.556927      0.021704  0.001361     0.002831         0.009749   \n",
       "\n",
       "   crowding_R5_var  \n",
       "0         0.000027  \n",
       "1         0.000056  \n",
       "2         0.001993  \n",
       "3         0.042380  \n",
       "4         0.000114  \n",
       "\n",
       "[5 rows x 22 columns]"
      ]
     },
     "execution_count": 11,
     "metadata": {},
     "output_type": "execute_result"
    }
   ],
   "source": [
    "df.head()"
   ]
  },
  {
   "cell_type": "markdown",
   "id": "a2b0c8c6",
   "metadata": {},
   "source": [
    "## Bootstrap and compute 95% CI"
   ]
  },
  {
   "cell_type": "code",
   "execution_count": 12,
   "id": "5380dfbf",
   "metadata": {},
   "outputs": [],
   "source": [
    "def bootstrap_corr_ci(x, y, n_bootstrap=10000, ci=95):\n",
    "    \"\"\"\n",
    "    Bootstrap the Pearson correlation between x and y and return a confidence interval.\n",
    "    x, y: 1D arrays of the same length (e.g., crowding and reading speed)\n",
    "    \n",
    "    Returns:\n",
    "    - lower, upper: bounds of the CI\n",
    "    - boot_corrs: array of bootstrap correlation estimates\n",
    "    \"\"\"\n",
    "    x = np.asarray(x)\n",
    "    y = np.asarray(y)\n",
    "    \n",
    "    n = len(x)\n",
    "    boot_corrs = np.empty(n_bootstrap)\n",
    "    for i in range(n_bootstrap):\n",
    "        idx = np.random.choice(n, size=n, replace=True)\n",
    "        boot_corrs[i] = np.corrcoef(x[idx], y[idx])[0, 1]\n",
    "    \n",
    "    alpha = 100 - ci\n",
    "    lower = np.percentile(boot_corrs, alpha / 2)\n",
    "    upper = np.percentile(boot_corrs, 100 - alpha / 2)\n",
    "    \n",
    "    return lower, upper, boot_corrs"
   ]
  },
  {
   "cell_type": "code",
   "execution_count": 13,
   "id": "3bad55be",
   "metadata": {},
   "outputs": [
    {
     "name": "stdout",
     "output_type": "stream",
     "text": [
      "95% CI for correlation: [-0.679, -0.284]\n"
     ]
    }
   ],
   "source": [
    "lower, upper, boot_corrs = bootstrap_corr_ci(df['crowding'], df['rsvp'], n_bootstrap=10000, ci=95)\n",
    "print(f\"95% CI for correlation: [{lower:.3f}, {upper:.3f}]\")"
   ]
  },
  {
   "cell_type": "code",
   "execution_count": 16,
   "id": "fa31fc12",
   "metadata": {},
   "outputs": [
    {
     "data": {
      "image/png": "[encoded data removed]",
      "text/plain": [
       "<Figure size 432x288 with 1 Axes>"
      ]
     },
     "metadata": {
      "needs_background": "light"
     },
     "output_type": "display_data"
    }
   ],
   "source": [
    "mean_corr = np.mean(boot_corrs)\n",
    "plt.hist(boot_corrs, bins=30)\n",
    "plt.axvline(mean_corr, color='red', linestyle='--', linewidth=2, label=f'Mean = {mean_corr:.3f}')\n",
    "plt.xlabel('Bootstrapped Correlation')\n",
    "plt.ylabel('Frequency')\n",
    "plt.title('Bootstrap Distribution of Correlation\\n(95% CI: [{:.3f}, {:.3f}])'.format(lower, upper))\n",
    "plt.legend()\n",
    "plt.show()"
   ]
  },
  {
   "cell_type": "code",
   "execution_count": 19,
   "id": "e6ba0148",
   "metadata": {},
   "outputs": [
    {
     "data": {
      "text/plain": [
       "-0.516"
      ]
     },
     "execution_count": 19,
     "metadata": {},
     "output_type": "execute_result"
    }
   ],
   "source": [
    "pearsonr(df['crowding'], df['rsvp'])[0].round(3)"
   ]
  },
  {
   "cell_type": "code",
   "execution_count": null,
   "id": "68120810",
   "metadata": {},
   "outputs": [],
   "source": []
  }
 ],
 "metadata": {
  "kernelspec": {
   "display_name": "Python 3",
   "language": "python",
   "name": "python3"
  },
  "language_info": {
   "codemirror_mode": {
    "name": "ipython",
    "version": 3
   },
   "file_extension": ".py",
   "mimetype": "text/x-python",
   "name": "python",
   "nbconvert_exporter": "python",
   "pygments_lexer": "ipython3",
   "version": "3.8.8"
  }
 },
 "nbformat": 4,
 "nbformat_minor": 5
}
