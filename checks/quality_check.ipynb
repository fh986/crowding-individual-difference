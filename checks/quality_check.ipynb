{
 "cells": [
  {
   "cell_type": "markdown",
   "id": "313aeaa2",
   "metadata": {},
   "source": [
    "This notebook is for examining the bugs/warnings, if any, for the crowding experiment."
   ]
  },
  {
   "cell_type": "code",
   "execution_count": 1,
   "id": "1d44a580-e398-466d-a9b2-17e3abc9db91",
   "metadata": {},
   "outputs": [],
   "source": [
    "# !pip install seaborn"
   ]
  },
  {
   "cell_type": "code",
   "execution_count": 2,
   "id": "13f644fd",
   "metadata": {},
   "outputs": [],
   "source": [
    "import os\n",
    "import pandas as pd\n",
    "import numpy as np\n",
    "import matplotlib.pyplot as plt\n",
    "import math\n",
    "import seaborn as sns\n",
    "import scipy.stats as stats"
   ]
  },
  {
   "cell_type": "code",
   "execution_count": 3,
   "id": "ddaa1d94",
   "metadata": {},
   "outputs": [
    {
     "name": "stdout",
     "output_type": "stream",
     "text": [
      "Number of total sessions:  360\n",
      "Number of subjects who completed the second session:  171\n"
     ]
    }
   ],
   "source": [
    "# Set up files\n",
    "dir_firstSess = '../data/corr_firstSess'\n",
    "files_firstSess = [f for f in os.listdir(dir_firstSess) if f.endswith('.csv')]\n",
    "\n",
    "dir_secondSess = '../data/corr_secondSess'\n",
    "files_secondSess = [f for f in os.listdir(dir_secondSess) if f.endswith('.csv')]\n",
    "\n",
    "numTotalSessions = len(files_firstSess) + len(files_secondSess)\n",
    "\n",
    "print('Number of total sessions: ', numTotalSessions)\n",
    "print('Number of subjects who completed the second session: ', len(files_secondSess))"
   ]
  },
  {
   "cell_type": "markdown",
   "id": "2bddc953",
   "metadata": {},
   "source": [
    "# Data cleaning"
   ]
  },
  {
   "cell_type": "markdown",
   "id": "210b9b01",
   "metadata": {},
   "source": [
    "## Acquire thresholds for all tasks"
   ]
  },
  {
   "cell_type": "markdown",
   "id": "e5628276",
   "metadata": {
    "jp-MarkdownHeadingCollapsed": true
   },
   "source": [
    "### Functions:"
   ]
  },
  {
   "cell_type": "code",
   "execution_count": 4,
   "id": "31cb1596",
   "metadata": {},
   "outputs": [],
   "source": [
    "def getThresholds(mydir, files, condition_names, num_trials_per_staircase=35,\n",
    "                    exclude_trial_count_bool=True, exclude_questSD=True):\n",
    "\n",
    "    all_data = []\n",
    "    all_checks = []\n",
    "\n",
    "    numSess = len(files)\n",
    "    numThresholdsCat = len(condition_names)\n",
    "\n",
    "    for sess in range(numSess):\n",
    "\n",
    "        # Read the CSV file\n",
    "        file_path = os.path.join(mydir, files[sess])\n",
    "        mainOutput = pd.read_csv(file_path)\n",
    "        subj_logThresholds = {}\n",
    "\n",
    "        prolificID = mainOutput['ProlificParticipantID'].dropna().iloc[0]\n",
    "        subj_logThresholds['prolificID'] = prolificID\n",
    "                \n",
    "        for cat in range(numThresholdsCat):\n",
    "\n",
    "            cond_qualityCheck = {}\n",
    "\n",
    "            condition_name = condition_names[cat]\n",
    "                        \n",
    "            condition_data = mainOutput[mainOutput['conditionName'] == condition_name]\n",
    "\n",
    "            assert(len(condition_data.questMeanAtEndOfTrialsLoop.dropna()) == 1)\n",
    "            subj_logThresholds[condition_name] = condition_data.questMeanAtEndOfTrialsLoop.dropna().iloc[0]\n",
    "\n",
    "            if exclude_trial_count_bool: \n",
    "                # Count trials sent to quest\n",
    "                trial_sent = condition_data['trialGivenToQuest'] \n",
    "                num_total_count = len(trial_sent) - 1 # the last line is the line for reporting the threshold         \n",
    "                num_trial_sent = sum(str(this_trial) == 'True' for this_trial in trial_sent)\n",
    "                num_trial_not_sent = sum(str(this_trial) == 'False' for this_trial in trial_sent)\n",
    "                trial_sent_bool = num_trial_sent >= num_trials_per_staircase\n",
    "                num_missing_line = sum(trial_sent.isna()) - 1\n",
    "                assert(num_total_count == num_trial_sent + num_trial_not_sent + num_missing_line)\n",
    "\n",
    "                if 'Warning' in condition_data.columns:\n",
    "                    warning_bool = not condition_data['Warning'].isna().all() # Check if there are any warnings\n",
    "                else:\n",
    "                    warning_bool = False\n",
    "\n",
    "                if not trial_sent_bool or warning_bool:\n",
    "                    subj_logThresholds[condition_name] = np.nan\n",
    "                    cond_qualityCheck['fileName'] = files[sess]\n",
    "                    cond_qualityCheck['prolificID'] = prolificID\n",
    "                    cond_qualityCheck['conditionName'] = condition_name\n",
    "                    cond_qualityCheck['numTrialsMissing'] = num_trial_not_sent\n",
    "                    cond_qualityCheck['numLinesMissing'] = num_missing_line\n",
    "                    cond_qualityCheck['warning_bool'] = warning_bool\n",
    "                    all_checks.append(cond_qualityCheck)\n",
    "\n",
    "            if exclude_questSD:\n",
    "                questSD = condition_data['questSDAtEndOfTrialsLoop'].dropna().iloc[0]\n",
    "                small_questSD_bool = questSD < 0.1\n",
    "                if not small_questSD_bool:\n",
    "                    subj_logThresholds[condition_name] = np.nan\n",
    "                    # print(f'Warning2: large SD (Session {sess}, condition {condition_name}, SD = {questSD})')\n",
    "\n",
    "        all_data.append(subj_logThresholds)\n",
    "        \n",
    "        all_data_df = pd.DataFrame(all_data)\n",
    "        all_checks_df = pd.DataFrame(all_checks)\n",
    "        \n",
    "    return all_data_df, all_checks_df\n",
    "            \n"
   ]
  },
  {
   "cell_type": "code",
   "execution_count": 8,
   "id": "f06e24fe",
   "metadata": {
    "scrolled": true
   },
   "outputs": [],
   "source": [
    "# first session\n",
    "\n",
    "thresholds_names_sess1 = ['crowding_R8_block1','crowding_L8_block1',\n",
    "                          'crowding_R8_block2','crowding_L8_block2']\n",
    "df_firstSess = getThresholds(dir_firstSess, files_firstSess, thresholds_names_sess1, exclude_trial_count_bool=True, exclude_questSD=True)"
   ]
  },
  {
   "cell_type": "code",
   "execution_count": 6,
   "id": "c1b68c63",
   "metadata": {
    "scrolled": true
   },
   "outputs": [],
   "source": [
    "# second session\n",
    "\n",
    "thresholds_names_sess2 = ['crowding_R8_block3','crowding_L8_block3',\n",
    "                          'crowding_R8_block4','crowding_L8_block4']\n",
    "df_secondSess = getThresholds(dir_secondSess, files_secondSess, thresholds_names_sess2, exclude_trial_count_bool=True, exclude_questSD=True)\n"
   ]
  },
  {
   "cell_type": "code",
   "execution_count": 9,
   "id": "4a6d95c1",
   "metadata": {
    "scrolled": true
   },
   "outputs": [],
   "source": [
    "# merge data frames\n",
    "df_both_sessions_warning = pd.concat([df_firstSess[1], df_secondSess[1]], ignore_index=True)\n",
    "df_both_sessions_warning = df_both_sessions_warning.sort_values(by='prolificID').reset_index(drop=True)\n",
    "\n",
    "# display(df_both_sessions)\n",
    "# print(df_both_sessions.columns)"
   ]
  },
  {
   "cell_type": "code",
   "execution_count": 10,
   "id": "38d353cc",
   "metadata": {},
   "outputs": [
    {
     "name": "stdout",
     "output_type": "stream",
     "text": [
      "Number of thresholds with not enough trials:  63\n",
      "Number of unique subjects with not enough trials:  26\n",
      "Number of unique sessions with not enough trials:  28\n"
     ]
    }
   ],
   "source": [
    "print('Number of thresholds with not enough trials: ', len(df_both_sessions_warning))\n",
    "print('Number of unique subjects with not enough trials: ', len(df_both_sessions_warning['prolificID'].unique()))\n",
    "print('Number of unique sessions with not enough trials: ', len(df_both_sessions_warning['fileName'].unique()))\n",
    "\n"
   ]
  },
  {
   "cell_type": "code",
   "execution_count": 11,
   "id": "cf710348",
   "metadata": {},
   "outputs": [],
   "source": [
    "df_both_sessions_warning.to_csv('df_both_sessions_warning.csv', index=False)"
   ]
  },
  {
   "cell_type": "markdown",
   "id": "2d38f233",
   "metadata": {},
   "source": [
    "## Report\n",
    "From the output, it is shown that for all thresholds/staircases with fewer than 35 trials being sent to quest, none of the incidence happened because of letter falling off the screen. In fact, no one who participanted in this experienment received any warning messages in either sessions.\n",
    "\n",
    "Only one subject ('67486ef5b88595ed8d20fe7c') experienced this in both sessions 1 and 2."
   ]
  },
  {
   "cell_type": "markdown",
   "id": "7968ff02",
   "metadata": {},
   "source": []
  }
 ],
 "metadata": {
  "kernelspec": {
   "display_name": "Python 3",
   "language": "python",
   "name": "python3"
  },
  "language_info": {
   "codemirror_mode": {
    "name": "ipython",
    "version": 3
   },
   "file_extension": ".py",
   "mimetype": "text/x-python",
   "name": "python",
   "nbconvert_exporter": "python",
   "pygments_lexer": "ipython3",
   "version": "3.13.2"
  }
 },
 "nbformat": 4,
 "nbformat_minor": 5
}
